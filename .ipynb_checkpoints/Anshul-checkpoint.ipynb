{
 "cells": [
  {
   "cell_type": "markdown",
   "id": "parallel-gabriel",
   "metadata": {},
   "source": [
    "# INDIA AIR QUALITY DATA ANALYSIS, VISUALISATION AND PREDICTION\n",
    "<h6>Project by: Anshul, Sehej, Sujit</h6>\n",
    "<h6>Place: IIIT, Jabalpur</h6>\n",
    "<h6>Supervisor: Dr.Kusum Kumar Bharti</h6>\n"
   ]
  },
  {
   "cell_type": "markdown",
   "id": "interstate-coaching",
   "metadata": {},
   "source": [
    "# <h2>Aim</h2>\n",
    "\n",
    "<p>To do data analysis on India Air Quality data and predict tha value of Air Quality Index based on given features of concentration of sulphur dioxide,nitrogen dioxide, respirable suspended particualte matter, suspended particulate matter and classify the Air Quality as good, moderate, poor, unhealthy, healthy, or hazardous.</p>\n",
    "\n",
    "<p>The data is combined(across the years and states) and largely clean version of the Historical Daily Ambient Air Quality Data released by the Ministry of Environment and Forests and Central Pollution Control Board of India under the National Data Sharing and Accessibility Policy (NDSAP)\n",
    "year 1990-2015</p>\n",
    "\n",
    "<h4><p>The columns are</h4>\n",
    "<li>stn_code (station code)</li>\n",
    "<li>sampling_date (date of sample collection)</li>\n",
    "<li>state (Indian State)</li>\n",
    "<li>location (location of sample collection)</li>\n",
    "<li>agency</li>\n",
    "<li>type (type of area)</li>\n",
    "<li>so2 (sulphur dioxide concentration)</li>\n",
    "<li>no2 (nitrogen dioxide concentration)</li>\n",
    "<li>rspm (respirable suspended particualte matter concentration)</li>\n",
    "<li>spm (suspended particulate matter)</li>\n",
    "<li>location_monitoring_station</li>\n",
    "<li>pm2_5 (particulate matter 2.5)</li>\t\n",
    "<li>date</li>\n",
    "\n",
    "</p>\n"
   ]
  },
  {
   "cell_type": "code",
   "execution_count": 1,
   "id": "commercial-guest",
   "metadata": {},
   "outputs": [],
   "source": [
    "import numpy as np \n",
    "import pandas as pd \n",
    "import seaborn as sns\n",
    "import matplotlib.pyplot as plt\n",
    "import time\n",
    "import math\n",
    "import datetime\n",
    "from datetime import timedelta\n",
    "from sklearn.model_selection import train_test_split\n",
    "from sklearn.linear_model import LinearRegression \n",
    "from sklearn.metrics import r2_score, mean_squared_error, mean_absolute_error , mean_squared_log_error\n",
    "from sklearn.model_selection import KFold, cross_val_score\n",
    "from sklearn.linear_model import LinearRegression\n",
    "from sklearn.tree import DecisionTreeRegressor\n",
    "from sklearn.ensemble import RandomForestRegressor\n",
    "from sklearn.svm import SVR\n",
    "from sklearn.preprocessing import StandardScaler\n",
    "from sklearn.pipeline import make_pipeline"
   ]
  },
  {
   "cell_type": "code",
   "execution_count": 2,
   "id": "assured-binary",
   "metadata": {},
   "outputs": [],
   "source": [
    "data = pd.read_csv(r'C:\\Users\\anshu\\OneDrive\\Desktop\\College\\SEM 6\\ml kkb oe6b\\Project\\data.csv', encoding='cp1252',  low_memory=False)"
   ]
  },
  {
   "cell_type": "code",
   "execution_count": 3,
   "id": "rocky-sociology",
   "metadata": {},
   "outputs": [
    {
     "data": {
      "text/html": [
       "<div>\n",
       "<style scoped>\n",
       "    .dataframe tbody tr th:only-of-type {\n",
       "        vertical-align: middle;\n",
       "    }\n",
       "\n",
       "    .dataframe tbody tr th {\n",
       "        vertical-align: top;\n",
       "    }\n",
       "\n",
       "    .dataframe thead th {\n",
       "        text-align: right;\n",
       "    }\n",
       "</style>\n",
       "<table border=\"1\" class=\"dataframe\">\n",
       "  <thead>\n",
       "    <tr style=\"text-align: right;\">\n",
       "      <th></th>\n",
       "      <th>stn_code</th>\n",
       "      <th>sampling_date</th>\n",
       "      <th>state</th>\n",
       "      <th>location</th>\n",
       "      <th>agency</th>\n",
       "      <th>type</th>\n",
       "      <th>so2</th>\n",
       "      <th>no2</th>\n",
       "      <th>rspm</th>\n",
       "      <th>spm</th>\n",
       "      <th>location_monitoring_station</th>\n",
       "      <th>pm2_5</th>\n",
       "      <th>date</th>\n",
       "    </tr>\n",
       "  </thead>\n",
       "  <tbody>\n",
       "    <tr>\n",
       "      <th>0</th>\n",
       "      <td>150</td>\n",
       "      <td>February - M021990</td>\n",
       "      <td>Andhra Pradesh</td>\n",
       "      <td>Hyderabad</td>\n",
       "      <td>NaN</td>\n",
       "      <td>Residential, Rural and other Areas</td>\n",
       "      <td>4.8</td>\n",
       "      <td>17.4</td>\n",
       "      <td>NaN</td>\n",
       "      <td>NaN</td>\n",
       "      <td>NaN</td>\n",
       "      <td>NaN</td>\n",
       "      <td>1990-02-01</td>\n",
       "    </tr>\n",
       "    <tr>\n",
       "      <th>1</th>\n",
       "      <td>151</td>\n",
       "      <td>February - M021990</td>\n",
       "      <td>Andhra Pradesh</td>\n",
       "      <td>Hyderabad</td>\n",
       "      <td>NaN</td>\n",
       "      <td>Industrial Area</td>\n",
       "      <td>3.1</td>\n",
       "      <td>7.0</td>\n",
       "      <td>NaN</td>\n",
       "      <td>NaN</td>\n",
       "      <td>NaN</td>\n",
       "      <td>NaN</td>\n",
       "      <td>1990-02-01</td>\n",
       "    </tr>\n",
       "    <tr>\n",
       "      <th>2</th>\n",
       "      <td>152</td>\n",
       "      <td>February - M021990</td>\n",
       "      <td>Andhra Pradesh</td>\n",
       "      <td>Hyderabad</td>\n",
       "      <td>NaN</td>\n",
       "      <td>Residential, Rural and other Areas</td>\n",
       "      <td>6.2</td>\n",
       "      <td>28.5</td>\n",
       "      <td>NaN</td>\n",
       "      <td>NaN</td>\n",
       "      <td>NaN</td>\n",
       "      <td>NaN</td>\n",
       "      <td>1990-02-01</td>\n",
       "    </tr>\n",
       "    <tr>\n",
       "      <th>3</th>\n",
       "      <td>150</td>\n",
       "      <td>March - M031990</td>\n",
       "      <td>Andhra Pradesh</td>\n",
       "      <td>Hyderabad</td>\n",
       "      <td>NaN</td>\n",
       "      <td>Residential, Rural and other Areas</td>\n",
       "      <td>6.3</td>\n",
       "      <td>14.7</td>\n",
       "      <td>NaN</td>\n",
       "      <td>NaN</td>\n",
       "      <td>NaN</td>\n",
       "      <td>NaN</td>\n",
       "      <td>1990-03-01</td>\n",
       "    </tr>\n",
       "    <tr>\n",
       "      <th>4</th>\n",
       "      <td>151</td>\n",
       "      <td>March - M031990</td>\n",
       "      <td>Andhra Pradesh</td>\n",
       "      <td>Hyderabad</td>\n",
       "      <td>NaN</td>\n",
       "      <td>Industrial Area</td>\n",
       "      <td>4.7</td>\n",
       "      <td>7.5</td>\n",
       "      <td>NaN</td>\n",
       "      <td>NaN</td>\n",
       "      <td>NaN</td>\n",
       "      <td>NaN</td>\n",
       "      <td>1990-03-01</td>\n",
       "    </tr>\n",
       "  </tbody>\n",
       "</table>\n",
       "</div>"
      ],
      "text/plain": [
       "  stn_code       sampling_date           state   location agency  \\\n",
       "0      150  February - M021990  Andhra Pradesh  Hyderabad    NaN   \n",
       "1      151  February - M021990  Andhra Pradesh  Hyderabad    NaN   \n",
       "2      152  February - M021990  Andhra Pradesh  Hyderabad    NaN   \n",
       "3      150     March - M031990  Andhra Pradesh  Hyderabad    NaN   \n",
       "4      151     March - M031990  Andhra Pradesh  Hyderabad    NaN   \n",
       "\n",
       "                                 type  so2   no2  rspm  spm  \\\n",
       "0  Residential, Rural and other Areas  4.8  17.4   NaN  NaN   \n",
       "1                     Industrial Area  3.1   7.0   NaN  NaN   \n",
       "2  Residential, Rural and other Areas  6.2  28.5   NaN  NaN   \n",
       "3  Residential, Rural and other Areas  6.3  14.7   NaN  NaN   \n",
       "4                     Industrial Area  4.7   7.5   NaN  NaN   \n",
       "\n",
       "  location_monitoring_station  pm2_5        date  \n",
       "0                         NaN    NaN  1990-02-01  \n",
       "1                         NaN    NaN  1990-02-01  \n",
       "2                         NaN    NaN  1990-02-01  \n",
       "3                         NaN    NaN  1990-03-01  \n",
       "4                         NaN    NaN  1990-03-01  "
      ]
     },
     "execution_count": 3,
     "metadata": {},
     "output_type": "execute_result"
    }
   ],
   "source": [
    "data.head()"
   ]
  },
  {
   "cell_type": "code",
   "execution_count": 4,
   "id": "electronic-northeast",
   "metadata": {},
   "outputs": [
    {
     "data": {
      "text/html": [
       "<div>\n",
       "<style scoped>\n",
       "    .dataframe tbody tr th:only-of-type {\n",
       "        vertical-align: middle;\n",
       "    }\n",
       "\n",
       "    .dataframe tbody tr th {\n",
       "        vertical-align: top;\n",
       "    }\n",
       "\n",
       "    .dataframe thead th {\n",
       "        text-align: right;\n",
       "    }\n",
       "</style>\n",
       "<table border=\"1\" class=\"dataframe\">\n",
       "  <thead>\n",
       "    <tr style=\"text-align: right;\">\n",
       "      <th></th>\n",
       "      <th>stn_code</th>\n",
       "      <th>sampling_date</th>\n",
       "      <th>state</th>\n",
       "      <th>location</th>\n",
       "      <th>agency</th>\n",
       "      <th>type</th>\n",
       "      <th>so2</th>\n",
       "      <th>no2</th>\n",
       "      <th>rspm</th>\n",
       "      <th>spm</th>\n",
       "      <th>location_monitoring_station</th>\n",
       "      <th>pm2_5</th>\n",
       "      <th>date</th>\n",
       "    </tr>\n",
       "  </thead>\n",
       "  <tbody>\n",
       "    <tr>\n",
       "      <th>435737</th>\n",
       "      <td>SAMP</td>\n",
       "      <td>24-12-15</td>\n",
       "      <td>West Bengal</td>\n",
       "      <td>ULUBERIA</td>\n",
       "      <td>West Bengal State Pollution Control Board</td>\n",
       "      <td>RIRUO</td>\n",
       "      <td>22.0</td>\n",
       "      <td>50.0</td>\n",
       "      <td>143.0</td>\n",
       "      <td>NaN</td>\n",
       "      <td>Inside Rampal Industries,ULUBERIA</td>\n",
       "      <td>NaN</td>\n",
       "      <td>2015-12-24</td>\n",
       "    </tr>\n",
       "    <tr>\n",
       "      <th>435738</th>\n",
       "      <td>SAMP</td>\n",
       "      <td>29-12-15</td>\n",
       "      <td>West Bengal</td>\n",
       "      <td>ULUBERIA</td>\n",
       "      <td>West Bengal State Pollution Control Board</td>\n",
       "      <td>RIRUO</td>\n",
       "      <td>20.0</td>\n",
       "      <td>46.0</td>\n",
       "      <td>171.0</td>\n",
       "      <td>NaN</td>\n",
       "      <td>Inside Rampal Industries,ULUBERIA</td>\n",
       "      <td>NaN</td>\n",
       "      <td>2015-12-29</td>\n",
       "    </tr>\n",
       "    <tr>\n",
       "      <th>435739</th>\n",
       "      <td>NaN</td>\n",
       "      <td>NaN</td>\n",
       "      <td>andaman-and-nicobar-islands</td>\n",
       "      <td>NaN</td>\n",
       "      <td>NaN</td>\n",
       "      <td>NaN</td>\n",
       "      <td>NaN</td>\n",
       "      <td>NaN</td>\n",
       "      <td>NaN</td>\n",
       "      <td>NaN</td>\n",
       "      <td>NaN</td>\n",
       "      <td>NaN</td>\n",
       "      <td>NaN</td>\n",
       "    </tr>\n",
       "    <tr>\n",
       "      <th>435740</th>\n",
       "      <td>NaN</td>\n",
       "      <td>NaN</td>\n",
       "      <td>Lakshadweep</td>\n",
       "      <td>NaN</td>\n",
       "      <td>NaN</td>\n",
       "      <td>NaN</td>\n",
       "      <td>NaN</td>\n",
       "      <td>NaN</td>\n",
       "      <td>NaN</td>\n",
       "      <td>NaN</td>\n",
       "      <td>NaN</td>\n",
       "      <td>NaN</td>\n",
       "      <td>NaN</td>\n",
       "    </tr>\n",
       "    <tr>\n",
       "      <th>435741</th>\n",
       "      <td>NaN</td>\n",
       "      <td>NaN</td>\n",
       "      <td>Tripura</td>\n",
       "      <td>NaN</td>\n",
       "      <td>NaN</td>\n",
       "      <td>NaN</td>\n",
       "      <td>NaN</td>\n",
       "      <td>NaN</td>\n",
       "      <td>NaN</td>\n",
       "      <td>NaN</td>\n",
       "      <td>NaN</td>\n",
       "      <td>NaN</td>\n",
       "      <td>NaN</td>\n",
       "    </tr>\n",
       "  </tbody>\n",
       "</table>\n",
       "</div>"
      ],
      "text/plain": [
       "       stn_code sampling_date                        state  location  \\\n",
       "435737     SAMP      24-12-15                  West Bengal  ULUBERIA   \n",
       "435738     SAMP      29-12-15                  West Bengal  ULUBERIA   \n",
       "435739      NaN           NaN  andaman-and-nicobar-islands       NaN   \n",
       "435740      NaN           NaN                  Lakshadweep       NaN   \n",
       "435741      NaN           NaN                      Tripura       NaN   \n",
       "\n",
       "                                           agency   type   so2   no2   rspm  \\\n",
       "435737  West Bengal State Pollution Control Board  RIRUO  22.0  50.0  143.0   \n",
       "435738  West Bengal State Pollution Control Board  RIRUO  20.0  46.0  171.0   \n",
       "435739                                        NaN    NaN   NaN   NaN    NaN   \n",
       "435740                                        NaN    NaN   NaN   NaN    NaN   \n",
       "435741                                        NaN    NaN   NaN   NaN    NaN   \n",
       "\n",
       "        spm        location_monitoring_station  pm2_5        date  \n",
       "435737  NaN  Inside Rampal Industries,ULUBERIA    NaN  2015-12-24  \n",
       "435738  NaN  Inside Rampal Industries,ULUBERIA    NaN  2015-12-29  \n",
       "435739  NaN                                NaN    NaN         NaN  \n",
       "435740  NaN                                NaN    NaN         NaN  \n",
       "435741  NaN                                NaN    NaN         NaN  "
      ]
     },
     "execution_count": 4,
     "metadata": {},
     "output_type": "execute_result"
    }
   ],
   "source": [
    "data.tail()"
   ]
  },
  {
   "cell_type": "code",
   "execution_count": 5,
   "id": "proper-livestock",
   "metadata": {},
   "outputs": [
    {
     "data": {
      "text/plain": [
       "Index(['stn_code', 'sampling_date', 'state', 'location', 'agency', 'type',\n",
       "       'so2', 'no2', 'rspm', 'spm', 'location_monitoring_station', 'pm2_5',\n",
       "       'date'],\n",
       "      dtype='object')"
      ]
     },
     "execution_count": 5,
     "metadata": {},
     "output_type": "execute_result"
    }
   ],
   "source": [
    "data.columns"
   ]
  },
  {
   "cell_type": "code",
   "execution_count": 6,
   "id": "sacred-block",
   "metadata": {},
   "outputs": [],
   "source": [
    "# x = ['stn_code', 'sampling_date', 'state', 'location', 'agency', 'type','so2', 'no2', 'rspm', 'spm', 'location_monitoring_station', 'pm2_5','date']\n",
    "\n",
    "# if list(data.columns) == x:\n",
    "#     print('yes')\n",
    "# else:\n",
    "#     print('no')"
   ]
  },
  {
   "cell_type": "code",
   "execution_count": 7,
   "id": "criminal-australian",
   "metadata": {},
   "outputs": [
    {
     "data": {
      "text/html": [
       "<div>\n",
       "<style scoped>\n",
       "    .dataframe tbody tr th:only-of-type {\n",
       "        vertical-align: middle;\n",
       "    }\n",
       "\n",
       "    .dataframe tbody tr th {\n",
       "        vertical-align: top;\n",
       "    }\n",
       "\n",
       "    .dataframe thead th {\n",
       "        text-align: right;\n",
       "    }\n",
       "</style>\n",
       "<table border=\"1\" class=\"dataframe\">\n",
       "  <thead>\n",
       "    <tr style=\"text-align: right;\">\n",
       "      <th></th>\n",
       "      <th>so2</th>\n",
       "      <th>no2</th>\n",
       "      <th>rspm</th>\n",
       "      <th>spm</th>\n",
       "      <th>pm2_5</th>\n",
       "    </tr>\n",
       "  </thead>\n",
       "  <tbody>\n",
       "    <tr>\n",
       "      <th>count</th>\n",
       "      <td>401096.000000</td>\n",
       "      <td>419509.000000</td>\n",
       "      <td>395520.000000</td>\n",
       "      <td>198355.000000</td>\n",
       "      <td>9314.000000</td>\n",
       "    </tr>\n",
       "    <tr>\n",
       "      <th>mean</th>\n",
       "      <td>10.829414</td>\n",
       "      <td>25.809623</td>\n",
       "      <td>108.832784</td>\n",
       "      <td>220.783480</td>\n",
       "      <td>40.791467</td>\n",
       "    </tr>\n",
       "    <tr>\n",
       "      <th>std</th>\n",
       "      <td>11.177187</td>\n",
       "      <td>18.503086</td>\n",
       "      <td>74.872430</td>\n",
       "      <td>151.395457</td>\n",
       "      <td>30.832525</td>\n",
       "    </tr>\n",
       "    <tr>\n",
       "      <th>min</th>\n",
       "      <td>0.000000</td>\n",
       "      <td>0.000000</td>\n",
       "      <td>0.000000</td>\n",
       "      <td>0.000000</td>\n",
       "      <td>3.000000</td>\n",
       "    </tr>\n",
       "    <tr>\n",
       "      <th>25%</th>\n",
       "      <td>5.000000</td>\n",
       "      <td>14.000000</td>\n",
       "      <td>56.000000</td>\n",
       "      <td>111.000000</td>\n",
       "      <td>24.000000</td>\n",
       "    </tr>\n",
       "    <tr>\n",
       "      <th>50%</th>\n",
       "      <td>8.000000</td>\n",
       "      <td>22.000000</td>\n",
       "      <td>90.000000</td>\n",
       "      <td>187.000000</td>\n",
       "      <td>32.000000</td>\n",
       "    </tr>\n",
       "    <tr>\n",
       "      <th>75%</th>\n",
       "      <td>13.700000</td>\n",
       "      <td>32.200000</td>\n",
       "      <td>142.000000</td>\n",
       "      <td>296.000000</td>\n",
       "      <td>46.000000</td>\n",
       "    </tr>\n",
       "    <tr>\n",
       "      <th>max</th>\n",
       "      <td>909.000000</td>\n",
       "      <td>876.000000</td>\n",
       "      <td>6307.033333</td>\n",
       "      <td>3380.000000</td>\n",
       "      <td>504.000000</td>\n",
       "    </tr>\n",
       "  </tbody>\n",
       "</table>\n",
       "</div>"
      ],
      "text/plain": [
       "                 so2            no2           rspm            spm        pm2_5\n",
       "count  401096.000000  419509.000000  395520.000000  198355.000000  9314.000000\n",
       "mean       10.829414      25.809623     108.832784     220.783480    40.791467\n",
       "std        11.177187      18.503086      74.872430     151.395457    30.832525\n",
       "min         0.000000       0.000000       0.000000       0.000000     3.000000\n",
       "25%         5.000000      14.000000      56.000000     111.000000    24.000000\n",
       "50%         8.000000      22.000000      90.000000     187.000000    32.000000\n",
       "75%        13.700000      32.200000     142.000000     296.000000    46.000000\n",
       "max       909.000000     876.000000    6307.033333    3380.000000   504.000000"
      ]
     },
     "execution_count": 7,
     "metadata": {},
     "output_type": "execute_result"
    }
   ],
   "source": [
    "data.describe()"
   ]
  },
  {
   "cell_type": "code",
   "execution_count": 8,
   "id": "japanese-camera",
   "metadata": {},
   "outputs": [
    {
     "data": {
      "text/plain": [
       "<AxesSubplot:>"
      ]
     },
     "execution_count": 8,
     "metadata": {},
     "output_type": "execute_result"
    },
    {
     "data": {
      "image/png": "[encoded data removed]",
      "text/plain": [
       "<Figure size 720x720 with 2 Axes>"
      ]
     },
     "metadata": {
      "needs_background": "light"
     },
     "output_type": "display_data"
    }
   ],
   "source": [
    "plt.figure(figsize = (10,10))\n",
    "sns.heatmap(data.corr(), annot=True, cmap='RdYlGn')"
   ]
  },
  {
   "cell_type": "markdown",
   "id": "through-daniel",
   "metadata": {},
   "source": [
    "# DATA SHAPE (DIMENSION)"
   ]
  },
  {
   "cell_type": "code",
   "execution_count": 9,
   "id": "outdoor-handling",
   "metadata": {},
   "outputs": [
    {
     "data": {
      "text/plain": [
       "stn_code                       144077\n",
       "sampling_date                       3\n",
       "state                               0\n",
       "location                            3\n",
       "agency                         149481\n",
       "type                             5393\n",
       "so2                             34646\n",
       "no2                             16233\n",
       "rspm                            40222\n",
       "spm                            237387\n",
       "location_monitoring_station     27491\n",
       "pm2_5                          426428\n",
       "date                                7\n",
       "dtype: int64"
      ]
     },
     "execution_count": 9,
     "metadata": {},
     "output_type": "execute_result"
    }
   ],
   "source": [
    "data.isna().sum()"
   ]
  },
  {
   "cell_type": "code",
   "execution_count": 10,
   "id": "loaded-forty",
   "metadata": {},
   "outputs": [
    {
     "data": {
      "text/plain": [
       "(435742, 13)"
      ]
     },
     "execution_count": 10,
     "metadata": {},
     "output_type": "execute_result"
    }
   ],
   "source": [
    "data.shape "
   ]
  },
  {
   "cell_type": "markdown",
   "id": "genetic-cleveland",
   "metadata": {},
   "source": [
    "# Visualization for states with highest pollutants"
   ]
  },
  {
   "cell_type": "code",
   "execution_count": 11,
   "id": "determined-prairie",
   "metadata": {},
   "outputs": [
    {
     "data": {
      "image/png": "[encoded data removed]",
      "text/plain": [
       "<Figure size 432x288 with 1 Axes>"
      ]
     },
     "metadata": {
      "needs_background": "light"
     },
     "output_type": "display_data"
    }
   ],
   "source": [
    "data[['so2','state']].groupby([\"state\"]).mean().sort_values(by='so2').head(20).plot.bar(color='b')\n",
    "plt.show() "
   ]
  },
  {
   "cell_type": "code",
   "execution_count": 12,
   "id": "hundred-participation",
   "metadata": {},
   "outputs": [
    {
     "data": {
      "image/png": "[encoded data removed]",
      "text/plain": [
       "<Figure size 432x288 with 1 Axes>"
      ]
     },
     "metadata": {
      "needs_background": "light"
     },
     "output_type": "display_data"
    }
   ],
   "source": [
    "data[['no2','state']].groupby([\"state\"]).mean().sort_values(by='no2').plot.bar(color='g')\n",
    "plt.show()"
   ]
  },
  {
   "cell_type": "code",
   "execution_count": 13,
   "id": "least-receiver",
   "metadata": {},
   "outputs": [
    {
     "data": {
      "image/png": "[encoded data removed]",
      "text/plain": [
       "<Figure size 432x288 with 1 Axes>"
      ]
     },
     "metadata": {
      "needs_background": "light"
     },
     "output_type": "display_data"
    }
   ],
   "source": [
    "data[['spm','state']].groupby([\"state\"]).mean().sort_values(by='spm').plot.bar(color='b')\n",
    "plt.show()"
   ]
  },
  {
   "cell_type": "code",
   "execution_count": 14,
   "id": "pressing-seeker",
   "metadata": {},
   "outputs": [
    {
     "data": {
      "image/png": "[encoded data removed]",
      "text/plain": [
       "<Figure size 432x288 with 1 Axes>"
      ]
     },
     "metadata": {
      "needs_background": "light"
     },
     "output_type": "display_data"
    }
   ],
   "source": [
    "data[['rspm','state']].groupby([\"state\"]).mean().sort_values(by='rspm').plot.bar(color='r')\n",
    "plt.show()"
   ]
  },
  {
   "cell_type": "markdown",
   "id": "increased-stopping",
   "metadata": {},
   "source": [
    "# DROP UNNECESSARY COLUMN"
   ]
  },
  {
   "cell_type": "code",
   "execution_count": 15,
   "id": "lucky-purchase",
   "metadata": {},
   "outputs": [],
   "source": [
    "data.drop(['stn_code','agency','sampling_date','location_monitoring_station', 'type','pm2_5'],axis=1,inplace=True) "
   ]
  },
  {
   "cell_type": "code",
   "execution_count": 16,
   "id": "honey-wyoming",
   "metadata": {},
   "outputs": [
    {
     "data": {
      "text/html": [
       "<div>\n",
       "<style scoped>\n",
       "    .dataframe tbody tr th:only-of-type {\n",
       "        vertical-align: middle;\n",
       "    }\n",
       "\n",
       "    .dataframe tbody tr th {\n",
       "        vertical-align: top;\n",
       "    }\n",
       "\n",
       "    .dataframe thead th {\n",
       "        text-align: right;\n",
       "    }\n",
       "</style>\n",
       "<table border=\"1\" class=\"dataframe\">\n",
       "  <thead>\n",
       "    <tr style=\"text-align: right;\">\n",
       "      <th></th>\n",
       "      <th>state</th>\n",
       "      <th>location</th>\n",
       "      <th>so2</th>\n",
       "      <th>no2</th>\n",
       "      <th>rspm</th>\n",
       "      <th>spm</th>\n",
       "      <th>date</th>\n",
       "    </tr>\n",
       "  </thead>\n",
       "  <tbody>\n",
       "    <tr>\n",
       "      <th>0</th>\n",
       "      <td>Andhra Pradesh</td>\n",
       "      <td>Hyderabad</td>\n",
       "      <td>4.8</td>\n",
       "      <td>17.4</td>\n",
       "      <td>NaN</td>\n",
       "      <td>NaN</td>\n",
       "      <td>1990-02-01</td>\n",
       "    </tr>\n",
       "    <tr>\n",
       "      <th>1</th>\n",
       "      <td>Andhra Pradesh</td>\n",
       "      <td>Hyderabad</td>\n",
       "      <td>3.1</td>\n",
       "      <td>7.0</td>\n",
       "      <td>NaN</td>\n",
       "      <td>NaN</td>\n",
       "      <td>1990-02-01</td>\n",
       "    </tr>\n",
       "    <tr>\n",
       "      <th>2</th>\n",
       "      <td>Andhra Pradesh</td>\n",
       "      <td>Hyderabad</td>\n",
       "      <td>6.2</td>\n",
       "      <td>28.5</td>\n",
       "      <td>NaN</td>\n",
       "      <td>NaN</td>\n",
       "      <td>1990-02-01</td>\n",
       "    </tr>\n",
       "    <tr>\n",
       "      <th>3</th>\n",
       "      <td>Andhra Pradesh</td>\n",
       "      <td>Hyderabad</td>\n",
       "      <td>6.3</td>\n",
       "      <td>14.7</td>\n",
       "      <td>NaN</td>\n",
       "      <td>NaN</td>\n",
       "      <td>1990-03-01</td>\n",
       "    </tr>\n",
       "    <tr>\n",
       "      <th>4</th>\n",
       "      <td>Andhra Pradesh</td>\n",
       "      <td>Hyderabad</td>\n",
       "      <td>4.7</td>\n",
       "      <td>7.5</td>\n",
       "      <td>NaN</td>\n",
       "      <td>NaN</td>\n",
       "      <td>1990-03-01</td>\n",
       "    </tr>\n",
       "  </tbody>\n",
       "</table>\n",
       "</div>"
      ],
      "text/plain": [
       "            state   location  so2   no2  rspm  spm        date\n",
       "0  Andhra Pradesh  Hyderabad  4.8  17.4   NaN  NaN  1990-02-01\n",
       "1  Andhra Pradesh  Hyderabad  3.1   7.0   NaN  NaN  1990-02-01\n",
       "2  Andhra Pradesh  Hyderabad  6.2  28.5   NaN  NaN  1990-02-01\n",
       "3  Andhra Pradesh  Hyderabad  6.3  14.7   NaN  NaN  1990-03-01\n",
       "4  Andhra Pradesh  Hyderabad  4.7   7.5   NaN  NaN  1990-03-01"
      ]
     },
     "execution_count": 16,
     "metadata": {},
     "output_type": "execute_result"
    }
   ],
   "source": [
    "data.head()"
   ]
  },
  {
   "cell_type": "markdown",
   "id": "noted-shannon",
   "metadata": {},
   "source": [
    "# CALCULATE TOTAL MISSING VALUES AND THEIR PERCENTAGE"
   ]
  },
  {
   "cell_type": "code",
   "execution_count": 17,
   "id": "wireless-tractor",
   "metadata": {},
   "outputs": [],
   "source": [
    "total = data.isnull().sum().sort_values(ascending=False) "
   ]
  },
  {
   "cell_type": "code",
   "execution_count": 18,
   "id": "sitting-assurance",
   "metadata": {},
   "outputs": [
    {
     "data": {
      "text/plain": [
       "spm     237387\n",
       "rspm     40222\n",
       "so2      34646\n",
       "no2      16233\n",
       "date         7\n",
       "dtype: int64"
      ]
     },
     "execution_count": 18,
     "metadata": {},
     "output_type": "execute_result"
    }
   ],
   "source": [
    "total.head()"
   ]
  },
  {
   "cell_type": "code",
   "execution_count": 19,
   "id": "smart-kidney",
   "metadata": {},
   "outputs": [],
   "source": [
    "percent = (data.isnull().sum()/data.isnull().count()*100).sort_values(ascending=False)  #count(returns Non-NAN value)"
   ]
  },
  {
   "cell_type": "code",
   "execution_count": 20,
   "id": "serial-terminal",
   "metadata": {},
   "outputs": [],
   "source": [
    "missing_data = pd.concat([total, percent], axis=1, keys=['Total', 'Percent'])"
   ]
  },
  {
   "cell_type": "code",
   "execution_count": 21,
   "id": "egyptian-drama",
   "metadata": {},
   "outputs": [
    {
     "data": {
      "text/html": [
       "<div>\n",
       "<style scoped>\n",
       "    .dataframe tbody tr th:only-of-type {\n",
       "        vertical-align: middle;\n",
       "    }\n",
       "\n",
       "    .dataframe tbody tr th {\n",
       "        vertical-align: top;\n",
       "    }\n",
       "\n",
       "    .dataframe thead th {\n",
       "        text-align: right;\n",
       "    }\n",
       "</style>\n",
       "<table border=\"1\" class=\"dataframe\">\n",
       "  <thead>\n",
       "    <tr style=\"text-align: right;\">\n",
       "      <th></th>\n",
       "      <th>Total</th>\n",
       "      <th>Percent</th>\n",
       "    </tr>\n",
       "  </thead>\n",
       "  <tbody>\n",
       "    <tr>\n",
       "      <th>spm</th>\n",
       "      <td>237387</td>\n",
       "      <td>54.478797</td>\n",
       "    </tr>\n",
       "    <tr>\n",
       "      <th>rspm</th>\n",
       "      <td>40222</td>\n",
       "      <td>9.230692</td>\n",
       "    </tr>\n",
       "    <tr>\n",
       "      <th>so2</th>\n",
       "      <td>34646</td>\n",
       "      <td>7.951035</td>\n",
       "    </tr>\n",
       "    <tr>\n",
       "      <th>no2</th>\n",
       "      <td>16233</td>\n",
       "      <td>3.725370</td>\n",
       "    </tr>\n",
       "    <tr>\n",
       "      <th>date</th>\n",
       "      <td>7</td>\n",
       "      <td>0.001606</td>\n",
       "    </tr>\n",
       "  </tbody>\n",
       "</table>\n",
       "</div>"
      ],
      "text/plain": [
       "       Total    Percent\n",
       "spm   237387  54.478797\n",
       "rspm   40222   9.230692\n",
       "so2    34646   7.951035\n",
       "no2    16233   3.725370\n",
       "date       7   0.001606"
      ]
     },
     "execution_count": 21,
     "metadata": {},
     "output_type": "execute_result"
    }
   ],
   "source": [
    "missing_data.head()"
   ]
  },
  {
   "cell_type": "markdown",
   "id": "vietnamese-quantum",
   "metadata": {},
   "source": [
    "# PERCENT OF MISSING VALUE (BAR PLOT)\n"
   ]
  },
  {
   "cell_type": "code",
   "execution_count": 22,
   "id": "excessive-theme",
   "metadata": {},
   "outputs": [
    {
     "data": {
      "text/plain": [
       "Text(0.5, 1.0, 'Percent missing data by feature')"
      ]
     },
     "execution_count": 22,
     "metadata": {},
     "output_type": "execute_result"
    },
    {
     "data": {
      "image/png": "[encoded data removed]",
      "text/plain": [
       "<Figure size 432x288 with 1 Axes>"
      ]
     },
     "metadata": {
      "needs_background": "light"
     },
     "output_type": "display_data"
    }
   ],
   "source": [
    "sns.barplot(x=missing_data.index, y=missing_data['Percent'])\n",
    "plt.xlabel('Features', fontsize=20)\n",
    "plt.ylabel('Percent of missing values', fontsize=20)\n",
    "plt.title('Percent missing data by feature', fontsize=20)"
   ]
  },
  {
   "cell_type": "code",
   "execution_count": 23,
   "id": "little-aaron",
   "metadata": {},
   "outputs": [
    {
     "data": {
      "text/plain": [
       "state            0\n",
       "location         3\n",
       "so2          34646\n",
       "no2          16233\n",
       "rspm         40222\n",
       "spm         237387\n",
       "date             7\n",
       "dtype: int64"
      ]
     },
     "execution_count": 23,
     "metadata": {},
     "output_type": "execute_result"
    }
   ],
   "source": [
    "data.isna().sum()"
   ]
  },
  {
   "cell_type": "markdown",
   "id": "copyrighted-neighbor",
   "metadata": {},
   "source": [
    "# FILL MISSING VALUES BY MEAN (GROUP BY STATE)"
   ]
  },
  {
   "cell_type": "code",
   "execution_count": 24,
   "id": "elect-poster",
   "metadata": {},
   "outputs": [],
   "source": [
    "grp_state = data.groupby('state')"
   ]
  },
  {
   "cell_type": "code",
   "execution_count": 25,
   "id": "detailed-collector",
   "metadata": {},
   "outputs": [
    {
     "data": {
      "text/html": [
       "<div>\n",
       "<style scoped>\n",
       "    .dataframe tbody tr th:only-of-type {\n",
       "        vertical-align: middle;\n",
       "    }\n",
       "\n",
       "    .dataframe tbody tr th {\n",
       "        vertical-align: top;\n",
       "    }\n",
       "\n",
       "    .dataframe thead th {\n",
       "        text-align: right;\n",
       "    }\n",
       "</style>\n",
       "<table border=\"1\" class=\"dataframe\">\n",
       "  <thead>\n",
       "    <tr style=\"text-align: right;\">\n",
       "      <th></th>\n",
       "      <th>state</th>\n",
       "      <th>location</th>\n",
       "      <th>so2</th>\n",
       "      <th>no2</th>\n",
       "      <th>rspm</th>\n",
       "      <th>spm</th>\n",
       "      <th>date</th>\n",
       "    </tr>\n",
       "  </thead>\n",
       "  <tbody>\n",
       "    <tr>\n",
       "      <th>0</th>\n",
       "      <td>Andhra Pradesh</td>\n",
       "      <td>Hyderabad</td>\n",
       "      <td>4.8</td>\n",
       "      <td>17.4</td>\n",
       "      <td>NaN</td>\n",
       "      <td>NaN</td>\n",
       "      <td>1990-02-01</td>\n",
       "    </tr>\n",
       "    <tr>\n",
       "      <th>1</th>\n",
       "      <td>Andhra Pradesh</td>\n",
       "      <td>Hyderabad</td>\n",
       "      <td>3.1</td>\n",
       "      <td>7.0</td>\n",
       "      <td>NaN</td>\n",
       "      <td>NaN</td>\n",
       "      <td>1990-02-01</td>\n",
       "    </tr>\n",
       "    <tr>\n",
       "      <th>2</th>\n",
       "      <td>Andhra Pradesh</td>\n",
       "      <td>Hyderabad</td>\n",
       "      <td>6.2</td>\n",
       "      <td>28.5</td>\n",
       "      <td>NaN</td>\n",
       "      <td>NaN</td>\n",
       "      <td>1990-02-01</td>\n",
       "    </tr>\n",
       "    <tr>\n",
       "      <th>3</th>\n",
       "      <td>Andhra Pradesh</td>\n",
       "      <td>Hyderabad</td>\n",
       "      <td>6.3</td>\n",
       "      <td>14.7</td>\n",
       "      <td>NaN</td>\n",
       "      <td>NaN</td>\n",
       "      <td>1990-03-01</td>\n",
       "    </tr>\n",
       "    <tr>\n",
       "      <th>4</th>\n",
       "      <td>Andhra Pradesh</td>\n",
       "      <td>Hyderabad</td>\n",
       "      <td>4.7</td>\n",
       "      <td>7.5</td>\n",
       "      <td>NaN</td>\n",
       "      <td>NaN</td>\n",
       "      <td>1990-03-01</td>\n",
       "    </tr>\n",
       "    <tr>\n",
       "      <th>...</th>\n",
       "      <td>...</td>\n",
       "      <td>...</td>\n",
       "      <td>...</td>\n",
       "      <td>...</td>\n",
       "      <td>...</td>\n",
       "      <td>...</td>\n",
       "      <td>...</td>\n",
       "    </tr>\n",
       "    <tr>\n",
       "      <th>413279</th>\n",
       "      <td>West Bengal</td>\n",
       "      <td>Howrah</td>\n",
       "      <td>103.4</td>\n",
       "      <td>148.0</td>\n",
       "      <td>NaN</td>\n",
       "      <td>968.0</td>\n",
       "      <td>1987-01-01</td>\n",
       "    </tr>\n",
       "    <tr>\n",
       "      <th>413280</th>\n",
       "      <td>West Bengal</td>\n",
       "      <td>Howrah</td>\n",
       "      <td>92.1</td>\n",
       "      <td>112.1</td>\n",
       "      <td>NaN</td>\n",
       "      <td>531.0</td>\n",
       "      <td>1987-02-01</td>\n",
       "    </tr>\n",
       "    <tr>\n",
       "      <th>435739</th>\n",
       "      <td>andaman-and-nicobar-islands</td>\n",
       "      <td>NaN</td>\n",
       "      <td>NaN</td>\n",
       "      <td>NaN</td>\n",
       "      <td>NaN</td>\n",
       "      <td>NaN</td>\n",
       "      <td>NaN</td>\n",
       "    </tr>\n",
       "    <tr>\n",
       "      <th>435740</th>\n",
       "      <td>Lakshadweep</td>\n",
       "      <td>NaN</td>\n",
       "      <td>NaN</td>\n",
       "      <td>NaN</td>\n",
       "      <td>NaN</td>\n",
       "      <td>NaN</td>\n",
       "      <td>NaN</td>\n",
       "    </tr>\n",
       "    <tr>\n",
       "      <th>435741</th>\n",
       "      <td>Tripura</td>\n",
       "      <td>NaN</td>\n",
       "      <td>NaN</td>\n",
       "      <td>NaN</td>\n",
       "      <td>NaN</td>\n",
       "      <td>NaN</td>\n",
       "      <td>NaN</td>\n",
       "    </tr>\n",
       "  </tbody>\n",
       "</table>\n",
       "<p>169 rows × 7 columns</p>\n",
       "</div>"
      ],
      "text/plain": [
       "                              state   location    so2    no2  rspm    spm  \\\n",
       "0                    Andhra Pradesh  Hyderabad    4.8   17.4   NaN    NaN   \n",
       "1                    Andhra Pradesh  Hyderabad    3.1    7.0   NaN    NaN   \n",
       "2                    Andhra Pradesh  Hyderabad    6.2   28.5   NaN    NaN   \n",
       "3                    Andhra Pradesh  Hyderabad    6.3   14.7   NaN    NaN   \n",
       "4                    Andhra Pradesh  Hyderabad    4.7    7.5   NaN    NaN   \n",
       "...                             ...        ...    ...    ...   ...    ...   \n",
       "413279                  West Bengal     Howrah  103.4  148.0   NaN  968.0   \n",
       "413280                  West Bengal     Howrah   92.1  112.1   NaN  531.0   \n",
       "435739  andaman-and-nicobar-islands        NaN    NaN    NaN   NaN    NaN   \n",
       "435740                  Lakshadweep        NaN    NaN    NaN   NaN    NaN   \n",
       "435741                      Tripura        NaN    NaN    NaN   NaN    NaN   \n",
       "\n",
       "              date  \n",
       "0       1990-02-01  \n",
       "1       1990-02-01  \n",
       "2       1990-02-01  \n",
       "3       1990-03-01  \n",
       "4       1990-03-01  \n",
       "...            ...  \n",
       "413279  1987-01-01  \n",
       "413280  1987-02-01  \n",
       "435739         NaN  \n",
       "435740         NaN  \n",
       "435741         NaN  \n",
       "\n",
       "[169 rows x 7 columns]"
      ]
     },
     "execution_count": 25,
     "metadata": {},
     "output_type": "execute_result"
    }
   ],
   "source": [
    "grp_state.head()"
   ]
  },
  {
   "cell_type": "code",
   "execution_count": 26,
   "id": "stone-marathon",
   "metadata": {},
   "outputs": [],
   "source": [
    "def impute_mean_by_state(series):\n",
    "    return series.fillna(series.mean()) \n",
    "\n",
    "\n",
    "data['rspm']=grp_state['rspm'].transform(impute_mean_by_state)  #fill value with mean value group by state\n",
    "data['so2']=grp_state['so2'].transform(impute_mean_by_state)\n",
    "data['no2']=grp_state['no2'].transform(impute_mean_by_state)\n",
    "# data['spm']=grp_state['spm'].transform(impute_mean_by_state)\n"
   ]
  },
  {
   "cell_type": "code",
   "execution_count": 27,
   "id": "wrapped-european",
   "metadata": {},
   "outputs": [
    {
     "data": {
      "text/plain": [
       "state            0\n",
       "location         3\n",
       "so2              3\n",
       "no2              3\n",
       "rspm             3\n",
       "spm         237387\n",
       "date             7\n",
       "dtype: int64"
      ]
     },
     "execution_count": 27,
     "metadata": {},
     "output_type": "execute_result"
    }
   ],
   "source": [
    "data.isna().sum()"
   ]
  },
  {
   "cell_type": "markdown",
   "id": "southern-inquiry",
   "metadata": {},
   "source": [
    "## My working"
   ]
  },
  {
   "cell_type": "code",
   "execution_count": 28,
   "id": "hawaiian-present",
   "metadata": {},
   "outputs": [
    {
     "data": {
      "text/plain": [
       "Index(['state', 'location', 'so2', 'no2', 'rspm', 'spm', 'date'], dtype='object')"
      ]
     },
     "execution_count": 28,
     "metadata": {},
     "output_type": "execute_result"
    }
   ],
   "source": [
    "data.columns"
   ]
  },
  {
   "cell_type": "code",
   "execution_count": 29,
   "id": "indoor-prototype",
   "metadata": {},
   "outputs": [],
   "source": [
    "col = ['state', 'location', 'so2', 'no2', 'rspm', 'date', 'spm']\n",
    "data = data.reindex(columns = col)"
   ]
  },
  {
   "cell_type": "code",
   "execution_count": 30,
   "id": "israeli-bidding",
   "metadata": {},
   "outputs": [],
   "source": [
    "x_test = []\n",
    "x_train = []\n",
    "for i,j in enumerate(data['spm']):\n",
    "    if np.isnan(j):\n",
    "        x_test.append(i)\n",
    "    else:\n",
    "        x_train.append(i)"
   ]
  },
  {
   "cell_type": "code",
   "execution_count": 31,
   "id": "signed-drill",
   "metadata": {},
   "outputs": [
    {
     "data": {
      "text/plain": [
       "198355"
      ]
     },
     "execution_count": 31,
     "metadata": {},
     "output_type": "execute_result"
    }
   ],
   "source": [
    "len(data) - data['spm'].isnull().sum()"
   ]
  },
  {
   "cell_type": "code",
   "execution_count": 32,
   "id": "considered-chair",
   "metadata": {},
   "outputs": [
    {
     "data": {
      "text/plain": [
       "True"
      ]
     },
     "execution_count": 32,
     "metadata": {},
     "output_type": "execute_result"
    }
   ],
   "source": [
    "len(x_train) + len(x_test) == len(data)"
   ]
  },
  {
   "cell_type": "code",
   "execution_count": 33,
   "id": "collectible-unknown",
   "metadata": {},
   "outputs": [
    {
     "name": "stdout",
     "output_type": "stream",
     "text": [
      "Running Time: 0:51:52.636455\n"
     ]
    },
    {
     "data": {
      "text/html": [
       "<div>\n",
       "<style scoped>\n",
       "    .dataframe tbody tr th:only-of-type {\n",
       "        vertical-align: middle;\n",
       "    }\n",
       "\n",
       "    .dataframe tbody tr th {\n",
       "        vertical-align: top;\n",
       "    }\n",
       "\n",
       "    .dataframe thead th {\n",
       "        text-align: right;\n",
       "    }\n",
       "</style>\n",
       "<table border=\"1\" class=\"dataframe\">\n",
       "  <thead>\n",
       "    <tr style=\"text-align: right;\">\n",
       "      <th></th>\n",
       "      <th>state</th>\n",
       "      <th>location</th>\n",
       "      <th>so2</th>\n",
       "      <th>no2</th>\n",
       "      <th>rspm</th>\n",
       "      <th>date</th>\n",
       "      <th>spm</th>\n",
       "    </tr>\n",
       "  </thead>\n",
       "  <tbody>\n",
       "    <tr>\n",
       "      <th>11</th>\n",
       "      <td>Andhra Pradesh</td>\n",
       "      <td>Hyderabad</td>\n",
       "      <td>3.9</td>\n",
       "      <td>14.1</td>\n",
       "      <td>78.182824</td>\n",
       "      <td>1990-06-01</td>\n",
       "      <td>133.0</td>\n",
       "    </tr>\n",
       "    <tr>\n",
       "      <th>12</th>\n",
       "      <td>Andhra Pradesh</td>\n",
       "      <td>Hyderabad</td>\n",
       "      <td>5.6</td>\n",
       "      <td>11.8</td>\n",
       "      <td>78.182824</td>\n",
       "      <td>1990-06-01</td>\n",
       "      <td>82.0</td>\n",
       "    </tr>\n",
       "    <tr>\n",
       "      <th>13</th>\n",
       "      <td>Andhra Pradesh</td>\n",
       "      <td>Hyderabad</td>\n",
       "      <td>3.3</td>\n",
       "      <td>19.3</td>\n",
       "      <td>78.182824</td>\n",
       "      <td>1990-06-01</td>\n",
       "      <td>111.0</td>\n",
       "    </tr>\n",
       "    <tr>\n",
       "      <th>14</th>\n",
       "      <td>Andhra Pradesh</td>\n",
       "      <td>Hyderabad</td>\n",
       "      <td>3.9</td>\n",
       "      <td>8.2</td>\n",
       "      <td>78.182824</td>\n",
       "      <td>1990-07-01</td>\n",
       "      <td>118.0</td>\n",
       "    </tr>\n",
       "    <tr>\n",
       "      <th>15</th>\n",
       "      <td>Andhra Pradesh</td>\n",
       "      <td>Hyderabad</td>\n",
       "      <td>3.5</td>\n",
       "      <td>12.1</td>\n",
       "      <td>78.182824</td>\n",
       "      <td>1990-07-01</td>\n",
       "      <td>135.0</td>\n",
       "    </tr>\n",
       "  </tbody>\n",
       "</table>\n",
       "</div>"
      ],
      "text/plain": [
       "             state   location  so2   no2       rspm        date    spm\n",
       "11  Andhra Pradesh  Hyderabad  3.9  14.1  78.182824  1990-06-01  133.0\n",
       "12  Andhra Pradesh  Hyderabad  5.6  11.8  78.182824  1990-06-01   82.0\n",
       "13  Andhra Pradesh  Hyderabad  3.3  19.3  78.182824  1990-06-01  111.0\n",
       "14  Andhra Pradesh  Hyderabad  3.9   8.2  78.182824  1990-07-01  118.0\n",
       "15  Andhra Pradesh  Hyderabad  3.5  12.1  78.182824  1990-07-01  135.0"
      ]
     },
     "execution_count": 33,
     "metadata": {},
     "output_type": "execute_result"
    }
   ],
   "source": [
    "# I will put 'with spm values' into the X_train\n",
    "\n",
    "X_train = pd.DataFrame(columns = data.columns)\n",
    "\n",
    "start_time = time.time()\n",
    "for i,j in enumerate(x_train):\n",
    "    X_train = X_train.append(data.iloc[j, :])\n",
    "\n",
    "get_t = (time.time() - start_time)    \n",
    "    \n",
    "print(\"Running Time: {}\".format(datetime.timedelta(seconds=get_t)))\n",
    "X_train.head()"
   ]
  },
  {
   "cell_type": "code",
   "execution_count": 34,
   "id": "hollow-thong",
   "metadata": {},
   "outputs": [],
   "source": [
    "# start_time = time.time()\n",
    "# get_t = (time.time() - start_time)\n",
    "# print(\"Running Time: {}\".format(datetime.timedelta(seconds=get_t)))"
   ]
  },
  {
   "cell_type": "code",
   "execution_count": 35,
   "id": "assured-jewelry",
   "metadata": {},
   "outputs": [
    {
     "name": "stdout",
     "output_type": "stream",
     "text": [
      "Running Time: 1:11:33.410380\n"
     ]
    },
    {
     "data": {
      "text/html": [
       "<div>\n",
       "<style scoped>\n",
       "    .dataframe tbody tr th:only-of-type {\n",
       "        vertical-align: middle;\n",
       "    }\n",
       "\n",
       "    .dataframe tbody tr th {\n",
       "        vertical-align: top;\n",
       "    }\n",
       "\n",
       "    .dataframe thead th {\n",
       "        text-align: right;\n",
       "    }\n",
       "</style>\n",
       "<table border=\"1\" class=\"dataframe\">\n",
       "  <thead>\n",
       "    <tr style=\"text-align: right;\">\n",
       "      <th></th>\n",
       "      <th>state</th>\n",
       "      <th>location</th>\n",
       "      <th>so2</th>\n",
       "      <th>no2</th>\n",
       "      <th>rspm</th>\n",
       "      <th>date</th>\n",
       "      <th>spm</th>\n",
       "    </tr>\n",
       "  </thead>\n",
       "  <tbody>\n",
       "    <tr>\n",
       "      <th>0</th>\n",
       "      <td>Andhra Pradesh</td>\n",
       "      <td>Hyderabad</td>\n",
       "      <td>4.8</td>\n",
       "      <td>17.4</td>\n",
       "      <td>78.182824</td>\n",
       "      <td>1990-02-01</td>\n",
       "      <td>NaN</td>\n",
       "    </tr>\n",
       "    <tr>\n",
       "      <th>1</th>\n",
       "      <td>Andhra Pradesh</td>\n",
       "      <td>Hyderabad</td>\n",
       "      <td>3.1</td>\n",
       "      <td>7.0</td>\n",
       "      <td>78.182824</td>\n",
       "      <td>1990-02-01</td>\n",
       "      <td>NaN</td>\n",
       "    </tr>\n",
       "    <tr>\n",
       "      <th>2</th>\n",
       "      <td>Andhra Pradesh</td>\n",
       "      <td>Hyderabad</td>\n",
       "      <td>6.2</td>\n",
       "      <td>28.5</td>\n",
       "      <td>78.182824</td>\n",
       "      <td>1990-02-01</td>\n",
       "      <td>NaN</td>\n",
       "    </tr>\n",
       "    <tr>\n",
       "      <th>3</th>\n",
       "      <td>Andhra Pradesh</td>\n",
       "      <td>Hyderabad</td>\n",
       "      <td>6.3</td>\n",
       "      <td>14.7</td>\n",
       "      <td>78.182824</td>\n",
       "      <td>1990-03-01</td>\n",
       "      <td>NaN</td>\n",
       "    </tr>\n",
       "    <tr>\n",
       "      <th>4</th>\n",
       "      <td>Andhra Pradesh</td>\n",
       "      <td>Hyderabad</td>\n",
       "      <td>4.7</td>\n",
       "      <td>7.5</td>\n",
       "      <td>78.182824</td>\n",
       "      <td>1990-03-01</td>\n",
       "      <td>NaN</td>\n",
       "    </tr>\n",
       "  </tbody>\n",
       "</table>\n",
       "</div>"
      ],
      "text/plain": [
       "            state   location  so2   no2       rspm        date  spm\n",
       "0  Andhra Pradesh  Hyderabad  4.8  17.4  78.182824  1990-02-01  NaN\n",
       "1  Andhra Pradesh  Hyderabad  3.1   7.0  78.182824  1990-02-01  NaN\n",
       "2  Andhra Pradesh  Hyderabad  6.2  28.5  78.182824  1990-02-01  NaN\n",
       "3  Andhra Pradesh  Hyderabad  6.3  14.7  78.182824  1990-03-01  NaN\n",
       "4  Andhra Pradesh  Hyderabad  4.7   7.5  78.182824  1990-03-01  NaN"
      ]
     },
     "execution_count": 35,
     "metadata": {},
     "output_type": "execute_result"
    }
   ],
   "source": [
    "# I will put 'without spm as only NaN values' into X_test\n",
    "\n",
    "X_test = pd.DataFrame(columns = data.columns)\n",
    "start_time = time.time()\n",
    "for i,j in enumerate(x_test):\n",
    "    X_test = X_test.append(data.iloc[j, :])\n",
    "       \n",
    "get_t = (time.time() - start_time)    \n",
    "    \n",
    "print(\"Running Time: {}\".format(datetime.timedelta(seconds=get_t)))\n",
    "X_test.head()"
   ]
  },
  {
   "cell_type": "code",
   "execution_count": 36,
   "id": "allied-baker",
   "metadata": {},
   "outputs": [
    {
     "data": {
      "text/plain": [
       "array([nan])"
      ]
     },
     "execution_count": 36,
     "metadata": {},
     "output_type": "execute_result"
    }
   ],
   "source": [
    "X_test.spm.unique()"
   ]
  },
  {
   "cell_type": "code",
   "execution_count": 37,
   "id": "honest-criminal",
   "metadata": {},
   "outputs": [
    {
     "data": {
      "text/plain": [
       "state            0\n",
       "location         3\n",
       "so2              3\n",
       "no2              3\n",
       "rspm             3\n",
       "date             7\n",
       "spm         237387\n",
       "dtype: int64"
      ]
     },
     "execution_count": 37,
     "metadata": {},
     "output_type": "execute_result"
    }
   ],
   "source": [
    "X_test.isna().sum()  # last ke 3 states mein"
   ]
  },
  {
   "cell_type": "code",
   "execution_count": 38,
   "id": "interesting-shore",
   "metadata": {},
   "outputs": [
    {
     "data": {
      "text/plain": [
       "state            0\n",
       "location         3\n",
       "so2              0\n",
       "no2              0\n",
       "rspm             0\n",
       "date             7\n",
       "spm         237387\n",
       "dtype: int64"
      ]
     },
     "execution_count": 38,
     "metadata": {},
     "output_type": "execute_result"
    }
   ],
   "source": [
    "# it is better to remove the 3 states, which i will do it later , iss step  ki zarurat ni hai\n",
    "\n",
    "X_test['so2'].fillna(X_test['so2'].mean(), inplace =True)\n",
    "X_test['no2'].fillna(X_test['no2'].mean(), inplace =True)\n",
    "X_test['rspm'].fillna(X_test['rspm'].mean(), inplace =True)\n",
    "\n",
    "X_test.isna().sum()"
   ]
  },
  {
   "cell_type": "code",
   "execution_count": 39,
   "id": "monthly-banner",
   "metadata": {},
   "outputs": [
    {
     "name": "stdout",
     "output_type": "stream",
     "text": [
      "(132897, 3) (65458, 3) (132897,) (65458,)\n",
      "For Linear Regression: root_mean_squared_error = 105.18140566497974,  mean_absolute_error = 64.43617328740493, r2_score = 0.5203270459952256\n",
      "For Decision Tree: root_mean_squared_error = 119.69042513982129,  mean_absolute_error = 74.18297923246755, r2_score = 0.37886484525985653\n",
      "For Random Forest: root_mean_squared_error = 90.92073671224037,  mean_absolute_error = 57.10877701819025, r2_score = 0.6415792181147828\n",
      "For SVR: mean_squared_error = 9619.479255539589,  mean_absolute_error = 61.94670459705455, r2_score = 0.5829204914053325\n",
      "\n",
      "\n",
      "Running Time: 0:20:25.534585\n"
     ]
    }
   ],
   "source": [
    "# calculating spm\n",
    "# X_train use krunga for trainig purpose\n",
    "# X_test I will use for deployment.\n",
    "\n",
    "\n",
    "start_time = time.time()\n",
    "x_training = X_train.iloc[:, 2:5]\n",
    "y_training = X_train.iloc[:, -1]\n",
    "\n",
    "q_train, q_test, y_train, y_test = train_test_split(x_training, y_training, test_size = 0.33, random_state = 42)\n",
    "print(q_train.shape, q_test.shape, y_train.shape, y_test.shape)\n",
    "\n",
    "\n",
    "model_initial_adv_1 = LinearRegression()\n",
    "model_initial_adv_1.fit(q_train, y_train)\n",
    "predicted_initial_adv_1_lr = model_initial_adv_1.predict(q_test)\n",
    "\n",
    "root_mean_squared_error_val_lr = math.sqrt(mean_squared_error(y_test, predicted_initial_adv_1_lr))\n",
    "mean_absolute_error_val_lr = mean_absolute_error(y_test, predicted_initial_adv_1_lr)\n",
    "r2_score_val_lr = r2_score(y_test, predicted_initial_adv_1_lr)\n",
    "print('For Linear Regression: root_mean_squared_error = {},  mean_absolute_error = {}, r2_score = {}'.format(root_mean_squared_error_val_lr, mean_absolute_error_val_lr, r2_score_val_lr))\n",
    "\n",
    "\n",
    "\n",
    "model_initial_adv_2 = DecisionTreeRegressor(random_state=0)\n",
    "model_initial_adv_2.fit(q_train, y_train)\n",
    "predicted_initial_adv_2_dt = model_initial_adv_2.predict(q_test)\n",
    "\n",
    "root_mean_squared_error_val_dt = math.sqrt(mean_squared_error(y_test, predicted_initial_adv_2_dt))\n",
    "mean_absolute_error_val_dt = mean_absolute_error(y_test, predicted_initial_adv_2_dt)\n",
    "r2_score_val_dt = r2_score(y_test, predicted_initial_adv_2_dt)\n",
    "print('For Decision Tree: root_mean_squared_error = {},  mean_absolute_error = {}, r2_score = {}'.format(root_mean_squared_error_val_dt, mean_absolute_error_val_dt, r2_score_val_dt))\n",
    "\n",
    "\n",
    "model_initial_adv_3 = RandomForestRegressor()\n",
    "model_initial_adv_3.fit(q_train, y_train)\n",
    "predicted_initial_adv_3_rf = model_initial_adv_3.predict(q_test)\n",
    "\n",
    "root_mean_squared_error_val_rf = math.sqrt(mean_squared_error(y_test, predicted_initial_adv_3_rf))\n",
    "mean_absolute_error_val_rf = mean_absolute_error(y_test, predicted_initial_adv_3_rf)\n",
    "r2_score_val_rf = r2_score(y_test, predicted_initial_adv_3_rf)\n",
    "print('For Random Forest: root_mean_squared_error = {},  mean_absolute_error = {}, r2_score = {}'.format(root_mean_squared_error_val_rf, mean_absolute_error_val_rf, r2_score_val_rf))\n",
    "\n",
    "\n",
    "\n",
    "model_initial_adv_4 = make_pipeline(StandardScaler(), SVR(C=1.0, epsilon=0.2))\n",
    "model_initial_adv_4.fit(q_train, y_train)\n",
    "predicted_initial_adv_4_svr = model_initial_adv_4.predict(q_test)\n",
    "\n",
    "mean_squared_error_val_svr = mean_squared_error(y_test, predicted_initial_adv_4_svr)\n",
    "mean_absolute_error_val_svr = mean_absolute_error(y_test, predicted_initial_adv_4_svr)\n",
    "r2_score_val_svr = r2_score(y_test, predicted_initial_adv_4_svr)\n",
    "print('For SVR: mean_squared_error = {},  mean_absolute_error = {}, r2_score = {}'.format(mean_squared_error_val_svr, mean_absolute_error_val_svr, r2_score_val_svr))\n",
    "\n",
    "get_t = (time.time() - start_time)\n",
    "\n",
    "print('\\n')\n",
    "print(\"Running Time: {}\".format(datetime.timedelta(seconds=get_t)))"
   ]
  },
  {
   "cell_type": "markdown",
   "id": "pursuant-emergency",
   "metadata": {},
   "source": [
    "### Deploying to the test part "
   ]
  },
  {
   "cell_type": "code",
   "execution_count": 40,
   "id": "absent-embassy",
   "metadata": {},
   "outputs": [],
   "source": [
    "x_testing = X_test.iloc[:, 2:5]"
   ]
  },
  {
   "cell_type": "code",
   "execution_count": 41,
   "id": "supreme-lease",
   "metadata": {},
   "outputs": [],
   "source": [
    "predicted_value = model_initial_adv_3.predict(x_testing)"
   ]
  },
  {
   "cell_type": "code",
   "execution_count": 42,
   "id": "architectural-discrimination",
   "metadata": {},
   "outputs": [
    {
     "data": {
      "text/plain": [
       "237387"
      ]
     },
     "execution_count": 42,
     "metadata": {},
     "output_type": "execute_result"
    }
   ],
   "source": [
    "len(predicted_value)"
   ]
  },
  {
   "cell_type": "code",
   "execution_count": 43,
   "id": "understanding-favorite",
   "metadata": {},
   "outputs": [
    {
     "data": {
      "text/plain": [
       "array([180.41      , 186.3565    , 130.48333333, ..., 225.344     ,\n",
       "       225.344     , 225.344     ])"
      ]
     },
     "execution_count": 43,
     "metadata": {},
     "output_type": "execute_result"
    }
   ],
   "source": [
    "predicted_value"
   ]
  },
  {
   "cell_type": "code",
   "execution_count": 44,
   "id": "cordless-vault",
   "metadata": {},
   "outputs": [
    {
     "data": {
      "text/plain": [
       "237387"
      ]
     },
     "execution_count": 44,
     "metadata": {},
     "output_type": "execute_result"
    }
   ],
   "source": [
    "len(x_test)"
   ]
  },
  {
   "cell_type": "markdown",
   "id": "victorian-shelter",
   "metadata": {},
   "source": [
    "# putting the values into the dataframe"
   ]
  },
  {
   "cell_type": "code",
   "execution_count": 46,
   "id": "sharing-diploma",
   "metadata": {},
   "outputs": [],
   "source": [
    "# then with the help of indexes that i received, i will replace the received values in the actual model.\n",
    "\n",
    "# for the missing, it will be replaced at indexes of x_test in the data dataframe."
   ]
  },
  {
   "cell_type": "code",
   "execution_count": 47,
   "id": "grateful-montgomery",
   "metadata": {},
   "outputs": [
    {
     "data": {
      "text/html": [
       "<div>\n",
       "<style scoped>\n",
       "    .dataframe tbody tr th:only-of-type {\n",
       "        vertical-align: middle;\n",
       "    }\n",
       "\n",
       "    .dataframe tbody tr th {\n",
       "        vertical-align: top;\n",
       "    }\n",
       "\n",
       "    .dataframe thead th {\n",
       "        text-align: right;\n",
       "    }\n",
       "</style>\n",
       "<table border=\"1\" class=\"dataframe\">\n",
       "  <thead>\n",
       "    <tr style=\"text-align: right;\">\n",
       "      <th></th>\n",
       "      <th>state</th>\n",
       "      <th>location</th>\n",
       "      <th>so2</th>\n",
       "      <th>no2</th>\n",
       "      <th>rspm</th>\n",
       "      <th>date</th>\n",
       "      <th>spm</th>\n",
       "    </tr>\n",
       "  </thead>\n",
       "  <tbody>\n",
       "    <tr>\n",
       "      <th>0</th>\n",
       "      <td>Andhra Pradesh</td>\n",
       "      <td>Hyderabad</td>\n",
       "      <td>4.8</td>\n",
       "      <td>17.4</td>\n",
       "      <td>78.182824</td>\n",
       "      <td>1990-02-01</td>\n",
       "      <td>NaN</td>\n",
       "    </tr>\n",
       "    <tr>\n",
       "      <th>1</th>\n",
       "      <td>Andhra Pradesh</td>\n",
       "      <td>Hyderabad</td>\n",
       "      <td>3.1</td>\n",
       "      <td>7.0</td>\n",
       "      <td>78.182824</td>\n",
       "      <td>1990-02-01</td>\n",
       "      <td>NaN</td>\n",
       "    </tr>\n",
       "    <tr>\n",
       "      <th>2</th>\n",
       "      <td>Andhra Pradesh</td>\n",
       "      <td>Hyderabad</td>\n",
       "      <td>6.2</td>\n",
       "      <td>28.5</td>\n",
       "      <td>78.182824</td>\n",
       "      <td>1990-02-01</td>\n",
       "      <td>NaN</td>\n",
       "    </tr>\n",
       "    <tr>\n",
       "      <th>3</th>\n",
       "      <td>Andhra Pradesh</td>\n",
       "      <td>Hyderabad</td>\n",
       "      <td>6.3</td>\n",
       "      <td>14.7</td>\n",
       "      <td>78.182824</td>\n",
       "      <td>1990-03-01</td>\n",
       "      <td>NaN</td>\n",
       "    </tr>\n",
       "    <tr>\n",
       "      <th>4</th>\n",
       "      <td>Andhra Pradesh</td>\n",
       "      <td>Hyderabad</td>\n",
       "      <td>4.7</td>\n",
       "      <td>7.5</td>\n",
       "      <td>78.182824</td>\n",
       "      <td>1990-03-01</td>\n",
       "      <td>NaN</td>\n",
       "    </tr>\n",
       "  </tbody>\n",
       "</table>\n",
       "</div>"
      ],
      "text/plain": [
       "            state   location  so2   no2       rspm        date  spm\n",
       "0  Andhra Pradesh  Hyderabad  4.8  17.4  78.182824  1990-02-01  NaN\n",
       "1  Andhra Pradesh  Hyderabad  3.1   7.0  78.182824  1990-02-01  NaN\n",
       "2  Andhra Pradesh  Hyderabad  6.2  28.5  78.182824  1990-02-01  NaN\n",
       "3  Andhra Pradesh  Hyderabad  6.3  14.7  78.182824  1990-03-01  NaN\n",
       "4  Andhra Pradesh  Hyderabad  4.7   7.5  78.182824  1990-03-01  NaN"
      ]
     },
     "execution_count": 47,
     "metadata": {},
     "output_type": "execute_result"
    }
   ],
   "source": [
    "data.head()"
   ]
  },
  {
   "cell_type": "code",
   "execution_count": 48,
   "id": "remarkable-mechanism",
   "metadata": {},
   "outputs": [
    {
     "data": {
      "text/plain": [
       "237387"
      ]
     },
     "execution_count": 48,
     "metadata": {},
     "output_type": "execute_result"
    }
   ],
   "source": [
    "data.spm.isnull().sum()"
   ]
  },
  {
   "cell_type": "code",
   "execution_count": 49,
   "id": "incorporate-outside",
   "metadata": {},
   "outputs": [
    {
     "data": {
      "text/plain": [
       "(435742, 7)"
      ]
     },
     "execution_count": 49,
     "metadata": {},
     "output_type": "execute_result"
    }
   ],
   "source": [
    "data.shape"
   ]
  },
  {
   "cell_type": "code",
   "execution_count": 50,
   "id": "competitive-tablet",
   "metadata": {},
   "outputs": [
    {
     "data": {
      "text/plain": [
       "(435741, 225.34400000400004)"
      ]
     },
     "execution_count": 50,
     "metadata": {},
     "output_type": "execute_result"
    }
   ],
   "source": [
    "result = zip(x_test, predicted_value)\n",
    "result_list = list(result)\n",
    "result_list[-1]"
   ]
  },
  {
   "cell_type": "code",
   "execution_count": 51,
   "id": "desperate-watershed",
   "metadata": {},
   "outputs": [],
   "source": [
    "for i,j in result_list:\n",
    "    data.iloc[i, -1] = j"
   ]
  },
  {
   "cell_type": "code",
   "execution_count": 52,
   "id": "athletic-inside",
   "metadata": {},
   "outputs": [
    {
     "data": {
      "text/html": [
       "<div>\n",
       "<style scoped>\n",
       "    .dataframe tbody tr th:only-of-type {\n",
       "        vertical-align: middle;\n",
       "    }\n",
       "\n",
       "    .dataframe tbody tr th {\n",
       "        vertical-align: top;\n",
       "    }\n",
       "\n",
       "    .dataframe thead th {\n",
       "        text-align: right;\n",
       "    }\n",
       "</style>\n",
       "<table border=\"1\" class=\"dataframe\">\n",
       "  <thead>\n",
       "    <tr style=\"text-align: right;\">\n",
       "      <th></th>\n",
       "      <th>state</th>\n",
       "      <th>location</th>\n",
       "      <th>so2</th>\n",
       "      <th>no2</th>\n",
       "      <th>rspm</th>\n",
       "      <th>date</th>\n",
       "      <th>spm</th>\n",
       "    </tr>\n",
       "  </thead>\n",
       "  <tbody>\n",
       "    <tr>\n",
       "      <th>0</th>\n",
       "      <td>Andhra Pradesh</td>\n",
       "      <td>Hyderabad</td>\n",
       "      <td>4.8</td>\n",
       "      <td>17.4</td>\n",
       "      <td>78.182824</td>\n",
       "      <td>1990-02-01</td>\n",
       "      <td>180.410000</td>\n",
       "    </tr>\n",
       "    <tr>\n",
       "      <th>1</th>\n",
       "      <td>Andhra Pradesh</td>\n",
       "      <td>Hyderabad</td>\n",
       "      <td>3.1</td>\n",
       "      <td>7.0</td>\n",
       "      <td>78.182824</td>\n",
       "      <td>1990-02-01</td>\n",
       "      <td>186.356500</td>\n",
       "    </tr>\n",
       "    <tr>\n",
       "      <th>2</th>\n",
       "      <td>Andhra Pradesh</td>\n",
       "      <td>Hyderabad</td>\n",
       "      <td>6.2</td>\n",
       "      <td>28.5</td>\n",
       "      <td>78.182824</td>\n",
       "      <td>1990-02-01</td>\n",
       "      <td>130.483333</td>\n",
       "    </tr>\n",
       "    <tr>\n",
       "      <th>3</th>\n",
       "      <td>Andhra Pradesh</td>\n",
       "      <td>Hyderabad</td>\n",
       "      <td>6.3</td>\n",
       "      <td>14.7</td>\n",
       "      <td>78.182824</td>\n",
       "      <td>1990-03-01</td>\n",
       "      <td>172.580000</td>\n",
       "    </tr>\n",
       "    <tr>\n",
       "      <th>4</th>\n",
       "      <td>Andhra Pradesh</td>\n",
       "      <td>Hyderabad</td>\n",
       "      <td>4.7</td>\n",
       "      <td>7.5</td>\n",
       "      <td>78.182824</td>\n",
       "      <td>1990-03-01</td>\n",
       "      <td>110.800700</td>\n",
       "    </tr>\n",
       "  </tbody>\n",
       "</table>\n",
       "</div>"
      ],
      "text/plain": [
       "            state   location  so2   no2       rspm        date         spm\n",
       "0  Andhra Pradesh  Hyderabad  4.8  17.4  78.182824  1990-02-01  180.410000\n",
       "1  Andhra Pradesh  Hyderabad  3.1   7.0  78.182824  1990-02-01  186.356500\n",
       "2  Andhra Pradesh  Hyderabad  6.2  28.5  78.182824  1990-02-01  130.483333\n",
       "3  Andhra Pradesh  Hyderabad  6.3  14.7  78.182824  1990-03-01  172.580000\n",
       "4  Andhra Pradesh  Hyderabad  4.7   7.5  78.182824  1990-03-01  110.800700"
      ]
     },
     "execution_count": 52,
     "metadata": {},
     "output_type": "execute_result"
    }
   ],
   "source": [
    "data.head()"
   ]
  },
  {
   "cell_type": "markdown",
   "id": "future-courage",
   "metadata": {},
   "source": [
    "## Our data is ready for Further Regression and Classification"
   ]
  },
  {
   "cell_type": "markdown",
   "id": "ongoing-short",
   "metadata": {},
   "source": [
    "## Functions for AQI "
   ]
  },
  {
   "cell_type": "code",
   "execution_count": 53,
   "id": "classical-spiritual",
   "metadata": {},
   "outputs": [
    {
     "name": "stdout",
     "output_type": "stream",
     "text": [
      "Running Time: 0:00:08.977248\n"
     ]
    }
   ],
   "source": [
    "start_time = time.time()\n",
    "\n",
    "def cal_SOi(so2):\n",
    "    si=0\n",
    "    if (so2<=40):\n",
    "     si= so2*(50/40)\n",
    "    elif (so2>40 and so2<=80):\n",
    "     si= 50+(so2-40)*(50/40)\n",
    "    elif (so2>80 and so2<=380):\n",
    "     si= 100+(so2-80)*(100/300)\n",
    "    elif (so2>380 and so2<=800):\n",
    "     si= 200+(so2-380)*(100/420)\n",
    "    elif (so2>800 and so2<=1600):\n",
    "     si= 300+(so2-800)*(100/800)\n",
    "    elif (so2>1600):\n",
    "     si= 400+(so2-1600)*(100/800)\n",
    "    return round(si, 2)\n",
    "data['SOi']=data['so2'].apply(cal_SOi)\n",
    "df= data[['so2','SOi']]\n",
    "\n",
    "\n",
    "def cal_Noi(no2):\n",
    "    ni=0\n",
    "    if(no2<=40):\n",
    "     ni= no2*50/40\n",
    "    elif(no2>40 and no2<=80):\n",
    "     ni= 50+(no2-40)*(50/40)\n",
    "    elif(no2>80 and no2<=180):\n",
    "     ni= 100+(no2-80)*(100/100)\n",
    "    elif(no2>180 and no2<=280):\n",
    "     ni= 200+(no2-180)*(100/100)\n",
    "    elif(no2>280 and no2<=400):\n",
    "     ni= 300+(no2-280)*(100/120)\n",
    "    else:\n",
    "     ni= 400+(no2-400)*(100/120)\n",
    "    return round(ni, 2)\n",
    "data['Noi']=data['no2'].apply(cal_Noi)\n",
    "df= data[['no2','Noi']]\n",
    "\n",
    "\n",
    "def cal_RSPMi(rspm):\n",
    "    rpi=0\n",
    "    if(rspm<=100):\n",
    "     rpi = rspm\n",
    "    elif(rspm>=101 and rspm<=150):\n",
    "     rpi= 101+(rspm-101)*((200-101)/(150-101))\n",
    "    elif(rspm>=151 and rspm<=350):\n",
    "     rpi= 201+(rspm-151)*((300-201)/(350-151))\n",
    "    elif(rspm>=351 and rspm<=420):\n",
    "     rpi= 301+(rspm-351)*((400-301)/(420-351))\n",
    "    elif(rspm>420):\n",
    "     rpi= 401+(rspm-420)*((500-401)/(420-351))\n",
    "    return round(rpi, 2)\n",
    "data['RSPMi']=data['rspm'].apply(cal_RSPMi)\n",
    "df= data[['rspm','RSPMi']]\n",
    "\n",
    "\n",
    "def cal_SPMi(spm):\n",
    "    spi=0\n",
    "    if(spm<=50):\n",
    "     spi=spm*50/50\n",
    "    elif(spm>50 and spm<=100):\n",
    "     spi=50+(spm-50)*(50/50)\n",
    "    elif(spm>100 and spm<=250):\n",
    "     spi= 100+(spm-100)*(100/150)\n",
    "    elif(spm>250 and spm<=350):\n",
    "     spi=200+(spm-250)*(100/100)\n",
    "    elif(spm>350 and spm<=430):\n",
    "     spi=300+(spm-350)*(100/80)\n",
    "    else:\n",
    "     spi=400+(spm-430)*(100/430)\n",
    "    return round(spi, 2)\n",
    "   \n",
    "data['SPMi']=data['spm'].apply(cal_SPMi)\n",
    "df= data[['spm','SPMi']]\n",
    "\n",
    "\n",
    "def cal_aqi(si,ni,rspmi,spmi):\n",
    "    aqi=0\n",
    "    if(si>ni and si>rspmi and si>spmi):\n",
    "     aqi=si\n",
    "    if(ni>si and ni>rspmi and ni>spmi ):\n",
    "     aqi=ni\n",
    "    if(rspmi>si and rspmi>ni and rspmi>spmi ):\n",
    "     aqi=rspmi\n",
    "    if(spmi>si and spmi>ni and spmi>rspmi):\n",
    "     aqi=spmi\n",
    "    return aqi\n",
    "\n",
    "data['AQI']=data.apply(lambda x:cal_aqi(x['SOi'],x['Noi'],x['RSPMi'],x['SPMi']),axis=1)\n",
    "df= data[['state','SOi','Noi','RSPMi','SPMi','AQI']]\n",
    "\n",
    "\n",
    "def AQI_Range(x):\n",
    "    if x<=50:\n",
    "        return \"Good\"\n",
    "    elif x>50 and x<=100:\n",
    "        return \"Moderate\"\n",
    "    elif x>100 and x<=200:\n",
    "        return \"Poor\"\n",
    "    elif x>200 and x<=300:\n",
    "        return \"Unhealthy\"\n",
    "    elif x>300 and x<=400:\n",
    "        return \"Very unhealthy\"\n",
    "    elif x>400:\n",
    "        return \"Hazardous\"\n",
    "\n",
    "data['AQI_Range'] = data['AQI'] .apply(AQI_Range)\n",
    "\n",
    "get_t = (time.time() - start_time)  \n",
    "print(\"Running Time: {}\".format(datetime.timedelta(seconds=get_t)))"
   ]
  },
  {
   "cell_type": "code",
   "execution_count": 54,
   "id": "minor-correction",
   "metadata": {},
   "outputs": [],
   "source": [
    "d=data.iloc[:435739, :]"
   ]
  },
  {
   "cell_type": "code",
   "execution_count": 55,
   "id": "bigger-header",
   "metadata": {},
   "outputs": [
    {
     "data": {
      "text/html": [
       "<div>\n",
       "<style scoped>\n",
       "    .dataframe tbody tr th:only-of-type {\n",
       "        vertical-align: middle;\n",
       "    }\n",
       "\n",
       "    .dataframe tbody tr th {\n",
       "        vertical-align: top;\n",
       "    }\n",
       "\n",
       "    .dataframe thead th {\n",
       "        text-align: right;\n",
       "    }\n",
       "</style>\n",
       "<table border=\"1\" class=\"dataframe\">\n",
       "  <thead>\n",
       "    <tr style=\"text-align: right;\">\n",
       "      <th></th>\n",
       "      <th>state</th>\n",
       "      <th>location</th>\n",
       "      <th>so2</th>\n",
       "      <th>no2</th>\n",
       "      <th>rspm</th>\n",
       "      <th>date</th>\n",
       "      <th>spm</th>\n",
       "      <th>SOi</th>\n",
       "      <th>Noi</th>\n",
       "      <th>RSPMi</th>\n",
       "      <th>SPMi</th>\n",
       "      <th>AQI</th>\n",
       "      <th>AQI_Range</th>\n",
       "    </tr>\n",
       "  </thead>\n",
       "  <tbody>\n",
       "    <tr>\n",
       "      <th>435699</th>\n",
       "      <td>West Bengal</td>\n",
       "      <td>ULUBERIA</td>\n",
       "      <td>14.0</td>\n",
       "      <td>43.0</td>\n",
       "      <td>118.0</td>\n",
       "      <td>2015-08-14</td>\n",
       "      <td>308.970000</td>\n",
       "      <td>17.50</td>\n",
       "      <td>53.75</td>\n",
       "      <td>135.35</td>\n",
       "      <td>258.97</td>\n",
       "      <td>258.97</td>\n",
       "      <td>Unhealthy</td>\n",
       "    </tr>\n",
       "    <tr>\n",
       "      <th>435700</th>\n",
       "      <td>West Bengal</td>\n",
       "      <td>ULUBERIA</td>\n",
       "      <td>11.0</td>\n",
       "      <td>35.0</td>\n",
       "      <td>94.0</td>\n",
       "      <td>2015-08-17</td>\n",
       "      <td>161.983333</td>\n",
       "      <td>13.75</td>\n",
       "      <td>43.75</td>\n",
       "      <td>94.00</td>\n",
       "      <td>141.32</td>\n",
       "      <td>141.32</td>\n",
       "      <td>Poor</td>\n",
       "    </tr>\n",
       "    <tr>\n",
       "      <th>435701</th>\n",
       "      <td>West Bengal</td>\n",
       "      <td>ULUBERIA</td>\n",
       "      <td>12.0</td>\n",
       "      <td>52.0</td>\n",
       "      <td>118.0</td>\n",
       "      <td>2015-08-20</td>\n",
       "      <td>348.413333</td>\n",
       "      <td>15.00</td>\n",
       "      <td>65.00</td>\n",
       "      <td>135.35</td>\n",
       "      <td>298.41</td>\n",
       "      <td>298.41</td>\n",
       "      <td>Unhealthy</td>\n",
       "    </tr>\n",
       "    <tr>\n",
       "      <th>435702</th>\n",
       "      <td>West Bengal</td>\n",
       "      <td>ULUBERIA</td>\n",
       "      <td>20.0</td>\n",
       "      <td>51.0</td>\n",
       "      <td>145.0</td>\n",
       "      <td>2015-08-26</td>\n",
       "      <td>249.926700</td>\n",
       "      <td>25.00</td>\n",
       "      <td>63.75</td>\n",
       "      <td>189.90</td>\n",
       "      <td>199.95</td>\n",
       "      <td>199.95</td>\n",
       "      <td>Poor</td>\n",
       "    </tr>\n",
       "    <tr>\n",
       "      <th>435703</th>\n",
       "      <td>West Bengal</td>\n",
       "      <td>ULUBERIA</td>\n",
       "      <td>21.0</td>\n",
       "      <td>58.0</td>\n",
       "      <td>159.0</td>\n",
       "      <td>2015-08-30</td>\n",
       "      <td>341.544000</td>\n",
       "      <td>26.25</td>\n",
       "      <td>72.50</td>\n",
       "      <td>204.98</td>\n",
       "      <td>291.54</td>\n",
       "      <td>291.54</td>\n",
       "      <td>Unhealthy</td>\n",
       "    </tr>\n",
       "    <tr>\n",
       "      <th>435704</th>\n",
       "      <td>West Bengal</td>\n",
       "      <td>ULUBERIA</td>\n",
       "      <td>14.0</td>\n",
       "      <td>38.0</td>\n",
       "      <td>98.0</td>\n",
       "      <td>2015-09-03</td>\n",
       "      <td>219.798400</td>\n",
       "      <td>17.50</td>\n",
       "      <td>47.50</td>\n",
       "      <td>98.00</td>\n",
       "      <td>179.87</td>\n",
       "      <td>179.87</td>\n",
       "      <td>Poor</td>\n",
       "    </tr>\n",
       "    <tr>\n",
       "      <th>435705</th>\n",
       "      <td>West Bengal</td>\n",
       "      <td>ULUBERIA</td>\n",
       "      <td>11.0</td>\n",
       "      <td>38.0</td>\n",
       "      <td>99.0</td>\n",
       "      <td>2015-09-06</td>\n",
       "      <td>237.410800</td>\n",
       "      <td>13.75</td>\n",
       "      <td>47.50</td>\n",
       "      <td>99.00</td>\n",
       "      <td>191.61</td>\n",
       "      <td>191.61</td>\n",
       "      <td>Poor</td>\n",
       "    </tr>\n",
       "    <tr>\n",
       "      <th>435706</th>\n",
       "      <td>West Bengal</td>\n",
       "      <td>ULUBERIA</td>\n",
       "      <td>12.0</td>\n",
       "      <td>35.0</td>\n",
       "      <td>121.0</td>\n",
       "      <td>2015-09-08</td>\n",
       "      <td>240.800000</td>\n",
       "      <td>15.00</td>\n",
       "      <td>43.75</td>\n",
       "      <td>141.41</td>\n",
       "      <td>193.87</td>\n",
       "      <td>193.87</td>\n",
       "      <td>Poor</td>\n",
       "    </tr>\n",
       "    <tr>\n",
       "      <th>435707</th>\n",
       "      <td>West Bengal</td>\n",
       "      <td>ULUBERIA</td>\n",
       "      <td>12.0</td>\n",
       "      <td>36.0</td>\n",
       "      <td>99.0</td>\n",
       "      <td>2015-09-11</td>\n",
       "      <td>184.800000</td>\n",
       "      <td>15.00</td>\n",
       "      <td>45.00</td>\n",
       "      <td>99.00</td>\n",
       "      <td>156.53</td>\n",
       "      <td>156.53</td>\n",
       "      <td>Poor</td>\n",
       "    </tr>\n",
       "    <tr>\n",
       "      <th>435708</th>\n",
       "      <td>West Bengal</td>\n",
       "      <td>ULUBERIA</td>\n",
       "      <td>12.0</td>\n",
       "      <td>34.0</td>\n",
       "      <td>92.0</td>\n",
       "      <td>2015-09-14</td>\n",
       "      <td>157.890000</td>\n",
       "      <td>15.00</td>\n",
       "      <td>42.50</td>\n",
       "      <td>92.00</td>\n",
       "      <td>138.59</td>\n",
       "      <td>138.59</td>\n",
       "      <td>Poor</td>\n",
       "    </tr>\n",
       "    <tr>\n",
       "      <th>435709</th>\n",
       "      <td>West Bengal</td>\n",
       "      <td>ULUBERIA</td>\n",
       "      <td>11.0</td>\n",
       "      <td>36.0</td>\n",
       "      <td>86.0</td>\n",
       "      <td>2015-09-17</td>\n",
       "      <td>194.855667</td>\n",
       "      <td>13.75</td>\n",
       "      <td>45.00</td>\n",
       "      <td>86.00</td>\n",
       "      <td>163.24</td>\n",
       "      <td>163.24</td>\n",
       "      <td>Poor</td>\n",
       "    </tr>\n",
       "    <tr>\n",
       "      <th>435710</th>\n",
       "      <td>West Bengal</td>\n",
       "      <td>ULUBERIA</td>\n",
       "      <td>18.0</td>\n",
       "      <td>48.0</td>\n",
       "      <td>162.0</td>\n",
       "      <td>2015-09-23</td>\n",
       "      <td>298.923400</td>\n",
       "      <td>22.50</td>\n",
       "      <td>60.00</td>\n",
       "      <td>206.47</td>\n",
       "      <td>248.92</td>\n",
       "      <td>248.92</td>\n",
       "      <td>Unhealthy</td>\n",
       "    </tr>\n",
       "    <tr>\n",
       "      <th>435711</th>\n",
       "      <td>West Bengal</td>\n",
       "      <td>ULUBERIA</td>\n",
       "      <td>12.0</td>\n",
       "      <td>42.0</td>\n",
       "      <td>107.0</td>\n",
       "      <td>2015-09-26</td>\n",
       "      <td>286.548900</td>\n",
       "      <td>15.00</td>\n",
       "      <td>52.50</td>\n",
       "      <td>113.12</td>\n",
       "      <td>236.55</td>\n",
       "      <td>236.55</td>\n",
       "      <td>Unhealthy</td>\n",
       "    </tr>\n",
       "    <tr>\n",
       "      <th>435712</th>\n",
       "      <td>West Bengal</td>\n",
       "      <td>ULUBERIA</td>\n",
       "      <td>12.0</td>\n",
       "      <td>38.0</td>\n",
       "      <td>103.0</td>\n",
       "      <td>2015-09-29</td>\n",
       "      <td>194.933733</td>\n",
       "      <td>15.00</td>\n",
       "      <td>47.50</td>\n",
       "      <td>105.04</td>\n",
       "      <td>163.29</td>\n",
       "      <td>163.29</td>\n",
       "      <td>Poor</td>\n",
       "    </tr>\n",
       "    <tr>\n",
       "      <th>435713</th>\n",
       "      <td>West Bengal</td>\n",
       "      <td>ULUBERIA</td>\n",
       "      <td>14.0</td>\n",
       "      <td>36.0</td>\n",
       "      <td>113.0</td>\n",
       "      <td>2015-10-03</td>\n",
       "      <td>261.010000</td>\n",
       "      <td>17.50</td>\n",
       "      <td>45.00</td>\n",
       "      <td>125.24</td>\n",
       "      <td>211.01</td>\n",
       "      <td>211.01</td>\n",
       "      <td>Unhealthy</td>\n",
       "    </tr>\n",
       "    <tr>\n",
       "      <th>435714</th>\n",
       "      <td>West Bengal</td>\n",
       "      <td>ULUBERIA</td>\n",
       "      <td>20.0</td>\n",
       "      <td>41.0</td>\n",
       "      <td>131.0</td>\n",
       "      <td>2015-10-08</td>\n",
       "      <td>326.132500</td>\n",
       "      <td>25.00</td>\n",
       "      <td>51.25</td>\n",
       "      <td>161.61</td>\n",
       "      <td>276.13</td>\n",
       "      <td>276.13</td>\n",
       "      <td>Unhealthy</td>\n",
       "    </tr>\n",
       "    <tr>\n",
       "      <th>435715</th>\n",
       "      <td>West Bengal</td>\n",
       "      <td>ULUBERIA</td>\n",
       "      <td>10.0</td>\n",
       "      <td>38.0</td>\n",
       "      <td>88.0</td>\n",
       "      <td>2015-10-11</td>\n",
       "      <td>191.470000</td>\n",
       "      <td>12.50</td>\n",
       "      <td>47.50</td>\n",
       "      <td>88.00</td>\n",
       "      <td>160.98</td>\n",
       "      <td>160.98</td>\n",
       "      <td>Poor</td>\n",
       "    </tr>\n",
       "    <tr>\n",
       "      <th>435716</th>\n",
       "      <td>West Bengal</td>\n",
       "      <td>ULUBERIA</td>\n",
       "      <td>12.0</td>\n",
       "      <td>40.0</td>\n",
       "      <td>116.0</td>\n",
       "      <td>2015-10-13</td>\n",
       "      <td>339.920000</td>\n",
       "      <td>15.00</td>\n",
       "      <td>50.00</td>\n",
       "      <td>131.31</td>\n",
       "      <td>289.92</td>\n",
       "      <td>289.92</td>\n",
       "      <td>Unhealthy</td>\n",
       "    </tr>\n",
       "    <tr>\n",
       "      <th>435717</th>\n",
       "      <td>West Bengal</td>\n",
       "      <td>ULUBERIA</td>\n",
       "      <td>21.0</td>\n",
       "      <td>52.0</td>\n",
       "      <td>134.0</td>\n",
       "      <td>2015-10-17</td>\n",
       "      <td>226.123333</td>\n",
       "      <td>26.25</td>\n",
       "      <td>65.00</td>\n",
       "      <td>167.67</td>\n",
       "      <td>184.08</td>\n",
       "      <td>184.08</td>\n",
       "      <td>Poor</td>\n",
       "    </tr>\n",
       "    <tr>\n",
       "      <th>435718</th>\n",
       "      <td>West Bengal</td>\n",
       "      <td>ULUBERIA</td>\n",
       "      <td>21.0</td>\n",
       "      <td>49.0</td>\n",
       "      <td>178.0</td>\n",
       "      <td>2015-10-19</td>\n",
       "      <td>292.505000</td>\n",
       "      <td>26.25</td>\n",
       "      <td>61.25</td>\n",
       "      <td>214.43</td>\n",
       "      <td>242.50</td>\n",
       "      <td>242.50</td>\n",
       "      <td>Unhealthy</td>\n",
       "    </tr>\n",
       "    <tr>\n",
       "      <th>435719</th>\n",
       "      <td>West Bengal</td>\n",
       "      <td>ULUBERIA</td>\n",
       "      <td>18.0</td>\n",
       "      <td>47.0</td>\n",
       "      <td>138.0</td>\n",
       "      <td>2015-10-23</td>\n",
       "      <td>283.653367</td>\n",
       "      <td>22.50</td>\n",
       "      <td>58.75</td>\n",
       "      <td>175.76</td>\n",
       "      <td>233.65</td>\n",
       "      <td>233.65</td>\n",
       "      <td>Unhealthy</td>\n",
       "    </tr>\n",
       "    <tr>\n",
       "      <th>435720</th>\n",
       "      <td>West Bengal</td>\n",
       "      <td>ULUBERIA</td>\n",
       "      <td>19.0</td>\n",
       "      <td>45.0</td>\n",
       "      <td>126.0</td>\n",
       "      <td>2015-10-28</td>\n",
       "      <td>234.360000</td>\n",
       "      <td>23.75</td>\n",
       "      <td>56.25</td>\n",
       "      <td>151.51</td>\n",
       "      <td>189.57</td>\n",
       "      <td>189.57</td>\n",
       "      <td>Poor</td>\n",
       "    </tr>\n",
       "    <tr>\n",
       "      <th>435721</th>\n",
       "      <td>West Bengal</td>\n",
       "      <td>ULUBERIA</td>\n",
       "      <td>11.0</td>\n",
       "      <td>34.0</td>\n",
       "      <td>90.0</td>\n",
       "      <td>2015-10-31</td>\n",
       "      <td>157.833333</td>\n",
       "      <td>13.75</td>\n",
       "      <td>42.50</td>\n",
       "      <td>90.00</td>\n",
       "      <td>138.56</td>\n",
       "      <td>138.56</td>\n",
       "      <td>Poor</td>\n",
       "    </tr>\n",
       "    <tr>\n",
       "      <th>435722</th>\n",
       "      <td>West Bengal</td>\n",
       "      <td>ULUBERIA</td>\n",
       "      <td>16.0</td>\n",
       "      <td>40.0</td>\n",
       "      <td>135.0</td>\n",
       "      <td>2015-11-05</td>\n",
       "      <td>320.770000</td>\n",
       "      <td>20.00</td>\n",
       "      <td>50.00</td>\n",
       "      <td>169.69</td>\n",
       "      <td>270.77</td>\n",
       "      <td>270.77</td>\n",
       "      <td>Unhealthy</td>\n",
       "    </tr>\n",
       "    <tr>\n",
       "      <th>435723</th>\n",
       "      <td>West Bengal</td>\n",
       "      <td>ULUBERIA</td>\n",
       "      <td>15.0</td>\n",
       "      <td>37.0</td>\n",
       "      <td>136.0</td>\n",
       "      <td>2015-11-07</td>\n",
       "      <td>273.638000</td>\n",
       "      <td>18.75</td>\n",
       "      <td>46.25</td>\n",
       "      <td>171.71</td>\n",
       "      <td>223.64</td>\n",
       "      <td>223.64</td>\n",
       "      <td>Unhealthy</td>\n",
       "    </tr>\n",
       "    <tr>\n",
       "      <th>435724</th>\n",
       "      <td>West Bengal</td>\n",
       "      <td>ULUBERIA</td>\n",
       "      <td>22.0</td>\n",
       "      <td>67.0</td>\n",
       "      <td>202.0</td>\n",
       "      <td>2015-11-10</td>\n",
       "      <td>517.087000</td>\n",
       "      <td>27.50</td>\n",
       "      <td>83.75</td>\n",
       "      <td>226.37</td>\n",
       "      <td>420.25</td>\n",
       "      <td>420.25</td>\n",
       "      <td>Hazardous</td>\n",
       "    </tr>\n",
       "    <tr>\n",
       "      <th>435725</th>\n",
       "      <td>West Bengal</td>\n",
       "      <td>ULUBERIA</td>\n",
       "      <td>20.0</td>\n",
       "      <td>64.0</td>\n",
       "      <td>181.0</td>\n",
       "      <td>2015-11-11</td>\n",
       "      <td>361.190000</td>\n",
       "      <td>25.00</td>\n",
       "      <td>80.00</td>\n",
       "      <td>215.92</td>\n",
       "      <td>313.99</td>\n",
       "      <td>313.99</td>\n",
       "      <td>Very unhealthy</td>\n",
       "    </tr>\n",
       "    <tr>\n",
       "      <th>435726</th>\n",
       "      <td>West Bengal</td>\n",
       "      <td>ULUBERIA</td>\n",
       "      <td>14.0</td>\n",
       "      <td>42.0</td>\n",
       "      <td>95.0</td>\n",
       "      <td>2015-11-16</td>\n",
       "      <td>158.365400</td>\n",
       "      <td>17.50</td>\n",
       "      <td>52.50</td>\n",
       "      <td>95.00</td>\n",
       "      <td>138.91</td>\n",
       "      <td>138.91</td>\n",
       "      <td>Poor</td>\n",
       "    </tr>\n",
       "    <tr>\n",
       "      <th>435727</th>\n",
       "      <td>West Bengal</td>\n",
       "      <td>ULUBERIA</td>\n",
       "      <td>11.0</td>\n",
       "      <td>34.0</td>\n",
       "      <td>118.0</td>\n",
       "      <td>2015-11-20</td>\n",
       "      <td>213.760000</td>\n",
       "      <td>13.75</td>\n",
       "      <td>42.50</td>\n",
       "      <td>135.35</td>\n",
       "      <td>175.84</td>\n",
       "      <td>175.84</td>\n",
       "      <td>Poor</td>\n",
       "    </tr>\n",
       "    <tr>\n",
       "      <th>435728</th>\n",
       "      <td>West Bengal</td>\n",
       "      <td>ULUBERIA</td>\n",
       "      <td>17.0</td>\n",
       "      <td>43.0</td>\n",
       "      <td>144.0</td>\n",
       "      <td>2015-11-26</td>\n",
       "      <td>295.106800</td>\n",
       "      <td>21.25</td>\n",
       "      <td>53.75</td>\n",
       "      <td>187.88</td>\n",
       "      <td>245.11</td>\n",
       "      <td>245.11</td>\n",
       "      <td>Unhealthy</td>\n",
       "    </tr>\n",
       "    <tr>\n",
       "      <th>435729</th>\n",
       "      <td>West Bengal</td>\n",
       "      <td>ULUBERIA</td>\n",
       "      <td>19.0</td>\n",
       "      <td>49.0</td>\n",
       "      <td>140.0</td>\n",
       "      <td>2015-11-29</td>\n",
       "      <td>321.445333</td>\n",
       "      <td>23.75</td>\n",
       "      <td>61.25</td>\n",
       "      <td>179.80</td>\n",
       "      <td>271.45</td>\n",
       "      <td>271.45</td>\n",
       "      <td>Unhealthy</td>\n",
       "    </tr>\n",
       "    <tr>\n",
       "      <th>435730</th>\n",
       "      <td>West Bengal</td>\n",
       "      <td>ULUBERIA</td>\n",
       "      <td>18.0</td>\n",
       "      <td>41.0</td>\n",
       "      <td>142.0</td>\n",
       "      <td>2015-12-03</td>\n",
       "      <td>354.827167</td>\n",
       "      <td>22.50</td>\n",
       "      <td>51.25</td>\n",
       "      <td>183.84</td>\n",
       "      <td>306.03</td>\n",
       "      <td>306.03</td>\n",
       "      <td>Very unhealthy</td>\n",
       "    </tr>\n",
       "    <tr>\n",
       "      <th>435731</th>\n",
       "      <td>West Bengal</td>\n",
       "      <td>ULUBERIA</td>\n",
       "      <td>22.0</td>\n",
       "      <td>58.0</td>\n",
       "      <td>155.0</td>\n",
       "      <td>2015-12-06</td>\n",
       "      <td>322.970000</td>\n",
       "      <td>27.50</td>\n",
       "      <td>72.50</td>\n",
       "      <td>202.99</td>\n",
       "      <td>272.97</td>\n",
       "      <td>272.97</td>\n",
       "      <td>Unhealthy</td>\n",
       "    </tr>\n",
       "    <tr>\n",
       "      <th>435732</th>\n",
       "      <td>West Bengal</td>\n",
       "      <td>ULUBERIA</td>\n",
       "      <td>22.0</td>\n",
       "      <td>50.0</td>\n",
       "      <td>145.0</td>\n",
       "      <td>2015-12-09</td>\n",
       "      <td>301.950000</td>\n",
       "      <td>27.50</td>\n",
       "      <td>62.50</td>\n",
       "      <td>189.90</td>\n",
       "      <td>251.95</td>\n",
       "      <td>251.95</td>\n",
       "      <td>Unhealthy</td>\n",
       "    </tr>\n",
       "    <tr>\n",
       "      <th>435733</th>\n",
       "      <td>West Bengal</td>\n",
       "      <td>ULUBERIA</td>\n",
       "      <td>34.0</td>\n",
       "      <td>61.0</td>\n",
       "      <td>161.0</td>\n",
       "      <td>2015-12-12</td>\n",
       "      <td>256.656667</td>\n",
       "      <td>42.50</td>\n",
       "      <td>76.25</td>\n",
       "      <td>205.97</td>\n",
       "      <td>206.66</td>\n",
       "      <td>206.66</td>\n",
       "      <td>Unhealthy</td>\n",
       "    </tr>\n",
       "    <tr>\n",
       "      <th>435734</th>\n",
       "      <td>West Bengal</td>\n",
       "      <td>ULUBERIA</td>\n",
       "      <td>20.0</td>\n",
       "      <td>44.0</td>\n",
       "      <td>148.0</td>\n",
       "      <td>2015-12-15</td>\n",
       "      <td>319.580300</td>\n",
       "      <td>25.00</td>\n",
       "      <td>55.00</td>\n",
       "      <td>195.96</td>\n",
       "      <td>269.58</td>\n",
       "      <td>269.58</td>\n",
       "      <td>Unhealthy</td>\n",
       "    </tr>\n",
       "    <tr>\n",
       "      <th>435735</th>\n",
       "      <td>West Bengal</td>\n",
       "      <td>ULUBERIA</td>\n",
       "      <td>17.0</td>\n",
       "      <td>44.0</td>\n",
       "      <td>131.0</td>\n",
       "      <td>2015-12-18</td>\n",
       "      <td>297.920633</td>\n",
       "      <td>21.25</td>\n",
       "      <td>55.00</td>\n",
       "      <td>161.61</td>\n",
       "      <td>247.92</td>\n",
       "      <td>247.92</td>\n",
       "      <td>Unhealthy</td>\n",
       "    </tr>\n",
       "    <tr>\n",
       "      <th>435736</th>\n",
       "      <td>West Bengal</td>\n",
       "      <td>ULUBERIA</td>\n",
       "      <td>18.0</td>\n",
       "      <td>45.0</td>\n",
       "      <td>140.0</td>\n",
       "      <td>2015-12-21</td>\n",
       "      <td>344.860100</td>\n",
       "      <td>22.50</td>\n",
       "      <td>56.25</td>\n",
       "      <td>179.80</td>\n",
       "      <td>294.86</td>\n",
       "      <td>294.86</td>\n",
       "      <td>Unhealthy</td>\n",
       "    </tr>\n",
       "    <tr>\n",
       "      <th>435737</th>\n",
       "      <td>West Bengal</td>\n",
       "      <td>ULUBERIA</td>\n",
       "      <td>22.0</td>\n",
       "      <td>50.0</td>\n",
       "      <td>143.0</td>\n",
       "      <td>2015-12-24</td>\n",
       "      <td>243.720000</td>\n",
       "      <td>27.50</td>\n",
       "      <td>62.50</td>\n",
       "      <td>185.86</td>\n",
       "      <td>195.81</td>\n",
       "      <td>195.81</td>\n",
       "      <td>Poor</td>\n",
       "    </tr>\n",
       "    <tr>\n",
       "      <th>435738</th>\n",
       "      <td>West Bengal</td>\n",
       "      <td>ULUBERIA</td>\n",
       "      <td>20.0</td>\n",
       "      <td>46.0</td>\n",
       "      <td>171.0</td>\n",
       "      <td>2015-12-29</td>\n",
       "      <td>259.896567</td>\n",
       "      <td>25.00</td>\n",
       "      <td>57.50</td>\n",
       "      <td>210.95</td>\n",
       "      <td>209.90</td>\n",
       "      <td>210.95</td>\n",
       "      <td>Unhealthy</td>\n",
       "    </tr>\n",
       "  </tbody>\n",
       "</table>\n",
       "</div>"
      ],
      "text/plain": [
       "              state  location   so2   no2   rspm        date         spm  \\\n",
       "435699  West Bengal  ULUBERIA  14.0  43.0  118.0  2015-08-14  308.970000   \n",
       "435700  West Bengal  ULUBERIA  11.0  35.0   94.0  2015-08-17  161.983333   \n",
       "435701  West Bengal  ULUBERIA  12.0  52.0  118.0  2015-08-20  348.413333   \n",
       "435702  West Bengal  ULUBERIA  20.0  51.0  145.0  2015-08-26  249.926700   \n",
       "435703  West Bengal  ULUBERIA  21.0  58.0  159.0  2015-08-30  341.544000   \n",
       "435704  West Bengal  ULUBERIA  14.0  38.0   98.0  2015-09-03  219.798400   \n",
       "435705  West Bengal  ULUBERIA  11.0  38.0   99.0  2015-09-06  237.410800   \n",
       "435706  West Bengal  ULUBERIA  12.0  35.0  121.0  2015-09-08  240.800000   \n",
       "435707  West Bengal  ULUBERIA  12.0  36.0   99.0  2015-09-11  184.800000   \n",
       "435708  West Bengal  ULUBERIA  12.0  34.0   92.0  2015-09-14  157.890000   \n",
       "435709  West Bengal  ULUBERIA  11.0  36.0   86.0  2015-09-17  194.855667   \n",
       "435710  West Bengal  ULUBERIA  18.0  48.0  162.0  2015-09-23  298.923400   \n",
       "435711  West Bengal  ULUBERIA  12.0  42.0  107.0  2015-09-26  286.548900   \n",
       "435712  West Bengal  ULUBERIA  12.0  38.0  103.0  2015-09-29  194.933733   \n",
       "435713  West Bengal  ULUBERIA  14.0  36.0  113.0  2015-10-03  261.010000   \n",
       "435714  West Bengal  ULUBERIA  20.0  41.0  131.0  2015-10-08  326.132500   \n",
       "435715  West Bengal  ULUBERIA  10.0  38.0   88.0  2015-10-11  191.470000   \n",
       "435716  West Bengal  ULUBERIA  12.0  40.0  116.0  2015-10-13  339.920000   \n",
       "435717  West Bengal  ULUBERIA  21.0  52.0  134.0  2015-10-17  226.123333   \n",
       "435718  West Bengal  ULUBERIA  21.0  49.0  178.0  2015-10-19  292.505000   \n",
       "435719  West Bengal  ULUBERIA  18.0  47.0  138.0  2015-10-23  283.653367   \n",
       "435720  West Bengal  ULUBERIA  19.0  45.0  126.0  2015-10-28  234.360000   \n",
       "435721  West Bengal  ULUBERIA  11.0  34.0   90.0  2015-10-31  157.833333   \n",
       "435722  West Bengal  ULUBERIA  16.0  40.0  135.0  2015-11-05  320.770000   \n",
       "435723  West Bengal  ULUBERIA  15.0  37.0  136.0  2015-11-07  273.638000   \n",
       "435724  West Bengal  ULUBERIA  22.0  67.0  202.0  2015-11-10  517.087000   \n",
       "435725  West Bengal  ULUBERIA  20.0  64.0  181.0  2015-11-11  361.190000   \n",
       "435726  West Bengal  ULUBERIA  14.0  42.0   95.0  2015-11-16  158.365400   \n",
       "435727  West Bengal  ULUBERIA  11.0  34.0  118.0  2015-11-20  213.760000   \n",
       "435728  West Bengal  ULUBERIA  17.0  43.0  144.0  2015-11-26  295.106800   \n",
       "435729  West Bengal  ULUBERIA  19.0  49.0  140.0  2015-11-29  321.445333   \n",
       "435730  West Bengal  ULUBERIA  18.0  41.0  142.0  2015-12-03  354.827167   \n",
       "435731  West Bengal  ULUBERIA  22.0  58.0  155.0  2015-12-06  322.970000   \n",
       "435732  West Bengal  ULUBERIA  22.0  50.0  145.0  2015-12-09  301.950000   \n",
       "435733  West Bengal  ULUBERIA  34.0  61.0  161.0  2015-12-12  256.656667   \n",
       "435734  West Bengal  ULUBERIA  20.0  44.0  148.0  2015-12-15  319.580300   \n",
       "435735  West Bengal  ULUBERIA  17.0  44.0  131.0  2015-12-18  297.920633   \n",
       "435736  West Bengal  ULUBERIA  18.0  45.0  140.0  2015-12-21  344.860100   \n",
       "435737  West Bengal  ULUBERIA  22.0  50.0  143.0  2015-12-24  243.720000   \n",
       "435738  West Bengal  ULUBERIA  20.0  46.0  171.0  2015-12-29  259.896567   \n",
       "\n",
       "          SOi    Noi   RSPMi    SPMi     AQI       AQI_Range  \n",
       "435699  17.50  53.75  135.35  258.97  258.97       Unhealthy  \n",
       "435700  13.75  43.75   94.00  141.32  141.32            Poor  \n",
       "435701  15.00  65.00  135.35  298.41  298.41       Unhealthy  \n",
       "435702  25.00  63.75  189.90  199.95  199.95            Poor  \n",
       "435703  26.25  72.50  204.98  291.54  291.54       Unhealthy  \n",
       "435704  17.50  47.50   98.00  179.87  179.87            Poor  \n",
       "435705  13.75  47.50   99.00  191.61  191.61            Poor  \n",
       "435706  15.00  43.75  141.41  193.87  193.87            Poor  \n",
       "435707  15.00  45.00   99.00  156.53  156.53            Poor  \n",
       "435708  15.00  42.50   92.00  138.59  138.59            Poor  \n",
       "435709  13.75  45.00   86.00  163.24  163.24            Poor  \n",
       "435710  22.50  60.00  206.47  248.92  248.92       Unhealthy  \n",
       "435711  15.00  52.50  113.12  236.55  236.55       Unhealthy  \n",
       "435712  15.00  47.50  105.04  163.29  163.29            Poor  \n",
       "435713  17.50  45.00  125.24  211.01  211.01       Unhealthy  \n",
       "435714  25.00  51.25  161.61  276.13  276.13       Unhealthy  \n",
       "435715  12.50  47.50   88.00  160.98  160.98            Poor  \n",
       "435716  15.00  50.00  131.31  289.92  289.92       Unhealthy  \n",
       "435717  26.25  65.00  167.67  184.08  184.08            Poor  \n",
       "435718  26.25  61.25  214.43  242.50  242.50       Unhealthy  \n",
       "435719  22.50  58.75  175.76  233.65  233.65       Unhealthy  \n",
       "435720  23.75  56.25  151.51  189.57  189.57            Poor  \n",
       "435721  13.75  42.50   90.00  138.56  138.56            Poor  \n",
       "435722  20.00  50.00  169.69  270.77  270.77       Unhealthy  \n",
       "435723  18.75  46.25  171.71  223.64  223.64       Unhealthy  \n",
       "435724  27.50  83.75  226.37  420.25  420.25       Hazardous  \n",
       "435725  25.00  80.00  215.92  313.99  313.99  Very unhealthy  \n",
       "435726  17.50  52.50   95.00  138.91  138.91            Poor  \n",
       "435727  13.75  42.50  135.35  175.84  175.84            Poor  \n",
       "435728  21.25  53.75  187.88  245.11  245.11       Unhealthy  \n",
       "435729  23.75  61.25  179.80  271.45  271.45       Unhealthy  \n",
       "435730  22.50  51.25  183.84  306.03  306.03  Very unhealthy  \n",
       "435731  27.50  72.50  202.99  272.97  272.97       Unhealthy  \n",
       "435732  27.50  62.50  189.90  251.95  251.95       Unhealthy  \n",
       "435733  42.50  76.25  205.97  206.66  206.66       Unhealthy  \n",
       "435734  25.00  55.00  195.96  269.58  269.58       Unhealthy  \n",
       "435735  21.25  55.00  161.61  247.92  247.92       Unhealthy  \n",
       "435736  22.50  56.25  179.80  294.86  294.86       Unhealthy  \n",
       "435737  27.50  62.50  185.86  195.81  195.81            Poor  \n",
       "435738  25.00  57.50  210.95  209.90  210.95       Unhealthy  "
      ]
     },
     "execution_count": 55,
     "metadata": {},
     "output_type": "execute_result"
    }
   ],
   "source": [
    "d.tail(40)"
   ]
  },
  {
   "cell_type": "code",
   "execution_count": 56,
   "id": "about-bleeding",
   "metadata": {},
   "outputs": [
    {
     "name": "stdout",
     "output_type": "stream",
     "text": [
      "length : 6\n"
     ]
    },
    {
     "data": {
      "text/plain": [
       "(array(['Poor', 'Moderate', 'Unhealthy', 'Very unhealthy', 'Hazardous',\n",
       "        'Good'], dtype=object),\n",
       " None)"
      ]
     },
     "execution_count": 56,
     "metadata": {},
     "output_type": "execute_result"
    }
   ],
   "source": [
    "d['AQI_Range'].unique(), print('length : {}'.format(len(d['AQI_Range'].unique())))"
   ]
  },
  {
   "cell_type": "code",
   "execution_count": 57,
   "id": "monetary-specification",
   "metadata": {},
   "outputs": [],
   "source": [
    "# making the categorical variable to values and putting them in my final table\n",
    "\n",
    "lst = []\n",
    "for i in d.AQI_Range:\n",
    "    if i == 'Poor':\n",
    "        lst.append(1)\n",
    "\n",
    "    elif i == 'Moderate':\n",
    "        lst.append(2)\n",
    "\n",
    "    elif i == 'Unhealthy':\n",
    "        lst.append(3)\n",
    "\n",
    "    elif i == 'Very unhealthy':\n",
    "        lst.append(4)\n",
    "\n",
    "    elif i == 'Hazardous':\n",
    "        lst.append(5)\n",
    "\n",
    "    else:\n",
    "        lst.append(6)"
   ]
  },
  {
   "cell_type": "code",
   "execution_count": 58,
   "id": "neural-event",
   "metadata": {},
   "outputs": [
    {
     "name": "stderr",
     "output_type": "stream",
     "text": [
      "C:\\Anaconda3\\envs\\nlp\\lib\\site-packages\\ipykernel_launcher.py:1: SettingWithCopyWarning: \n",
      "A value is trying to be set on a copy of a slice from a DataFrame.\n",
      "Try using .loc[row_indexer,col_indexer] = value instead\n",
      "\n",
      "See the caveats in the documentation: https://pandas.pydata.org/pandas-docs/stable/user_guide/indexing.html#returning-a-view-versus-a-copy\n",
      "  \"\"\"Entry point for launching an IPython kernel.\n"
     ]
    }
   ],
   "source": [
    "d['AQI_Range_val']  = lst"
   ]
  },
  {
   "cell_type": "code",
   "execution_count": 59,
   "id": "selected-capacity",
   "metadata": {},
   "outputs": [
    {
     "data": {
      "text/html": [
       "<div>\n",
       "<style scoped>\n",
       "    .dataframe tbody tr th:only-of-type {\n",
       "        vertical-align: middle;\n",
       "    }\n",
       "\n",
       "    .dataframe tbody tr th {\n",
       "        vertical-align: top;\n",
       "    }\n",
       "\n",
       "    .dataframe thead th {\n",
       "        text-align: right;\n",
       "    }\n",
       "</style>\n",
       "<table border=\"1\" class=\"dataframe\">\n",
       "  <thead>\n",
       "    <tr style=\"text-align: right;\">\n",
       "      <th></th>\n",
       "      <th>state</th>\n",
       "      <th>location</th>\n",
       "      <th>so2</th>\n",
       "      <th>no2</th>\n",
       "      <th>rspm</th>\n",
       "      <th>date</th>\n",
       "      <th>spm</th>\n",
       "      <th>SOi</th>\n",
       "      <th>Noi</th>\n",
       "      <th>RSPMi</th>\n",
       "      <th>SPMi</th>\n",
       "      <th>AQI</th>\n",
       "      <th>AQI_Range</th>\n",
       "      <th>AQI_Range_val</th>\n",
       "    </tr>\n",
       "  </thead>\n",
       "  <tbody>\n",
       "    <tr>\n",
       "      <th>435734</th>\n",
       "      <td>West Bengal</td>\n",
       "      <td>ULUBERIA</td>\n",
       "      <td>20.0</td>\n",
       "      <td>44.0</td>\n",
       "      <td>148.0</td>\n",
       "      <td>2015-12-15</td>\n",
       "      <td>319.580300</td>\n",
       "      <td>25.00</td>\n",
       "      <td>55.00</td>\n",
       "      <td>195.96</td>\n",
       "      <td>269.58</td>\n",
       "      <td>269.58</td>\n",
       "      <td>Unhealthy</td>\n",
       "      <td>3</td>\n",
       "    </tr>\n",
       "    <tr>\n",
       "      <th>435735</th>\n",
       "      <td>West Bengal</td>\n",
       "      <td>ULUBERIA</td>\n",
       "      <td>17.0</td>\n",
       "      <td>44.0</td>\n",
       "      <td>131.0</td>\n",
       "      <td>2015-12-18</td>\n",
       "      <td>297.920633</td>\n",
       "      <td>21.25</td>\n",
       "      <td>55.00</td>\n",
       "      <td>161.61</td>\n",
       "      <td>247.92</td>\n",
       "      <td>247.92</td>\n",
       "      <td>Unhealthy</td>\n",
       "      <td>3</td>\n",
       "    </tr>\n",
       "    <tr>\n",
       "      <th>435736</th>\n",
       "      <td>West Bengal</td>\n",
       "      <td>ULUBERIA</td>\n",
       "      <td>18.0</td>\n",
       "      <td>45.0</td>\n",
       "      <td>140.0</td>\n",
       "      <td>2015-12-21</td>\n",
       "      <td>344.860100</td>\n",
       "      <td>22.50</td>\n",
       "      <td>56.25</td>\n",
       "      <td>179.80</td>\n",
       "      <td>294.86</td>\n",
       "      <td>294.86</td>\n",
       "      <td>Unhealthy</td>\n",
       "      <td>3</td>\n",
       "    </tr>\n",
       "    <tr>\n",
       "      <th>435737</th>\n",
       "      <td>West Bengal</td>\n",
       "      <td>ULUBERIA</td>\n",
       "      <td>22.0</td>\n",
       "      <td>50.0</td>\n",
       "      <td>143.0</td>\n",
       "      <td>2015-12-24</td>\n",
       "      <td>243.720000</td>\n",
       "      <td>27.50</td>\n",
       "      <td>62.50</td>\n",
       "      <td>185.86</td>\n",
       "      <td>195.81</td>\n",
       "      <td>195.81</td>\n",
       "      <td>Poor</td>\n",
       "      <td>1</td>\n",
       "    </tr>\n",
       "    <tr>\n",
       "      <th>435738</th>\n",
       "      <td>West Bengal</td>\n",
       "      <td>ULUBERIA</td>\n",
       "      <td>20.0</td>\n",
       "      <td>46.0</td>\n",
       "      <td>171.0</td>\n",
       "      <td>2015-12-29</td>\n",
       "      <td>259.896567</td>\n",
       "      <td>25.00</td>\n",
       "      <td>57.50</td>\n",
       "      <td>210.95</td>\n",
       "      <td>209.90</td>\n",
       "      <td>210.95</td>\n",
       "      <td>Unhealthy</td>\n",
       "      <td>3</td>\n",
       "    </tr>\n",
       "  </tbody>\n",
       "</table>\n",
       "</div>"
      ],
      "text/plain": [
       "              state  location   so2   no2   rspm        date         spm  \\\n",
       "435734  West Bengal  ULUBERIA  20.0  44.0  148.0  2015-12-15  319.580300   \n",
       "435735  West Bengal  ULUBERIA  17.0  44.0  131.0  2015-12-18  297.920633   \n",
       "435736  West Bengal  ULUBERIA  18.0  45.0  140.0  2015-12-21  344.860100   \n",
       "435737  West Bengal  ULUBERIA  22.0  50.0  143.0  2015-12-24  243.720000   \n",
       "435738  West Bengal  ULUBERIA  20.0  46.0  171.0  2015-12-29  259.896567   \n",
       "\n",
       "          SOi    Noi   RSPMi    SPMi     AQI  AQI_Range  AQI_Range_val  \n",
       "435734  25.00  55.00  195.96  269.58  269.58  Unhealthy              3  \n",
       "435735  21.25  55.00  161.61  247.92  247.92  Unhealthy              3  \n",
       "435736  22.50  56.25  179.80  294.86  294.86  Unhealthy              3  \n",
       "435737  27.50  62.50  185.86  195.81  195.81       Poor              1  \n",
       "435738  25.00  57.50  210.95  209.90  210.95  Unhealthy              3  "
      ]
     },
     "execution_count": 59,
     "metadata": {},
     "output_type": "execute_result"
    }
   ],
   "source": [
    "d.tail()"
   ]
  },
  {
   "cell_type": "markdown",
   "id": "broken-battle",
   "metadata": {},
   "source": [
    "## Regression Part with 1) Linear Regression"
   ]
  },
  {
   "cell_type": "code",
   "execution_count": 60,
   "id": "cubic-slave",
   "metadata": {},
   "outputs": [
    {
     "data": {
      "text/plain": [
       "0.9813827202125431"
      ]
     },
     "execution_count": 60,
     "metadata": {},
     "output_type": "execute_result"
    }
   ],
   "source": [
    "X = d[['SOi','Noi','RSPMi','SPMi']]\n",
    "y = d['AQI']\n",
    "\n",
    "X_train, X_test, y_train, y_test = train_test_split(X,y, test_size=0.2,random_state=0)\n",
    "\n",
    "\n",
    "LR = LinearRegression() \n",
    "LR.fit(X_train, y_train)\n",
    "predictions = LR.predict(X_test)\n",
    "LR.score(X_test,y_test) "
   ]
  },
  {
   "cell_type": "code",
   "execution_count": 61,
   "id": "anonymous-morgan",
   "metadata": {},
   "outputs": [
    {
     "data": {
      "text/plain": [
       "array([108.19860847])"
      ]
     },
     "execution_count": 61,
     "metadata": {},
     "output_type": "execute_result"
    }
   ],
   "source": [
    "LR.predict([[4.8,21.75,78.18,100]]) "
   ]
  },
  {
   "cell_type": "code",
   "execution_count": 62,
   "id": "genuine-effects",
   "metadata": {},
   "outputs": [
    {
     "name": "stdout",
     "output_type": "stream",
     "text": [
      "R^2_Square:0.98 \n",
      "MSE:14.92 \n"
     ]
    },
    {
     "name": "stderr",
     "output_type": "stream",
     "text": [
      "C:\\Anaconda3\\envs\\nlp\\lib\\site-packages\\seaborn\\_decorators.py:43: FutureWarning: Pass the following variables as keyword args: x, y. From version 0.12, the only valid positional argument will be `data`, and passing other arguments without an explicit keyword will result in an error or misinterpretation.\n",
      "  FutureWarning\n"
     ]
    },
    {
     "data": {
      "text/plain": [
       "<AxesSubplot:xlabel='AQI'>"
      ]
     },
     "execution_count": 62,
     "metadata": {},
     "output_type": "execute_result"
    },
    {
     "data": {
      "image/png": "[encoded data removed]",
      "text/plain": [
       "<Figure size 432x288 with 1 Axes>"
      ]
     },
     "metadata": {
      "needs_background": "light"
     },
     "output_type": "display_data"
    }
   ],
   "source": [
    "print('R^2_Square:%.2f '% r2_score(y_test, predictions))\n",
    "print('MSE:%.2f '% np.sqrt(mean_squared_error(y_test, predictions)))\n",
    "\n",
    "sns.regplot(y_test,predictions)"
   ]
  },
  {
   "cell_type": "code",
   "execution_count": 63,
   "id": "opposite-irrigation",
   "metadata": {},
   "outputs": [
    {
     "data": {
      "text/plain": [
       "0.9267726789502237"
      ]
     },
     "execution_count": 63,
     "metadata": {},
     "output_type": "execute_result"
    }
   ],
   "source": [
    "X1= d[['so2','no2','rspm','spm']]\n",
    "y1 = d['AQI']\n",
    "\n",
    "X_train1, X_test1, y_train1, y_test1 = train_test_split(X1,y1, test_size=0.33,random_state=0)\n",
    "\n",
    "LR1 = LinearRegression()\n",
    "LR1.fit(X_train1, y_train1)\n",
    "\n",
    "prediction1 = LR1.predict(X_test1)\n",
    "\n",
    "# y_test1_np= np.array(y_test1)\n",
    "# prediction1_np = np.array(prediction1)\n",
    "\n",
    "LR1.score(X_test1,y_test1) "
   ]
  },
  {
   "cell_type": "code",
   "execution_count": 64,
   "id": "outside-comparative",
   "metadata": {},
   "outputs": [
    {
     "name": "stdout",
     "output_type": "stream",
     "text": [
      "R^2_Square:0.93 \n",
      "MSE:30.25 \n"
     ]
    }
   ],
   "source": [
    "print('R^2_Square:%.2f '% r2_score(y_test1, prediction1))\n",
    "print('MSE:%.2f '% np.sqrt(mean_squared_error(y_test1, prediction1)))"
   ]
  },
  {
   "cell_type": "code",
   "execution_count": null,
   "id": "continent-vatican",
   "metadata": {},
   "outputs": [],
   "source": []
  },
  {
   "cell_type": "markdown",
   "id": "alpine-found",
   "metadata": {},
   "source": [
    "### ADD MORE REGRESSION MODELS"
   ]
  },
  {
   "cell_type": "markdown",
   "id": "infinite-difference",
   "metadata": {},
   "source": [
    "### RandomForest Regressor"
   ]
  },
  {
   "cell_type": "code",
   "execution_count": 90,
   "id": "monthly-bottle",
   "metadata": {},
   "outputs": [
    {
     "name": "stdout",
     "output_type": "stream",
     "text": [
      "Fitting 5 folds for each of 10 candidates, totalling 50 fits\n",
      "[CV] n_estimators=900, min_samples_split=5, min_samples_leaf=5, max_features=sqrt, max_depth=10 \n"
     ]
    },
    {
     "name": "stderr",
     "output_type": "stream",
     "text": [
      "[Parallel(n_jobs=1)]: Using backend SequentialBackend with 1 concurrent workers.\n"
     ]
    },
    {
     "name": "stdout",
     "output_type": "stream",
     "text": [
      "[CV]  n_estimators=900, min_samples_split=5, min_samples_leaf=5, max_features=sqrt, max_depth=10, total= 3.5min\n",
      "[CV] n_estimators=900, min_samples_split=5, min_samples_leaf=5, max_features=sqrt, max_depth=10 \n"
     ]
    },
    {
     "name": "stderr",
     "output_type": "stream",
     "text": [
      "[Parallel(n_jobs=1)]: Done   1 out of   1 | elapsed:  3.5min remaining:    0.0s\n"
     ]
    },
    {
     "ename": "KeyboardInterrupt",
     "evalue": "",
     "output_type": "error",
     "traceback": [
      "\u001b[1;31m---------------------------------------------------------------------------\u001b[0m",
      "\u001b[1;31mKeyboardInterrupt\u001b[0m                         Traceback (most recent call last)",
      "\u001b[1;32m<ipython-input-90-c8d8f4e6b9f1>\u001b[0m in \u001b[0;36m<module>\u001b[1;34m\u001b[0m\n\u001b[0;32m     31\u001b[0m \u001b[0mmodel_hypertuned\u001b[0m \u001b[1;33m=\u001b[0m \u001b[0mRandomizedSearchCV\u001b[0m\u001b[1;33m(\u001b[0m\u001b[0mestimator\u001b[0m \u001b[1;33m=\u001b[0m \u001b[0mmodel_rf\u001b[0m\u001b[1;33m,\u001b[0m \u001b[0mparam_distributions\u001b[0m \u001b[1;33m=\u001b[0m \u001b[0mrandom_grid\u001b[0m\u001b[1;33m,\u001b[0m \u001b[0mscoring\u001b[0m\u001b[1;33m=\u001b[0m\u001b[1;34m'neg_mean_squared_error'\u001b[0m\u001b[1;33m,\u001b[0m \u001b[0mn_iter\u001b[0m \u001b[1;33m=\u001b[0m \u001b[1;36m10\u001b[0m\u001b[1;33m,\u001b[0m \u001b[0mcv\u001b[0m \u001b[1;33m=\u001b[0m \u001b[1;36m5\u001b[0m\u001b[1;33m,\u001b[0m \u001b[0mverbose\u001b[0m\u001b[1;33m=\u001b[0m\u001b[1;36m2\u001b[0m\u001b[1;33m,\u001b[0m \u001b[0mrandom_state\u001b[0m\u001b[1;33m=\u001b[0m\u001b[1;36m42\u001b[0m\u001b[1;33m,\u001b[0m \u001b[0mn_jobs\u001b[0m \u001b[1;33m=\u001b[0m \u001b[1;36m1\u001b[0m\u001b[1;33m)\u001b[0m\u001b[1;33m\u001b[0m\u001b[1;33m\u001b[0m\u001b[0m\n\u001b[0;32m     32\u001b[0m \u001b[1;33m\u001b[0m\u001b[0m\n\u001b[1;32m---> 33\u001b[1;33m \u001b[0mmodel_hypertuned\u001b[0m\u001b[1;33m.\u001b[0m\u001b[0mfit\u001b[0m\u001b[1;33m(\u001b[0m\u001b[0mX_train\u001b[0m\u001b[1;33m,\u001b[0m\u001b[0my_train\u001b[0m\u001b[1;33m)\u001b[0m\u001b[1;33m\u001b[0m\u001b[1;33m\u001b[0m\u001b[0m\n\u001b[0m\u001b[0;32m     34\u001b[0m \u001b[1;33m\u001b[0m\u001b[0m\n\u001b[0;32m     35\u001b[0m \u001b[0mmodel_hypertuned\u001b[0m\u001b[1;33m.\u001b[0m\u001b[0mbest_params_\u001b[0m\u001b[1;33m\u001b[0m\u001b[1;33m\u001b[0m\u001b[0m\n",
      "\u001b[1;32mC:\\Anaconda3\\envs\\nlp\\lib\\site-packages\\sklearn\\utils\\validation.py\u001b[0m in \u001b[0;36minner_f\u001b[1;34m(*args, **kwargs)\u001b[0m\n\u001b[0;32m     70\u001b[0m                           FutureWarning)\n\u001b[0;32m     71\u001b[0m         \u001b[0mkwargs\u001b[0m\u001b[1;33m.\u001b[0m\u001b[0mupdate\u001b[0m\u001b[1;33m(\u001b[0m\u001b[1;33m{\u001b[0m\u001b[0mk\u001b[0m\u001b[1;33m:\u001b[0m \u001b[0marg\u001b[0m \u001b[1;32mfor\u001b[0m \u001b[0mk\u001b[0m\u001b[1;33m,\u001b[0m \u001b[0marg\u001b[0m \u001b[1;32min\u001b[0m \u001b[0mzip\u001b[0m\u001b[1;33m(\u001b[0m\u001b[0msig\u001b[0m\u001b[1;33m.\u001b[0m\u001b[0mparameters\u001b[0m\u001b[1;33m,\u001b[0m \u001b[0margs\u001b[0m\u001b[1;33m)\u001b[0m\u001b[1;33m}\u001b[0m\u001b[1;33m)\u001b[0m\u001b[1;33m\u001b[0m\u001b[1;33m\u001b[0m\u001b[0m\n\u001b[1;32m---> 72\u001b[1;33m         \u001b[1;32mreturn\u001b[0m \u001b[0mf\u001b[0m\u001b[1;33m(\u001b[0m\u001b[1;33m**\u001b[0m\u001b[0mkwargs\u001b[0m\u001b[1;33m)\u001b[0m\u001b[1;33m\u001b[0m\u001b[1;33m\u001b[0m\u001b[0m\n\u001b[0m\u001b[0;32m     73\u001b[0m     \u001b[1;32mreturn\u001b[0m \u001b[0minner_f\u001b[0m\u001b[1;33m\u001b[0m\u001b[1;33m\u001b[0m\u001b[0m\n\u001b[0;32m     74\u001b[0m \u001b[1;33m\u001b[0m\u001b[0m\n",
      "\u001b[1;32mC:\\Anaconda3\\envs\\nlp\\lib\\site-packages\\sklearn\\model_selection\\_search.py\u001b[0m in \u001b[0;36mfit\u001b[1;34m(self, X, y, groups, **fit_params)\u001b[0m\n\u001b[0;32m    734\u001b[0m                 \u001b[1;32mreturn\u001b[0m \u001b[0mresults\u001b[0m\u001b[1;33m\u001b[0m\u001b[1;33m\u001b[0m\u001b[0m\n\u001b[0;32m    735\u001b[0m \u001b[1;33m\u001b[0m\u001b[0m\n\u001b[1;32m--> 736\u001b[1;33m             \u001b[0mself\u001b[0m\u001b[1;33m.\u001b[0m\u001b[0m_run_search\u001b[0m\u001b[1;33m(\u001b[0m\u001b[0mevaluate_candidates\u001b[0m\u001b[1;33m)\u001b[0m\u001b[1;33m\u001b[0m\u001b[1;33m\u001b[0m\u001b[0m\n\u001b[0m\u001b[0;32m    737\u001b[0m \u001b[1;33m\u001b[0m\u001b[0m\n\u001b[0;32m    738\u001b[0m         \u001b[1;31m# For multi-metric evaluation, store the best_index_, best_params_ and\u001b[0m\u001b[1;33m\u001b[0m\u001b[1;33m\u001b[0m\u001b[1;33m\u001b[0m\u001b[0m\n",
      "\u001b[1;32mC:\\Anaconda3\\envs\\nlp\\lib\\site-packages\\sklearn\\model_selection\\_search.py\u001b[0m in \u001b[0;36m_run_search\u001b[1;34m(self, evaluate_candidates)\u001b[0m\n\u001b[0;32m   1529\u001b[0m         evaluate_candidates(ParameterSampler(\n\u001b[0;32m   1530\u001b[0m             \u001b[0mself\u001b[0m\u001b[1;33m.\u001b[0m\u001b[0mparam_distributions\u001b[0m\u001b[1;33m,\u001b[0m \u001b[0mself\u001b[0m\u001b[1;33m.\u001b[0m\u001b[0mn_iter\u001b[0m\u001b[1;33m,\u001b[0m\u001b[1;33m\u001b[0m\u001b[1;33m\u001b[0m\u001b[0m\n\u001b[1;32m-> 1531\u001b[1;33m             random_state=self.random_state))\n\u001b[0m",
      "\u001b[1;32mC:\\Anaconda3\\envs\\nlp\\lib\\site-packages\\sklearn\\model_selection\\_search.py\u001b[0m in \u001b[0;36mevaluate_candidates\u001b[1;34m(candidate_params)\u001b[0m\n\u001b[0;32m    713\u001b[0m                                \u001b[1;32mfor\u001b[0m \u001b[0mparameters\u001b[0m\u001b[1;33m,\u001b[0m \u001b[1;33m(\u001b[0m\u001b[0mtrain\u001b[0m\u001b[1;33m,\u001b[0m \u001b[0mtest\u001b[0m\u001b[1;33m)\u001b[0m\u001b[1;33m\u001b[0m\u001b[1;33m\u001b[0m\u001b[0m\n\u001b[0;32m    714\u001b[0m                                in product(candidate_params,\n\u001b[1;32m--> 715\u001b[1;33m                                           cv.split(X, y, groups)))\n\u001b[0m\u001b[0;32m    716\u001b[0m \u001b[1;33m\u001b[0m\u001b[0m\n\u001b[0;32m    717\u001b[0m                 \u001b[1;32mif\u001b[0m \u001b[0mlen\u001b[0m\u001b[1;33m(\u001b[0m\u001b[0mout\u001b[0m\u001b[1;33m)\u001b[0m \u001b[1;33m<\u001b[0m \u001b[1;36m1\u001b[0m\u001b[1;33m:\u001b[0m\u001b[1;33m\u001b[0m\u001b[1;33m\u001b[0m\u001b[0m\n",
      "\u001b[1;32mC:\\Anaconda3\\envs\\nlp\\lib\\site-packages\\joblib\\parallel.py\u001b[0m in \u001b[0;36m__call__\u001b[1;34m(self, iterable)\u001b[0m\n\u001b[0;32m   1042\u001b[0m                 \u001b[0mself\u001b[0m\u001b[1;33m.\u001b[0m\u001b[0m_iterating\u001b[0m \u001b[1;33m=\u001b[0m \u001b[0mself\u001b[0m\u001b[1;33m.\u001b[0m\u001b[0m_original_iterator\u001b[0m \u001b[1;32mis\u001b[0m \u001b[1;32mnot\u001b[0m \u001b[1;32mNone\u001b[0m\u001b[1;33m\u001b[0m\u001b[1;33m\u001b[0m\u001b[0m\n\u001b[0;32m   1043\u001b[0m \u001b[1;33m\u001b[0m\u001b[0m\n\u001b[1;32m-> 1044\u001b[1;33m             \u001b[1;32mwhile\u001b[0m \u001b[0mself\u001b[0m\u001b[1;33m.\u001b[0m\u001b[0mdispatch_one_batch\u001b[0m\u001b[1;33m(\u001b[0m\u001b[0miterator\u001b[0m\u001b[1;33m)\u001b[0m\u001b[1;33m:\u001b[0m\u001b[1;33m\u001b[0m\u001b[1;33m\u001b[0m\u001b[0m\n\u001b[0m\u001b[0;32m   1045\u001b[0m                 \u001b[1;32mpass\u001b[0m\u001b[1;33m\u001b[0m\u001b[1;33m\u001b[0m\u001b[0m\n\u001b[0;32m   1046\u001b[0m \u001b[1;33m\u001b[0m\u001b[0m\n",
      "\u001b[1;32mC:\\Anaconda3\\envs\\nlp\\lib\\site-packages\\joblib\\parallel.py\u001b[0m in \u001b[0;36mdispatch_one_batch\u001b[1;34m(self, iterator)\u001b[0m\n\u001b[0;32m    857\u001b[0m                 \u001b[1;32mreturn\u001b[0m \u001b[1;32mFalse\u001b[0m\u001b[1;33m\u001b[0m\u001b[1;33m\u001b[0m\u001b[0m\n\u001b[0;32m    858\u001b[0m             \u001b[1;32melse\u001b[0m\u001b[1;33m:\u001b[0m\u001b[1;33m\u001b[0m\u001b[1;33m\u001b[0m\u001b[0m\n\u001b[1;32m--> 859\u001b[1;33m                 \u001b[0mself\u001b[0m\u001b[1;33m.\u001b[0m\u001b[0m_dispatch\u001b[0m\u001b[1;33m(\u001b[0m\u001b[0mtasks\u001b[0m\u001b[1;33m)\u001b[0m\u001b[1;33m\u001b[0m\u001b[1;33m\u001b[0m\u001b[0m\n\u001b[0m\u001b[0;32m    860\u001b[0m                 \u001b[1;32mreturn\u001b[0m \u001b[1;32mTrue\u001b[0m\u001b[1;33m\u001b[0m\u001b[1;33m\u001b[0m\u001b[0m\n\u001b[0;32m    861\u001b[0m \u001b[1;33m\u001b[0m\u001b[0m\n",
      "\u001b[1;32mC:\\Anaconda3\\envs\\nlp\\lib\\site-packages\\joblib\\parallel.py\u001b[0m in \u001b[0;36m_dispatch\u001b[1;34m(self, batch)\u001b[0m\n\u001b[0;32m    775\u001b[0m         \u001b[1;32mwith\u001b[0m \u001b[0mself\u001b[0m\u001b[1;33m.\u001b[0m\u001b[0m_lock\u001b[0m\u001b[1;33m:\u001b[0m\u001b[1;33m\u001b[0m\u001b[1;33m\u001b[0m\u001b[0m\n\u001b[0;32m    776\u001b[0m             \u001b[0mjob_idx\u001b[0m \u001b[1;33m=\u001b[0m \u001b[0mlen\u001b[0m\u001b[1;33m(\u001b[0m\u001b[0mself\u001b[0m\u001b[1;33m.\u001b[0m\u001b[0m_jobs\u001b[0m\u001b[1;33m)\u001b[0m\u001b[1;33m\u001b[0m\u001b[1;33m\u001b[0m\u001b[0m\n\u001b[1;32m--> 777\u001b[1;33m             \u001b[0mjob\u001b[0m \u001b[1;33m=\u001b[0m \u001b[0mself\u001b[0m\u001b[1;33m.\u001b[0m\u001b[0m_backend\u001b[0m\u001b[1;33m.\u001b[0m\u001b[0mapply_async\u001b[0m\u001b[1;33m(\u001b[0m\u001b[0mbatch\u001b[0m\u001b[1;33m,\u001b[0m \u001b[0mcallback\u001b[0m\u001b[1;33m=\u001b[0m\u001b[0mcb\u001b[0m\u001b[1;33m)\u001b[0m\u001b[1;33m\u001b[0m\u001b[1;33m\u001b[0m\u001b[0m\n\u001b[0m\u001b[0;32m    778\u001b[0m             \u001b[1;31m# A job can complete so quickly than its callback is\u001b[0m\u001b[1;33m\u001b[0m\u001b[1;33m\u001b[0m\u001b[1;33m\u001b[0m\u001b[0m\n\u001b[0;32m    779\u001b[0m             \u001b[1;31m# called before we get here, causing self._jobs to\u001b[0m\u001b[1;33m\u001b[0m\u001b[1;33m\u001b[0m\u001b[1;33m\u001b[0m\u001b[0m\n",
      "\u001b[1;32mC:\\Anaconda3\\envs\\nlp\\lib\\site-packages\\joblib\\_parallel_backends.py\u001b[0m in \u001b[0;36mapply_async\u001b[1;34m(self, func, callback)\u001b[0m\n\u001b[0;32m    206\u001b[0m     \u001b[1;32mdef\u001b[0m \u001b[0mapply_async\u001b[0m\u001b[1;33m(\u001b[0m\u001b[0mself\u001b[0m\u001b[1;33m,\u001b[0m \u001b[0mfunc\u001b[0m\u001b[1;33m,\u001b[0m \u001b[0mcallback\u001b[0m\u001b[1;33m=\u001b[0m\u001b[1;32mNone\u001b[0m\u001b[1;33m)\u001b[0m\u001b[1;33m:\u001b[0m\u001b[1;33m\u001b[0m\u001b[1;33m\u001b[0m\u001b[0m\n\u001b[0;32m    207\u001b[0m         \u001b[1;34m\"\"\"Schedule a func to be run\"\"\"\u001b[0m\u001b[1;33m\u001b[0m\u001b[1;33m\u001b[0m\u001b[0m\n\u001b[1;32m--> 208\u001b[1;33m         \u001b[0mresult\u001b[0m \u001b[1;33m=\u001b[0m \u001b[0mImmediateResult\u001b[0m\u001b[1;33m(\u001b[0m\u001b[0mfunc\u001b[0m\u001b[1;33m)\u001b[0m\u001b[1;33m\u001b[0m\u001b[1;33m\u001b[0m\u001b[0m\n\u001b[0m\u001b[0;32m    209\u001b[0m         \u001b[1;32mif\u001b[0m \u001b[0mcallback\u001b[0m\u001b[1;33m:\u001b[0m\u001b[1;33m\u001b[0m\u001b[1;33m\u001b[0m\u001b[0m\n\u001b[0;32m    210\u001b[0m             \u001b[0mcallback\u001b[0m\u001b[1;33m(\u001b[0m\u001b[0mresult\u001b[0m\u001b[1;33m)\u001b[0m\u001b[1;33m\u001b[0m\u001b[1;33m\u001b[0m\u001b[0m\n",
      "\u001b[1;32mC:\\Anaconda3\\envs\\nlp\\lib\\site-packages\\joblib\\_parallel_backends.py\u001b[0m in \u001b[0;36m__init__\u001b[1;34m(self, batch)\u001b[0m\n\u001b[0;32m    570\u001b[0m         \u001b[1;31m# Don't delay the application, to avoid keeping the input\u001b[0m\u001b[1;33m\u001b[0m\u001b[1;33m\u001b[0m\u001b[1;33m\u001b[0m\u001b[0m\n\u001b[0;32m    571\u001b[0m         \u001b[1;31m# arguments in memory\u001b[0m\u001b[1;33m\u001b[0m\u001b[1;33m\u001b[0m\u001b[1;33m\u001b[0m\u001b[0m\n\u001b[1;32m--> 572\u001b[1;33m         \u001b[0mself\u001b[0m\u001b[1;33m.\u001b[0m\u001b[0mresults\u001b[0m \u001b[1;33m=\u001b[0m \u001b[0mbatch\u001b[0m\u001b[1;33m(\u001b[0m\u001b[1;33m)\u001b[0m\u001b[1;33m\u001b[0m\u001b[1;33m\u001b[0m\u001b[0m\n\u001b[0m\u001b[0;32m    573\u001b[0m \u001b[1;33m\u001b[0m\u001b[0m\n\u001b[0;32m    574\u001b[0m     \u001b[1;32mdef\u001b[0m \u001b[0mget\u001b[0m\u001b[1;33m(\u001b[0m\u001b[0mself\u001b[0m\u001b[1;33m)\u001b[0m\u001b[1;33m:\u001b[0m\u001b[1;33m\u001b[0m\u001b[1;33m\u001b[0m\u001b[0m\n",
      "\u001b[1;32mC:\\Anaconda3\\envs\\nlp\\lib\\site-packages\\joblib\\parallel.py\u001b[0m in \u001b[0;36m__call__\u001b[1;34m(self)\u001b[0m\n\u001b[0;32m    261\u001b[0m         \u001b[1;32mwith\u001b[0m \u001b[0mparallel_backend\u001b[0m\u001b[1;33m(\u001b[0m\u001b[0mself\u001b[0m\u001b[1;33m.\u001b[0m\u001b[0m_backend\u001b[0m\u001b[1;33m,\u001b[0m \u001b[0mn_jobs\u001b[0m\u001b[1;33m=\u001b[0m\u001b[0mself\u001b[0m\u001b[1;33m.\u001b[0m\u001b[0m_n_jobs\u001b[0m\u001b[1;33m)\u001b[0m\u001b[1;33m:\u001b[0m\u001b[1;33m\u001b[0m\u001b[1;33m\u001b[0m\u001b[0m\n\u001b[0;32m    262\u001b[0m             return [func(*args, **kwargs)\n\u001b[1;32m--> 263\u001b[1;33m                     for func, args, kwargs in self.items]\n\u001b[0m\u001b[0;32m    264\u001b[0m \u001b[1;33m\u001b[0m\u001b[0m\n\u001b[0;32m    265\u001b[0m     \u001b[1;32mdef\u001b[0m \u001b[0m__reduce__\u001b[0m\u001b[1;33m(\u001b[0m\u001b[0mself\u001b[0m\u001b[1;33m)\u001b[0m\u001b[1;33m:\u001b[0m\u001b[1;33m\u001b[0m\u001b[1;33m\u001b[0m\u001b[0m\n",
      "\u001b[1;32mC:\\Anaconda3\\envs\\nlp\\lib\\site-packages\\joblib\\parallel.py\u001b[0m in \u001b[0;36m<listcomp>\u001b[1;34m(.0)\u001b[0m\n\u001b[0;32m    261\u001b[0m         \u001b[1;32mwith\u001b[0m \u001b[0mparallel_backend\u001b[0m\u001b[1;33m(\u001b[0m\u001b[0mself\u001b[0m\u001b[1;33m.\u001b[0m\u001b[0m_backend\u001b[0m\u001b[1;33m,\u001b[0m \u001b[0mn_jobs\u001b[0m\u001b[1;33m=\u001b[0m\u001b[0mself\u001b[0m\u001b[1;33m.\u001b[0m\u001b[0m_n_jobs\u001b[0m\u001b[1;33m)\u001b[0m\u001b[1;33m:\u001b[0m\u001b[1;33m\u001b[0m\u001b[1;33m\u001b[0m\u001b[0m\n\u001b[0;32m    262\u001b[0m             return [func(*args, **kwargs)\n\u001b[1;32m--> 263\u001b[1;33m                     for func, args, kwargs in self.items]\n\u001b[0m\u001b[0;32m    264\u001b[0m \u001b[1;33m\u001b[0m\u001b[0m\n\u001b[0;32m    265\u001b[0m     \u001b[1;32mdef\u001b[0m \u001b[0m__reduce__\u001b[0m\u001b[1;33m(\u001b[0m\u001b[0mself\u001b[0m\u001b[1;33m)\u001b[0m\u001b[1;33m:\u001b[0m\u001b[1;33m\u001b[0m\u001b[1;33m\u001b[0m\u001b[0m\n",
      "\u001b[1;32mC:\\Anaconda3\\envs\\nlp\\lib\\site-packages\\sklearn\\model_selection\\_validation.py\u001b[0m in \u001b[0;36m_fit_and_score\u001b[1;34m(estimator, X, y, scorer, train, test, verbose, parameters, fit_params, return_train_score, return_parameters, return_n_test_samples, return_times, return_estimator, error_score)\u001b[0m\n\u001b[0;32m    529\u001b[0m             \u001b[0mestimator\u001b[0m\u001b[1;33m.\u001b[0m\u001b[0mfit\u001b[0m\u001b[1;33m(\u001b[0m\u001b[0mX_train\u001b[0m\u001b[1;33m,\u001b[0m \u001b[1;33m**\u001b[0m\u001b[0mfit_params\u001b[0m\u001b[1;33m)\u001b[0m\u001b[1;33m\u001b[0m\u001b[1;33m\u001b[0m\u001b[0m\n\u001b[0;32m    530\u001b[0m         \u001b[1;32melse\u001b[0m\u001b[1;33m:\u001b[0m\u001b[1;33m\u001b[0m\u001b[1;33m\u001b[0m\u001b[0m\n\u001b[1;32m--> 531\u001b[1;33m             \u001b[0mestimator\u001b[0m\u001b[1;33m.\u001b[0m\u001b[0mfit\u001b[0m\u001b[1;33m(\u001b[0m\u001b[0mX_train\u001b[0m\u001b[1;33m,\u001b[0m \u001b[0my_train\u001b[0m\u001b[1;33m,\u001b[0m \u001b[1;33m**\u001b[0m\u001b[0mfit_params\u001b[0m\u001b[1;33m)\u001b[0m\u001b[1;33m\u001b[0m\u001b[1;33m\u001b[0m\u001b[0m\n\u001b[0m\u001b[0;32m    532\u001b[0m \u001b[1;33m\u001b[0m\u001b[0m\n\u001b[0;32m    533\u001b[0m     \u001b[1;32mexcept\u001b[0m \u001b[0mException\u001b[0m \u001b[1;32mas\u001b[0m \u001b[0me\u001b[0m\u001b[1;33m:\u001b[0m\u001b[1;33m\u001b[0m\u001b[1;33m\u001b[0m\u001b[0m\n",
      "\u001b[1;32mC:\\Anaconda3\\envs\\nlp\\lib\\site-packages\\sklearn\\ensemble\\_forest.py\u001b[0m in \u001b[0;36mfit\u001b[1;34m(self, X, y, sample_weight)\u001b[0m\n\u001b[0;32m    390\u001b[0m                     \u001b[0mverbose\u001b[0m\u001b[1;33m=\u001b[0m\u001b[0mself\u001b[0m\u001b[1;33m.\u001b[0m\u001b[0mverbose\u001b[0m\u001b[1;33m,\u001b[0m \u001b[0mclass_weight\u001b[0m\u001b[1;33m=\u001b[0m\u001b[0mself\u001b[0m\u001b[1;33m.\u001b[0m\u001b[0mclass_weight\u001b[0m\u001b[1;33m,\u001b[0m\u001b[1;33m\u001b[0m\u001b[1;33m\u001b[0m\u001b[0m\n\u001b[0;32m    391\u001b[0m                     n_samples_bootstrap=n_samples_bootstrap)\n\u001b[1;32m--> 392\u001b[1;33m                 for i, t in enumerate(trees))\n\u001b[0m\u001b[0;32m    393\u001b[0m \u001b[1;33m\u001b[0m\u001b[0m\n\u001b[0;32m    394\u001b[0m             \u001b[1;31m# Collect newly grown trees\u001b[0m\u001b[1;33m\u001b[0m\u001b[1;33m\u001b[0m\u001b[1;33m\u001b[0m\u001b[0m\n",
      "\u001b[1;32mC:\\Anaconda3\\envs\\nlp\\lib\\site-packages\\joblib\\parallel.py\u001b[0m in \u001b[0;36m__call__\u001b[1;34m(self, iterable)\u001b[0m\n\u001b[0;32m   1042\u001b[0m                 \u001b[0mself\u001b[0m\u001b[1;33m.\u001b[0m\u001b[0m_iterating\u001b[0m \u001b[1;33m=\u001b[0m \u001b[0mself\u001b[0m\u001b[1;33m.\u001b[0m\u001b[0m_original_iterator\u001b[0m \u001b[1;32mis\u001b[0m \u001b[1;32mnot\u001b[0m \u001b[1;32mNone\u001b[0m\u001b[1;33m\u001b[0m\u001b[1;33m\u001b[0m\u001b[0m\n\u001b[0;32m   1043\u001b[0m \u001b[1;33m\u001b[0m\u001b[0m\n\u001b[1;32m-> 1044\u001b[1;33m             \u001b[1;32mwhile\u001b[0m \u001b[0mself\u001b[0m\u001b[1;33m.\u001b[0m\u001b[0mdispatch_one_batch\u001b[0m\u001b[1;33m(\u001b[0m\u001b[0miterator\u001b[0m\u001b[1;33m)\u001b[0m\u001b[1;33m:\u001b[0m\u001b[1;33m\u001b[0m\u001b[1;33m\u001b[0m\u001b[0m\n\u001b[0m\u001b[0;32m   1045\u001b[0m                 \u001b[1;32mpass\u001b[0m\u001b[1;33m\u001b[0m\u001b[1;33m\u001b[0m\u001b[0m\n\u001b[0;32m   1046\u001b[0m \u001b[1;33m\u001b[0m\u001b[0m\n",
      "\u001b[1;32mC:\\Anaconda3\\envs\\nlp\\lib\\site-packages\\joblib\\parallel.py\u001b[0m in \u001b[0;36mdispatch_one_batch\u001b[1;34m(self, iterator)\u001b[0m\n\u001b[0;32m    857\u001b[0m                 \u001b[1;32mreturn\u001b[0m \u001b[1;32mFalse\u001b[0m\u001b[1;33m\u001b[0m\u001b[1;33m\u001b[0m\u001b[0m\n\u001b[0;32m    858\u001b[0m             \u001b[1;32melse\u001b[0m\u001b[1;33m:\u001b[0m\u001b[1;33m\u001b[0m\u001b[1;33m\u001b[0m\u001b[0m\n\u001b[1;32m--> 859\u001b[1;33m                 \u001b[0mself\u001b[0m\u001b[1;33m.\u001b[0m\u001b[0m_dispatch\u001b[0m\u001b[1;33m(\u001b[0m\u001b[0mtasks\u001b[0m\u001b[1;33m)\u001b[0m\u001b[1;33m\u001b[0m\u001b[1;33m\u001b[0m\u001b[0m\n\u001b[0m\u001b[0;32m    860\u001b[0m                 \u001b[1;32mreturn\u001b[0m \u001b[1;32mTrue\u001b[0m\u001b[1;33m\u001b[0m\u001b[1;33m\u001b[0m\u001b[0m\n\u001b[0;32m    861\u001b[0m \u001b[1;33m\u001b[0m\u001b[0m\n",
      "\u001b[1;32mC:\\Anaconda3\\envs\\nlp\\lib\\site-packages\\joblib\\parallel.py\u001b[0m in \u001b[0;36m_dispatch\u001b[1;34m(self, batch)\u001b[0m\n\u001b[0;32m    775\u001b[0m         \u001b[1;32mwith\u001b[0m \u001b[0mself\u001b[0m\u001b[1;33m.\u001b[0m\u001b[0m_lock\u001b[0m\u001b[1;33m:\u001b[0m\u001b[1;33m\u001b[0m\u001b[1;33m\u001b[0m\u001b[0m\n\u001b[0;32m    776\u001b[0m             \u001b[0mjob_idx\u001b[0m \u001b[1;33m=\u001b[0m \u001b[0mlen\u001b[0m\u001b[1;33m(\u001b[0m\u001b[0mself\u001b[0m\u001b[1;33m.\u001b[0m\u001b[0m_jobs\u001b[0m\u001b[1;33m)\u001b[0m\u001b[1;33m\u001b[0m\u001b[1;33m\u001b[0m\u001b[0m\n\u001b[1;32m--> 777\u001b[1;33m             \u001b[0mjob\u001b[0m \u001b[1;33m=\u001b[0m \u001b[0mself\u001b[0m\u001b[1;33m.\u001b[0m\u001b[0m_backend\u001b[0m\u001b[1;33m.\u001b[0m\u001b[0mapply_async\u001b[0m\u001b[1;33m(\u001b[0m\u001b[0mbatch\u001b[0m\u001b[1;33m,\u001b[0m \u001b[0mcallback\u001b[0m\u001b[1;33m=\u001b[0m\u001b[0mcb\u001b[0m\u001b[1;33m)\u001b[0m\u001b[1;33m\u001b[0m\u001b[1;33m\u001b[0m\u001b[0m\n\u001b[0m\u001b[0;32m    778\u001b[0m             \u001b[1;31m# A job can complete so quickly than its callback is\u001b[0m\u001b[1;33m\u001b[0m\u001b[1;33m\u001b[0m\u001b[1;33m\u001b[0m\u001b[0m\n\u001b[0;32m    779\u001b[0m             \u001b[1;31m# called before we get here, causing self._jobs to\u001b[0m\u001b[1;33m\u001b[0m\u001b[1;33m\u001b[0m\u001b[1;33m\u001b[0m\u001b[0m\n",
      "\u001b[1;32mC:\\Anaconda3\\envs\\nlp\\lib\\site-packages\\joblib\\_parallel_backends.py\u001b[0m in \u001b[0;36mapply_async\u001b[1;34m(self, func, callback)\u001b[0m\n\u001b[0;32m    206\u001b[0m     \u001b[1;32mdef\u001b[0m \u001b[0mapply_async\u001b[0m\u001b[1;33m(\u001b[0m\u001b[0mself\u001b[0m\u001b[1;33m,\u001b[0m \u001b[0mfunc\u001b[0m\u001b[1;33m,\u001b[0m \u001b[0mcallback\u001b[0m\u001b[1;33m=\u001b[0m\u001b[1;32mNone\u001b[0m\u001b[1;33m)\u001b[0m\u001b[1;33m:\u001b[0m\u001b[1;33m\u001b[0m\u001b[1;33m\u001b[0m\u001b[0m\n\u001b[0;32m    207\u001b[0m         \u001b[1;34m\"\"\"Schedule a func to be run\"\"\"\u001b[0m\u001b[1;33m\u001b[0m\u001b[1;33m\u001b[0m\u001b[0m\n\u001b[1;32m--> 208\u001b[1;33m         \u001b[0mresult\u001b[0m \u001b[1;33m=\u001b[0m \u001b[0mImmediateResult\u001b[0m\u001b[1;33m(\u001b[0m\u001b[0mfunc\u001b[0m\u001b[1;33m)\u001b[0m\u001b[1;33m\u001b[0m\u001b[1;33m\u001b[0m\u001b[0m\n\u001b[0m\u001b[0;32m    209\u001b[0m         \u001b[1;32mif\u001b[0m \u001b[0mcallback\u001b[0m\u001b[1;33m:\u001b[0m\u001b[1;33m\u001b[0m\u001b[1;33m\u001b[0m\u001b[0m\n\u001b[0;32m    210\u001b[0m             \u001b[0mcallback\u001b[0m\u001b[1;33m(\u001b[0m\u001b[0mresult\u001b[0m\u001b[1;33m)\u001b[0m\u001b[1;33m\u001b[0m\u001b[1;33m\u001b[0m\u001b[0m\n",
      "\u001b[1;32mC:\\Anaconda3\\envs\\nlp\\lib\\site-packages\\joblib\\_parallel_backends.py\u001b[0m in \u001b[0;36m__init__\u001b[1;34m(self, batch)\u001b[0m\n\u001b[0;32m    570\u001b[0m         \u001b[1;31m# Don't delay the application, to avoid keeping the input\u001b[0m\u001b[1;33m\u001b[0m\u001b[1;33m\u001b[0m\u001b[1;33m\u001b[0m\u001b[0m\n\u001b[0;32m    571\u001b[0m         \u001b[1;31m# arguments in memory\u001b[0m\u001b[1;33m\u001b[0m\u001b[1;33m\u001b[0m\u001b[1;33m\u001b[0m\u001b[0m\n\u001b[1;32m--> 572\u001b[1;33m         \u001b[0mself\u001b[0m\u001b[1;33m.\u001b[0m\u001b[0mresults\u001b[0m \u001b[1;33m=\u001b[0m \u001b[0mbatch\u001b[0m\u001b[1;33m(\u001b[0m\u001b[1;33m)\u001b[0m\u001b[1;33m\u001b[0m\u001b[1;33m\u001b[0m\u001b[0m\n\u001b[0m\u001b[0;32m    573\u001b[0m \u001b[1;33m\u001b[0m\u001b[0m\n\u001b[0;32m    574\u001b[0m     \u001b[1;32mdef\u001b[0m \u001b[0mget\u001b[0m\u001b[1;33m(\u001b[0m\u001b[0mself\u001b[0m\u001b[1;33m)\u001b[0m\u001b[1;33m:\u001b[0m\u001b[1;33m\u001b[0m\u001b[1;33m\u001b[0m\u001b[0m\n",
      "\u001b[1;32mC:\\Anaconda3\\envs\\nlp\\lib\\site-packages\\joblib\\parallel.py\u001b[0m in \u001b[0;36m__call__\u001b[1;34m(self)\u001b[0m\n\u001b[0;32m    261\u001b[0m         \u001b[1;32mwith\u001b[0m \u001b[0mparallel_backend\u001b[0m\u001b[1;33m(\u001b[0m\u001b[0mself\u001b[0m\u001b[1;33m.\u001b[0m\u001b[0m_backend\u001b[0m\u001b[1;33m,\u001b[0m \u001b[0mn_jobs\u001b[0m\u001b[1;33m=\u001b[0m\u001b[0mself\u001b[0m\u001b[1;33m.\u001b[0m\u001b[0m_n_jobs\u001b[0m\u001b[1;33m)\u001b[0m\u001b[1;33m:\u001b[0m\u001b[1;33m\u001b[0m\u001b[1;33m\u001b[0m\u001b[0m\n\u001b[0;32m    262\u001b[0m             return [func(*args, **kwargs)\n\u001b[1;32m--> 263\u001b[1;33m                     for func, args, kwargs in self.items]\n\u001b[0m\u001b[0;32m    264\u001b[0m \u001b[1;33m\u001b[0m\u001b[0m\n\u001b[0;32m    265\u001b[0m     \u001b[1;32mdef\u001b[0m \u001b[0m__reduce__\u001b[0m\u001b[1;33m(\u001b[0m\u001b[0mself\u001b[0m\u001b[1;33m)\u001b[0m\u001b[1;33m:\u001b[0m\u001b[1;33m\u001b[0m\u001b[1;33m\u001b[0m\u001b[0m\n",
      "\u001b[1;32mC:\\Anaconda3\\envs\\nlp\\lib\\site-packages\\joblib\\parallel.py\u001b[0m in \u001b[0;36m<listcomp>\u001b[1;34m(.0)\u001b[0m\n\u001b[0;32m    261\u001b[0m         \u001b[1;32mwith\u001b[0m \u001b[0mparallel_backend\u001b[0m\u001b[1;33m(\u001b[0m\u001b[0mself\u001b[0m\u001b[1;33m.\u001b[0m\u001b[0m_backend\u001b[0m\u001b[1;33m,\u001b[0m \u001b[0mn_jobs\u001b[0m\u001b[1;33m=\u001b[0m\u001b[0mself\u001b[0m\u001b[1;33m.\u001b[0m\u001b[0m_n_jobs\u001b[0m\u001b[1;33m)\u001b[0m\u001b[1;33m:\u001b[0m\u001b[1;33m\u001b[0m\u001b[1;33m\u001b[0m\u001b[0m\n\u001b[0;32m    262\u001b[0m             return [func(*args, **kwargs)\n\u001b[1;32m--> 263\u001b[1;33m                     for func, args, kwargs in self.items]\n\u001b[0m\u001b[0;32m    264\u001b[0m \u001b[1;33m\u001b[0m\u001b[0m\n\u001b[0;32m    265\u001b[0m     \u001b[1;32mdef\u001b[0m \u001b[0m__reduce__\u001b[0m\u001b[1;33m(\u001b[0m\u001b[0mself\u001b[0m\u001b[1;33m)\u001b[0m\u001b[1;33m:\u001b[0m\u001b[1;33m\u001b[0m\u001b[1;33m\u001b[0m\u001b[0m\n",
      "\u001b[1;32mC:\\Anaconda3\\envs\\nlp\\lib\\site-packages\\sklearn\\ensemble\\_forest.py\u001b[0m in \u001b[0;36m_parallel_build_trees\u001b[1;34m(tree, forest, X, y, sample_weight, tree_idx, n_trees, verbose, class_weight, n_samples_bootstrap)\u001b[0m\n\u001b[0;32m    166\u001b[0m                                                         indices=indices)\n\u001b[0;32m    167\u001b[0m \u001b[1;33m\u001b[0m\u001b[0m\n\u001b[1;32m--> 168\u001b[1;33m         \u001b[0mtree\u001b[0m\u001b[1;33m.\u001b[0m\u001b[0mfit\u001b[0m\u001b[1;33m(\u001b[0m\u001b[0mX\u001b[0m\u001b[1;33m,\u001b[0m \u001b[0my\u001b[0m\u001b[1;33m,\u001b[0m \u001b[0msample_weight\u001b[0m\u001b[1;33m=\u001b[0m\u001b[0mcurr_sample_weight\u001b[0m\u001b[1;33m,\u001b[0m \u001b[0mcheck_input\u001b[0m\u001b[1;33m=\u001b[0m\u001b[1;32mFalse\u001b[0m\u001b[1;33m)\u001b[0m\u001b[1;33m\u001b[0m\u001b[1;33m\u001b[0m\u001b[0m\n\u001b[0m\u001b[0;32m    169\u001b[0m     \u001b[1;32melse\u001b[0m\u001b[1;33m:\u001b[0m\u001b[1;33m\u001b[0m\u001b[1;33m\u001b[0m\u001b[0m\n\u001b[0;32m    170\u001b[0m         \u001b[0mtree\u001b[0m\u001b[1;33m.\u001b[0m\u001b[0mfit\u001b[0m\u001b[1;33m(\u001b[0m\u001b[0mX\u001b[0m\u001b[1;33m,\u001b[0m \u001b[0my\u001b[0m\u001b[1;33m,\u001b[0m \u001b[0msample_weight\u001b[0m\u001b[1;33m=\u001b[0m\u001b[0msample_weight\u001b[0m\u001b[1;33m,\u001b[0m \u001b[0mcheck_input\u001b[0m\u001b[1;33m=\u001b[0m\u001b[1;32mFalse\u001b[0m\u001b[1;33m)\u001b[0m\u001b[1;33m\u001b[0m\u001b[1;33m\u001b[0m\u001b[0m\n",
      "\u001b[1;32mC:\\Anaconda3\\envs\\nlp\\lib\\site-packages\\sklearn\\tree\\_classes.py\u001b[0m in \u001b[0;36mfit\u001b[1;34m(self, X, y, sample_weight, check_input, X_idx_sorted)\u001b[0m\n\u001b[0;32m   1244\u001b[0m             \u001b[0msample_weight\u001b[0m\u001b[1;33m=\u001b[0m\u001b[0msample_weight\u001b[0m\u001b[1;33m,\u001b[0m\u001b[1;33m\u001b[0m\u001b[1;33m\u001b[0m\u001b[0m\n\u001b[0;32m   1245\u001b[0m             \u001b[0mcheck_input\u001b[0m\u001b[1;33m=\u001b[0m\u001b[0mcheck_input\u001b[0m\u001b[1;33m,\u001b[0m\u001b[1;33m\u001b[0m\u001b[1;33m\u001b[0m\u001b[0m\n\u001b[1;32m-> 1246\u001b[1;33m             X_idx_sorted=X_idx_sorted)\n\u001b[0m\u001b[0;32m   1247\u001b[0m         \u001b[1;32mreturn\u001b[0m \u001b[0mself\u001b[0m\u001b[1;33m\u001b[0m\u001b[1;33m\u001b[0m\u001b[0m\n\u001b[0;32m   1248\u001b[0m \u001b[1;33m\u001b[0m\u001b[0m\n",
      "\u001b[1;32mC:\\Anaconda3\\envs\\nlp\\lib\\site-packages\\sklearn\\tree\\_classes.py\u001b[0m in \u001b[0;36mfit\u001b[1;34m(self, X, y, sample_weight, check_input, X_idx_sorted)\u001b[0m\n\u001b[0;32m    373\u001b[0m                                            min_impurity_split)\n\u001b[0;32m    374\u001b[0m \u001b[1;33m\u001b[0m\u001b[0m\n\u001b[1;32m--> 375\u001b[1;33m         \u001b[0mbuilder\u001b[0m\u001b[1;33m.\u001b[0m\u001b[0mbuild\u001b[0m\u001b[1;33m(\u001b[0m\u001b[0mself\u001b[0m\u001b[1;33m.\u001b[0m\u001b[0mtree_\u001b[0m\u001b[1;33m,\u001b[0m \u001b[0mX\u001b[0m\u001b[1;33m,\u001b[0m \u001b[0my\u001b[0m\u001b[1;33m,\u001b[0m \u001b[0msample_weight\u001b[0m\u001b[1;33m,\u001b[0m \u001b[0mX_idx_sorted\u001b[0m\u001b[1;33m)\u001b[0m\u001b[1;33m\u001b[0m\u001b[1;33m\u001b[0m\u001b[0m\n\u001b[0m\u001b[0;32m    376\u001b[0m \u001b[1;33m\u001b[0m\u001b[0m\n\u001b[0;32m    377\u001b[0m         \u001b[1;32mif\u001b[0m \u001b[0mself\u001b[0m\u001b[1;33m.\u001b[0m\u001b[0mn_outputs_\u001b[0m \u001b[1;33m==\u001b[0m \u001b[1;36m1\u001b[0m \u001b[1;32mand\u001b[0m \u001b[0mis_classifier\u001b[0m\u001b[1;33m(\u001b[0m\u001b[0mself\u001b[0m\u001b[1;33m)\u001b[0m\u001b[1;33m:\u001b[0m\u001b[1;33m\u001b[0m\u001b[1;33m\u001b[0m\u001b[0m\n",
      "\u001b[1;31mKeyboardInterrupt\u001b[0m: "
     ]
    }
   ],
   "source": [
    "# from sklearn.ensemble import RandomForestRegressor\n",
    "# from sklearn.model_selection import RandomizedSearchCV\n",
    "\n",
    "# X = d[['SOi','Noi','RSPMi','SPMi']]\n",
    "# y = d['AQI']\n",
    "\n",
    "# X_train, X_test, y_train, y_test = train_test_split(X,y, test_size=0.33,random_state=42)\n",
    "\n",
    "\n",
    "# model_rf = RandomForestRegressor()\n",
    "# model_rf.fit(X_train,y_train)\n",
    "\n",
    "# # Params\n",
    "# n_estimators = [int(x) for x in np.linspace(start = 100, stop = 1200, num = 12)]\n",
    "\n",
    "# max_features = ['auto', 'sqrt']\n",
    "\n",
    "# max_depth = [int(x) for x in np.linspace(5, 30, num = 6)]\n",
    "\n",
    "# min_samples_split = [2, 5, 10, 15, 100]\n",
    "\n",
    "# min_samples_leaf = [1, 2, 5, 10]\n",
    "\n",
    "# random_grid = { 'n_estimators': n_estimators,\n",
    "#                  'max_features': max_features,\n",
    "#                'max_depth': max_depth,\n",
    "#                'min_samples_split': min_samples_split,\n",
    "#                'min_samples_leaf': min_samples_leaf }\n",
    "\n",
    "\n",
    "# model_hypertuned = RandomizedSearchCV(estimator = model_rf, param_distributions = random_grid, scoring='neg_mean_squared_error', n_iter = 10, cv = 5, verbose=2, random_state=42, n_jobs = 1)\n",
    "\n",
    "# model_hypertuned.fit(X_train,y_train)\n",
    "\n",
    "# model_hypertuned.best_params_\n",
    "\n",
    "# y_pred_hypertuned = model_hypertuned.predict(X_test)\n",
    "\n",
    "# from sklearn import metrics\n",
    "# print('MAE: ', metrics.mean_absolute_error(y_test, y_pred_hypertuned))\n",
    "# print('MSE: ', metrics.mean_squared_error(y_test,y_pred_hypertuned))\n",
    "# print('RMSE: ', math.sqrt(metrics.mean_squared_error(y_test,y_pred_hypertuned)))"
   ]
  },
  {
   "cell_type": "code",
   "execution_count": null,
   "id": "alert-casting",
   "metadata": {},
   "outputs": [],
   "source": []
  },
  {
   "cell_type": "code",
   "execution_count": null,
   "id": "eleven-scholarship",
   "metadata": {},
   "outputs": [],
   "source": []
  },
  {
   "cell_type": "code",
   "execution_count": 92,
   "id": "bizarre-bundle",
   "metadata": {},
   "outputs": [
    {
     "name": "stdout",
     "output_type": "stream",
     "text": [
      "MAE:  0.07959516739234158\n",
      "MSE:  5.567769262658178\n",
      "RMSE:  2.3596121000406356\n"
     ]
    }
   ],
   "source": [
    "from sklearn.ensemble import RandomForestRegressor\n",
    "from sklearn.model_selection import RandomizedSearchCV\n",
    "from sklearn import metrics\n",
    "\n",
    "X = d[['SOi','Noi','RSPMi','SPMi']]\n",
    "y = d['AQI']\n",
    "\n",
    "X_train, X_test, y_train, y_test = train_test_split(X,y, test_size=0.33,random_state=42)\n",
    "\n",
    "model_rf = RandomForestRegressor()\n",
    "model_rf.fit(X_train,y_train)\n",
    "\n",
    "y_pred_val = model_rf.predict(X_test)\n",
    "\n",
    "print('MAE: ', metrics.mean_absolute_error(y_test, y_pred_val))\n",
    "print('MSE: ', metrics.mean_squared_error(y_test,y_pred_val))\n",
    "print('RMSE: ', math.sqrt(metrics.mean_squared_error(y_test,y_pred_val)))\n"
   ]
  },
  {
   "cell_type": "code",
   "execution_count": 95,
   "id": "transparent-client",
   "metadata": {},
   "outputs": [
    {
     "name": "stdout",
     "output_type": "stream",
     "text": [
      "0.9995391477829395\n"
     ]
    }
   ],
   "source": [
    "print(model_rf.score(X_test, y_test))"
   ]
  },
  {
   "cell_type": "code",
   "execution_count": 96,
   "id": "legal-filename",
   "metadata": {},
   "outputs": [
    {
     "name": "stdout",
     "output_type": "stream",
     "text": [
      "MAE:  0.08147388138597153\n",
      "MSE:  5.65472312569266\n",
      "RMSE:  2.3779661742112017\n",
      "0.9995319504874571\n"
     ]
    }
   ],
   "source": [
    "X1= d[['so2','no2','rspm','spm']]\n",
    "y1 = d['AQI']\n",
    "\n",
    "X_train1, X_test1, y_train1, y_test1 = train_test_split(X1,y1, test_size=0.33,random_state=42)\n",
    "\n",
    "model_rf_1 = RandomForestRegressor()\n",
    "model_rf_1.fit(X_train1,y_train1)\n",
    "\n",
    "y_pred_val = model_rf_1.predict(X_test1)\n",
    "\n",
    "from sklearn import metrics\n",
    "print('MAE: ', metrics.mean_absolute_error(y_test, y_pred_val))\n",
    "print('MSE: ', metrics.mean_squared_error(y_test,y_pred_val))\n",
    "print('RMSE: ', math.sqrt(metrics.mean_squared_error(y_test,y_pred_val)))\n",
    "print(model_rf_1.score(X_test1, y_test1))"
   ]
  },
  {
   "cell_type": "code",
   "execution_count": null,
   "id": "beginning-limitation",
   "metadata": {},
   "outputs": [],
   "source": []
  },
  {
   "cell_type": "markdown",
   "id": "strategic-diamond",
   "metadata": {},
   "source": [
    "## Decision Tree Regressor"
   ]
  },
  {
   "cell_type": "code",
   "execution_count": 108,
   "id": "ultimate-replication",
   "metadata": {},
   "outputs": [
    {
     "name": "stdout",
     "output_type": "stream",
     "text": [
      "MAE:  29.736501207512696\n",
      "MSE:  2283.0171899984716\n",
      "RMSE:  47.780929145407704\n",
      "0.8110314052246379\n"
     ]
    },
    {
     "name": "stderr",
     "output_type": "stream",
     "text": [
      "C:\\Anaconda3\\envs\\nlp\\lib\\site-packages\\sklearn\\tree\\_classes.py:327: FutureWarning: The parameter 'presort' is deprecated and has no effect. It will be removed in v0.24. You can suppress this warning by not passing any value to the 'presort' parameter.\n",
      "  FutureWarning)\n"
     ]
    }
   ],
   "source": [
    "X = d[['SOi','Noi','RSPMi','SPMi']]\n",
    "y = d['AQI']\n",
    "\n",
    "X_train, X_test, y_train, y_test = train_test_split(X,y, test_size=0.33,random_state=42)\n",
    "\n",
    "regressor_2 = DecisionTreeRegressor( criterion='mse', max_depth=5,\n",
    "            max_features=None, max_leaf_nodes=10, min_samples_leaf=5,\n",
    "            min_samples_split=2, min_weight_fraction_leaf=0.0,\n",
    "            presort=False, random_state=None, splitter='random')\n",
    "\n",
    "regressor_2.fit(X_train, y_train)\n",
    "\n",
    "y_pred_val_dt = regressor_2.predict(X_test)\n",
    "\n",
    "print('MAE: ', metrics.mean_absolute_error(y_test, y_pred_val_dt))\n",
    "print('MSE: ', metrics.mean_squared_error(y_test,y_pred_val_dt))\n",
    "print('RMSE: ', math.sqrt(metrics.mean_squared_error(y_test,y_pred_val_dt)))\n",
    "\n",
    "print(regressor_2.score(X_test, y_test))"
   ]
  },
  {
   "cell_type": "code",
   "execution_count": null,
   "id": "brown-transformation",
   "metadata": {},
   "outputs": [],
   "source": []
  },
  {
   "cell_type": "code",
   "execution_count": 104,
   "id": "juvenile-sullivan",
   "metadata": {},
   "outputs": [
    {
     "name": "stdout",
     "output_type": "stream",
     "text": [
      "MAE:  63.89843268118095\n",
      "MSE:  7078.243789874559\n",
      "RMSE:  84.13229932596968\n",
      "0.4141236481662567\n"
     ]
    },
    {
     "name": "stderr",
     "output_type": "stream",
     "text": [
      "C:\\Anaconda3\\envs\\nlp\\lib\\site-packages\\sklearn\\tree\\_classes.py:327: FutureWarning: The parameter 'presort' is deprecated and has no effect. It will be removed in v0.24. You can suppress this warning by not passing any value to the 'presort' parameter.\n",
      "  FutureWarning)\n"
     ]
    }
   ],
   "source": [
    "from sklearn.model_selection import cross_val_score\n",
    "from sklearn.tree import DecisionTreeRegressor\n",
    "\n",
    "X1= d[['so2','no2','rspm','spm']]\n",
    "y1 = d['AQI']\n",
    "\n",
    "X_train1, X_test1, y_train1, y_test1 = train_test_split(X1,y1, test_size=0.33,random_state=42)\n",
    "\n",
    "regressor = DecisionTreeRegressor( criterion='mse', max_depth=5,\n",
    "            max_features=None, max_leaf_nodes=10, min_samples_leaf=5,\n",
    "            min_samples_split=2, min_weight_fraction_leaf=0.0,\n",
    "            presort=False, random_state=None, splitter='random')\n",
    "\n",
    "regressor.fit(X_train1, y_train1)\n",
    "\n",
    "y_pred_val_dt = regressor.predict(X_test1)\n",
    "\n",
    "print('MAE: ', metrics.mean_absolute_error(y_test1, y_pred_val_dt))\n",
    "print('MSE: ', metrics.mean_squared_error(y_test1,y_pred_val_dt))\n",
    "print('RMSE: ', math.sqrt(metrics.mean_squared_error(y_test1,y_pred_val_dt)))\n",
    "\n",
    "print(regressor.score(X_test1, y_test1))"
   ]
  },
  {
   "cell_type": "code",
   "execution_count": null,
   "id": "russian-queue",
   "metadata": {},
   "outputs": [],
   "source": []
  },
  {
   "cell_type": "code",
   "execution_count": null,
   "id": "lesser-truck",
   "metadata": {},
   "outputs": [],
   "source": []
  },
  {
   "cell_type": "code",
   "execution_count": null,
   "id": "olympic-detector",
   "metadata": {},
   "outputs": [],
   "source": []
  },
  {
   "cell_type": "markdown",
   "id": "respiratory-briefs",
   "metadata": {},
   "source": [
    "# CLASSIFICATION PART"
   ]
  },
  {
   "cell_type": "markdown",
   "id": "restricted-final",
   "metadata": {},
   "source": [
    "## 1) Logistic Regression"
   ]
  },
  {
   "cell_type": "code",
   "execution_count": 65,
   "id": "criminal-recognition",
   "metadata": {},
   "outputs": [
    {
     "name": "stdout",
     "output_type": "stream",
     "text": [
      "Running Time: 0:00:16.161759\n"
     ]
    },
    {
     "name": "stderr",
     "output_type": "stream",
     "text": [
      "C:\\Anaconda3\\envs\\nlp\\lib\\site-packages\\sklearn\\linear_model\\_logistic.py:764: ConvergenceWarning: lbfgs failed to converge (status=1):\n",
      "STOP: TOTAL NO. of ITERATIONS REACHED LIMIT.\n",
      "\n",
      "Increase the number of iterations (max_iter) or scale the data as shown in:\n",
      "    https://scikit-learn.org/stable/modules/preprocessing.html\n",
      "Please also refer to the documentation for alternative solver options:\n",
      "    https://scikit-learn.org/stable/modules/linear_model.html#logistic-regression\n",
      "  extra_warning_msg=_LOGISTIC_SOLVER_CONVERGENCE_MSG)\n"
     ]
    },
    {
     "data": {
      "text/plain": [
       "0.5013074259009416"
      ]
     },
     "execution_count": 65,
     "metadata": {},
     "output_type": "execute_result"
    }
   ],
   "source": [
    "from sklearn.linear_model import LogisticRegression\n",
    "\n",
    "start_time = time.time()\n",
    "\n",
    "X2 = d[['SOi','Noi','RSPMi','SPMi']]\n",
    "y2 = d['AQI_Range_val']\n",
    "\n",
    "X_train2, X_test2, y_train2, y_test2 = train_test_split(X2, y2, test_size=0.33, random_state=42)\n",
    "\n",
    "logmodel = LogisticRegression()\n",
    "logmodel.fit(X_train2,y_train2)\n",
    "\n",
    "predictions = logmodel.predict(X_test)\n",
    "\n",
    "get_t = (time.time() - start_time)\n",
    "print(\"Running Time: {}\".format(datetime.timedelta(seconds=get_t)))\n",
    "\n",
    "logmodel.score(X_test2,y_test2)"
   ]
  },
  {
   "cell_type": "code",
   "execution_count": 66,
   "id": "distinguished-airplane",
   "metadata": {},
   "outputs": [
    {
     "name": "stdout",
     "output_type": "stream",
     "text": [
      "Running Time: 0:00:15.662130\n"
     ]
    },
    {
     "name": "stderr",
     "output_type": "stream",
     "text": [
      "C:\\Anaconda3\\envs\\nlp\\lib\\site-packages\\sklearn\\linear_model\\_logistic.py:764: ConvergenceWarning: lbfgs failed to converge (status=1):\n",
      "STOP: TOTAL NO. of ITERATIONS REACHED LIMIT.\n",
      "\n",
      "Increase the number of iterations (max_iter) or scale the data as shown in:\n",
      "    https://scikit-learn.org/stable/modules/preprocessing.html\n",
      "Please also refer to the documentation for alternative solver options:\n",
      "    https://scikit-learn.org/stable/modules/linear_model.html#logistic-regression\n",
      "  extra_warning_msg=_LOGISTIC_SOLVER_CONVERGENCE_MSG)\n"
     ]
    },
    {
     "data": {
      "text/plain": [
       "0.45442786208047625"
      ]
     },
     "execution_count": 66,
     "metadata": {},
     "output_type": "execute_result"
    }
   ],
   "source": [
    "start_time = time.time()\n",
    "\n",
    "X3 = d[['so2','no2','rspm','spm']]\n",
    "y3 = d['AQI_Range_val']\n",
    "\n",
    "X_train3, X_test3, y_train3, y_test3 = train_test_split(X3, y3, test_size=0.33, random_state=42)\n",
    "\n",
    "logmodel2 = LogisticRegression()\n",
    "logmodel2.fit(X_train3,y_train3)\n",
    "\n",
    "get_t = (time.time() - start_time)\n",
    "print(\"Running Time: {}\".format(datetime.timedelta(seconds=get_t)))\n",
    "\n",
    "logmodel2.score(X_test3,y_test3)"
   ]
  },
  {
   "cell_type": "markdown",
   "id": "brutal-atlas",
   "metadata": {},
   "source": [
    "## 2) Random forest"
   ]
  },
  {
   "cell_type": "code",
   "execution_count": 68,
   "id": "regional-standing",
   "metadata": {},
   "outputs": [
    {
     "name": "stdout",
     "output_type": "stream",
     "text": [
      "Running Time: 0:00:08.638571\n"
     ]
    },
    {
     "data": {
      "text/plain": [
       "0.997037428543611"
      ]
     },
     "execution_count": 68,
     "metadata": {},
     "output_type": "execute_result"
    }
   ],
   "source": [
    "from sklearn.ensemble import RandomForestClassifier\n",
    "\n",
    "start_time = time.time()\n",
    "\n",
    "X2 = d[['SOi','Noi','RSPMi','SPMi']]\n",
    "y2 = d['AQI_Range_val']\n",
    "\n",
    "X_train2, X_test2, y_train2, y_test2 = train_test_split(X2, y2, test_size=0.33, random_state=42)\n",
    "\n",
    "model01 = RandomForestClassifier(n_estimators = 100, class_weight=None, criterion='gini', max_depth=5,\n",
    "            max_features=\"auto\", max_leaf_nodes=10, min_samples_leaf=50,\n",
    "            min_samples_split=2, min_weight_fraction_leaf=0.0, random_state=50, n_jobs = -1, oob_score = True)\n",
    "\n",
    "# n_estimators = 100, oob_score = True , n_jobs = -1,random_state =50, max_features = \"auto\", min_samples_leaf = 50\n",
    "\n",
    "model01.fit(X_train2,y_train2)\n",
    "\n",
    "get_t = (time.time() - start_time)\n",
    "print(\"Running Time: {}\".format(datetime.timedelta(seconds=get_t)))\n",
    "\n",
    "model01.score(X_test2,y_test2)"
   ]
  },
  {
   "cell_type": "code",
   "execution_count": null,
   "id": "worst-liver",
   "metadata": {},
   "outputs": [],
   "source": []
  },
  {
   "cell_type": "code",
   "execution_count": 69,
   "id": "architectural-authorization",
   "metadata": {},
   "outputs": [
    {
     "name": "stdout",
     "output_type": "stream",
     "text": [
      "Running Time: 0:00:22.800964\n"
     ]
    },
    {
     "data": {
      "text/plain": [
       "0.9965088946687622"
      ]
     },
     "execution_count": 69,
     "metadata": {},
     "output_type": "execute_result"
    }
   ],
   "source": [
    "start_time = time.time()\n",
    "\n",
    "X4 = d[['so2','no2','rspm','spm']]\n",
    "y4 = d['AQI_Range_val']\n",
    "\n",
    "from sklearn.ensemble import RandomForestClassifier\n",
    "\n",
    "X_train4, X_test4, y_train4, y_test4 = train_test_split(X4, y4, test_size=0.33, random_state=42)\n",
    "\n",
    "model02 = RandomForestClassifier(n_estimators = 100, class_weight=None, criterion='gini', max_depth=5,\n",
    "            max_features=None, max_leaf_nodes=10, min_samples_leaf=5,\n",
    "            min_samples_split=2, min_weight_fraction_leaf=0.0, random_state=None)\n",
    "\n",
    "model02.fit(X_train4,y_train4)\n",
    "\n",
    "get_t = (time.time() - start_time)\n",
    "print(\"Running Time: {}\".format(datetime.timedelta(seconds=get_t)))\n",
    "\n",
    "model02.score(X_test4,y_test4)\n"
   ]
  },
  {
   "cell_type": "markdown",
   "id": "involved-topic",
   "metadata": {},
   "source": [
    "## 3) Decision Tree"
   ]
  },
  {
   "cell_type": "code",
   "execution_count": 110,
   "id": "direct-satisfaction",
   "metadata": {},
   "outputs": [
    {
     "name": "stdout",
     "output_type": "stream",
     "text": [
      "Running Time: 0:00:00.125666\n"
     ]
    },
    {
     "name": "stderr",
     "output_type": "stream",
     "text": [
      "C:\\Anaconda3\\envs\\nlp\\lib\\site-packages\\sklearn\\tree\\_classes.py:327: FutureWarning: The parameter 'presort' is deprecated and has no effect. It will be removed in v0.24. You can suppress this warning by not passing any value to the 'presort' parameter.\n",
      "  FutureWarning)\n"
     ]
    },
    {
     "data": {
      "text/plain": [
       "0.581679346843401"
      ]
     },
     "execution_count": 110,
     "metadata": {},
     "output_type": "execute_result"
    }
   ],
   "source": [
    "from sklearn.tree import DecisionTreeClassifier\n",
    "\n",
    "start_time = time.time()\n",
    "\n",
    "X2 = d[['SOi','Noi','RSPMi','SPMi']]\n",
    "y2 = d['AQI_Range_val']\n",
    "\n",
    "X_train2, X_test2, y_train2, y_test2 = train_test_split(X2, y2, test_size=0.33, random_state=42)\n",
    "\n",
    "model03 = DecisionTreeClassifier(class_weight=None, criterion='gini', max_depth=5,\n",
    "            max_features=None, max_leaf_nodes=10, min_samples_leaf=5,\n",
    "            min_samples_split=2, min_weight_fraction_leaf=0.0,\n",
    "            presort=False, random_state=None, splitter='random')\n",
    "\n",
    "model03.fit(X_train2,y_train2)\n",
    "\n",
    "get_t = (time.time() - start_time)\n",
    "print(\"Running Time: {}\".format(datetime.timedelta(seconds=get_t)))\n",
    "\n",
    "model03.score(X_test2,y_test2) "
   ]
  },
  {
   "cell_type": "code",
   "execution_count": null,
   "id": "exposed-warning",
   "metadata": {},
   "outputs": [],
   "source": []
  },
  {
   "cell_type": "code",
   "execution_count": 72,
   "id": "ordinary-supply",
   "metadata": {},
   "outputs": [
    {
     "name": "stdout",
     "output_type": "stream",
     "text": [
      "Running Time: 0:00:00.109744\n"
     ]
    },
    {
     "name": "stderr",
     "output_type": "stream",
     "text": [
      "C:\\Anaconda3\\envs\\nlp\\lib\\site-packages\\sklearn\\tree\\_classes.py:327: FutureWarning: The parameter 'presort' is deprecated and has no effect. It will be removed in v0.24. You can suppress this warning by not passing any value to the 'presort' parameter.\n",
      "  FutureWarning)\n"
     ]
    },
    {
     "data": {
      "text/plain": [
       "0.7150785150979874"
      ]
     },
     "execution_count": 72,
     "metadata": {},
     "output_type": "execute_result"
    }
   ],
   "source": [
    "start_time = time.time()\n",
    "\n",
    "X4 = d[['so2','no2','rspm','spm']]\n",
    "y4 = d['AQI_Range_val']\n",
    "\n",
    "X_train4, X_test4, y_train4, y_test4 = train_test_split(X4, y4, test_size=0.33, random_state=42)\n",
    "\n",
    "model04 = DecisionTreeClassifier(class_weight=None, criterion='gini', max_depth=5,\n",
    "            max_features=None, max_leaf_nodes=10, min_samples_leaf=5,\n",
    "            min_samples_split=2, min_weight_fraction_leaf=0.0,\n",
    "            presort=False, random_state=None, splitter='random')\n",
    "\n",
    "# criterion = \"gini\", splitter = 'random', max_leaf_nodes = 10, min_samples_leaf = 5, max_depth= 5\n",
    "\n",
    "model04.fit(X_train4,y_train4)\n",
    "\n",
    "get_t = (time.time() - start_time)\n",
    "print(\"Running Time: {}\".format(datetime.timedelta(seconds=get_t)))\n",
    "\n",
    "model04.score(X_test4,y_test4) "
   ]
  },
  {
   "cell_type": "markdown",
   "id": "superior-pharmaceutical",
   "metadata": {},
   "source": [
    "## 4) Naive Bayes"
   ]
  },
  {
   "cell_type": "code",
   "execution_count": 73,
   "id": "ceramic-philippines",
   "metadata": {},
   "outputs": [
    {
     "name": "stdout",
     "output_type": "stream",
     "text": [
      "Running Time: 0:00:00.175529\n",
      "0.8911498393535197\n",
      "0.3409391212428891\n"
     ]
    }
   ],
   "source": [
    "from sklearn.naive_bayes import GaussianNB\n",
    "from sklearn.naive_bayes import MultinomialNB\n",
    "\n",
    "start_time = time.time()\n",
    "\n",
    "X2 = d[['SOi','Noi','RSPMi','SPMi']]\n",
    "y2 = d['AQI_Range_val']\n",
    "\n",
    "X_train2, X_test2, y_train2, y_test2 = train_test_split(X2, y2, test_size=0.33, random_state=42)\n",
    "\n",
    "gnb = GaussianNB()\n",
    "mnb = MultinomialNB()\n",
    "\n",
    "gnb.fit(X_train2, y_train2)\n",
    "mnb.fit(X_train2, y_train2)\n",
    "\n",
    "\n",
    "get_t = (time.time() - start_time)\n",
    "print(\"Running Time: {}\".format(datetime.timedelta(seconds=get_t)))\n",
    "\n",
    "print(gnb.score(X_test2, y_test2))\n",
    "print(mnb.score(X_test2, y_test2))"
   ]
  },
  {
   "cell_type": "code",
   "execution_count": null,
   "id": "handled-james",
   "metadata": {},
   "outputs": [],
   "source": []
  },
  {
   "cell_type": "code",
   "execution_count": 74,
   "id": "golden-receptor",
   "metadata": {},
   "outputs": [
    {
     "name": "stdout",
     "output_type": "stream",
     "text": [
      "Running Time: 0:00:00.190464\n",
      "0.8794694083627852\n",
      "0.34871712489099005\n"
     ]
    }
   ],
   "source": [
    "start_time = time.time()\n",
    "\n",
    "X4 = d[['so2','no2','rspm','spm']]\n",
    "y4 = d['AQI_Range_val']\n",
    "\n",
    "X_train4, X_test4, y_train4, y_test4 = train_test_split(X4, y4, test_size=0.2, random_state=42)\n",
    "\n",
    "gnb = GaussianNB()\n",
    "mnb = MultinomialNB()\n",
    "\n",
    "gnb.fit(X_train4, y_train4)\n",
    "mnb.fit(X_train4, y_train4)\n",
    "\n",
    "get_t = (time.time() - start_time)\n",
    "print(\"Running Time: {}\".format(datetime.timedelta(seconds=get_t)))\n",
    "\n",
    "print(gnb.score(X_test4, y_test4))\n",
    "print(mnb.score(X_test4, y_test4))"
   ]
  },
  {
   "cell_type": "code",
   "execution_count": null,
   "id": "atomic-extension",
   "metadata": {},
   "outputs": [],
   "source": []
  },
  {
   "cell_type": "markdown",
   "id": "designed-duplicate",
   "metadata": {},
   "source": [
    "## 5) KNN"
   ]
  },
  {
   "cell_type": "code",
   "execution_count": 75,
   "id": "rolled-overhead",
   "metadata": {},
   "outputs": [
    {
     "name": "stdout",
     "output_type": "stream",
     "text": [
      "Running Time: 0:05:27.774342\n"
     ]
    }
   ],
   "source": [
    "start_time = time.time()\n",
    "\n",
    "X4 = d[['so2','no2','rspm','spm']]\n",
    "y4 = d['AQI_Range_val']\n",
    "\n",
    "X_train4, X_test4, y_train4, y_test4 = train_test_split(X4, y4, test_size=0.33, random_state=42)\n",
    "\n",
    "from sklearn.neighbors import KNeighborsClassifier\n",
    "\n",
    "accuracy_rate = []\n",
    "error_rate = []\n",
    "\n",
    "for i in range(1,20):\n",
    "    knn = KNeighborsClassifier(n_neighbors = i)\n",
    "    score = cross_val_score(knn, X_train4, y_train4, cv=10)\n",
    "    error_rate.append(1-score.mean())\n",
    "    accuracy_rate.append(score.mean())\n",
    "    \n",
    "    \n",
    "get_t = (time.time() - start_time)\n",
    "print(\"Running Time: {}\".format(datetime.timedelta(seconds=get_t)))"
   ]
  },
  {
   "cell_type": "code",
   "execution_count": 76,
   "id": "experimental-discovery",
   "metadata": {},
   "outputs": [
    {
     "data": {
      "text/plain": [
       "[0.00833376495976279,\n",
       " 0.009625103319611084,\n",
       " 0.007936427381288746,\n",
       " 0.008717401092734223,\n",
       " 0.007583622785853672,\n",
       " 0.00815222174547059,\n",
       " 0.00764869761237108,\n",
       " 0.008022059538447701,\n",
       " 0.007480858072794083,\n",
       " 0.007939850630778622,\n",
       " 0.007511684799924034,\n",
       " 0.007922723354592542,\n",
       " 0.007497984762345311,\n",
       " 0.007792561147569543,\n",
       " 0.0074877077396026115,\n",
       " 0.007638422232206232,\n",
       " 0.007391799850297587,\n",
       " 0.0076726737340766515,\n",
       " 0.007422625873465649]"
      ]
     },
     "execution_count": 76,
     "metadata": {},
     "output_type": "execute_result"
    }
   ],
   "source": [
    "error_rate"
   ]
  },
  {
   "cell_type": "code",
   "execution_count": 77,
   "id": "blond-newcastle",
   "metadata": {},
   "outputs": [
    {
     "data": {
      "text/plain": [
       "[0.9916662350402372,\n",
       " 0.9903748966803889,\n",
       " 0.9920635726187113,\n",
       " 0.9912825989072658,\n",
       " 0.9924163772141463,\n",
       " 0.9918477782545294,\n",
       " 0.9923513023876289,\n",
       " 0.9919779404615523,\n",
       " 0.9925191419272059,\n",
       " 0.9920601493692214,\n",
       " 0.992488315200076,\n",
       " 0.9920772766454075,\n",
       " 0.9925020152376547,\n",
       " 0.9922074388524305,\n",
       " 0.9925122922603974,\n",
       " 0.9923615777677938,\n",
       " 0.9926082001497024,\n",
       " 0.9923273262659233,\n",
       " 0.9925773741265344]"
      ]
     },
     "execution_count": 77,
     "metadata": {},
     "output_type": "execute_result"
    }
   ],
   "source": [
    "accuracy_rate"
   ]
  },
  {
   "cell_type": "code",
   "execution_count": 78,
   "id": "blind-segment",
   "metadata": {},
   "outputs": [
    {
     "data": {
      "text/plain": [
       "Text(0, 0.5, 'error_rate')"
      ]
     },
     "execution_count": 78,
     "metadata": {},
     "output_type": "execute_result"
    },
    {
     "data": {
      "image/png": "[encoded data removed]",
      "text/plain": [
       "<Figure size 720x432 with 1 Axes>"
      ]
     },
     "metadata": {
      "needs_background": "light"
     },
     "output_type": "display_data"
    }
   ],
   "source": [
    "plt.figure(figsize=(10,6))\n",
    "plt.plot(range(1,20), error_rate, color='blue', linestyle='dashed', marker='o', markerfacecolor = 'red', markersize=10)\n",
    "plt.title('error_Rate vs K-value')\n",
    "plt.xlabel('K')\n",
    "plt.ylabel('error_rate')"
   ]
  },
  {
   "cell_type": "code",
   "execution_count": 124,
   "id": "attractive-notification",
   "metadata": {},
   "outputs": [
    {
     "name": "stdout",
     "output_type": "stream",
     "text": [
      "0.9922458517045217\n"
     ]
    }
   ],
   "source": [
    "from sklearn.neighbors import KNeighborsClassifier\n",
    "\n",
    "knn_1 = KNeighborsClassifier(n_neighbors = 10)\n",
    "\n",
    "knn_1.fit(X_train4, y_train4)\n",
    "print(knn_1.score(X_test4, y_test4))"
   ]
  },
  {
   "cell_type": "code",
   "execution_count": null,
   "id": "violent-dakota",
   "metadata": {},
   "outputs": [],
   "source": []
  },
  {
   "cell_type": "code",
   "execution_count": 79,
   "id": "after-columbus",
   "metadata": {},
   "outputs": [
    {
     "name": "stdout",
     "output_type": "stream",
     "text": [
      "Running Time: 0:05:20.378135\n"
     ]
    }
   ],
   "source": [
    "start_time = time.time()\n",
    "\n",
    "X2 = d[['SOi','Noi','RSPMi','SPMi']]\n",
    "y2 = d['AQI_Range_val']\n",
    "\n",
    "X_train2, X_test2, y_train2, y_test2 = train_test_split(X2, y2, test_size=0.33, random_state=42)\n",
    "\n",
    "from sklearn.neighbors import KNeighborsClassifier\n",
    "\n",
    "accuracy_rate_1 = []\n",
    "error_rate_1 = []\n",
    "\n",
    "for i in range(1,20):\n",
    "    knn = KNeighborsClassifier(n_neighbors = i)\n",
    "    score = cross_val_score(knn, X_train2, y_train2, cv=10)\n",
    "    error_rate_1.append(1-score.mean())\n",
    "    accuracy_rate_1.append(score.mean())\n",
    "\n",
    "    \n",
    "get_t = (time.time() - start_time)\n",
    "print(\"Running Time: {}\".format(datetime.timedelta(seconds=get_t)))"
   ]
  },
  {
   "cell_type": "code",
   "execution_count": 80,
   "id": "increased-handling",
   "metadata": {},
   "outputs": [
    {
     "data": {
      "text/plain": [
       "Text(0, 0.5, 'error_rate')"
      ]
     },
     "execution_count": 80,
     "metadata": {},
     "output_type": "execute_result"
    },
    {
     "data": {
      "image/png": "[encoded data removed]",
      "text/plain": [
       "<Figure size 720x432 with 1 Axes>"
      ]
     },
     "metadata": {
      "needs_background": "light"
     },
     "output_type": "display_data"
    }
   ],
   "source": [
    "plt.figure(figsize=(10,6))\n",
    "plt.plot([i for i in range(1,20)], error_rate_1, color='blue', linestyle='dashed', marker='o', markerfacecolor = 'red', markersize=10)\n",
    "plt.title('error_Rate vs K-value')\n",
    "plt.xlabel('K')\n",
    "plt.ylabel('error_rate')"
   ]
  },
  {
   "cell_type": "code",
   "execution_count": 81,
   "id": "boxed-explorer",
   "metadata": {},
   "outputs": [
    {
     "data": {
      "text/plain": [
       "[0.9899946904845456,\n",
       " 0.9883094383823481,\n",
       " 0.9901693808642008,\n",
       " 0.9893986876953077,\n",
       " 0.9901693814508356,\n",
       " 0.9896829869404622,\n",
       " 0.9901077250634014,\n",
       " 0.9896350324678383,\n",
       " 0.9900049665686724,\n",
       " 0.9893336093489802,\n",
       " 0.9896384597064459,\n",
       " 0.9892342729304714,\n",
       " 0.989563100817566,\n",
       " 0.9891691909470074,\n",
       " 0.9894671933975694,\n",
       " 0.9891554910267557,\n",
       " 0.9894500682332691,\n",
       " 0.9890013538712973,\n",
       " 0.9893130556554757]"
      ]
     },
     "execution_count": 81,
     "metadata": {},
     "output_type": "execute_result"
    }
   ],
   "source": [
    "accuracy_rate_1"
   ]
  },
  {
   "cell_type": "code",
   "execution_count": 123,
   "id": "atomic-warner",
   "metadata": {},
   "outputs": [
    {
     "name": "stdout",
     "output_type": "stream",
     "text": [
      "0.9893945505375746\n"
     ]
    }
   ],
   "source": [
    "from sklearn.neighbors import KNeighborsClassifier\n",
    "\n",
    "knn_2 = KNeighborsClassifier(n_neighbors = 10)\n",
    "\n",
    "knn_2.fit(X_train2, y_train2)\n",
    "print(knn_2.score(X_test2, y_test2))"
   ]
  },
  {
   "cell_type": "markdown",
   "id": "great-mistress",
   "metadata": {},
   "source": [
    "## 6) SVM"
   ]
  },
  {
   "cell_type": "code",
   "execution_count": 82,
   "id": "sticky-second",
   "metadata": {},
   "outputs": [
    {
     "name": "stdout",
     "output_type": "stream",
     "text": [
      "Running Time: 0:03:07.798467\n"
     ]
    },
    {
     "data": {
      "text/plain": [
       "0.9815986758835556"
      ]
     },
     "execution_count": 82,
     "metadata": {},
     "output_type": "execute_result"
    }
   ],
   "source": [
    "from sklearn.pipeline import make_pipeline\n",
    "from sklearn.preprocessing import StandardScaler\n",
    "from sklearn.svm import SVC\n",
    "\n",
    "start_time = time.time()\n",
    "\n",
    "X4 = d[['so2','no2','rspm','spm']]\n",
    "y4 = d['AQI_Range_val']\n",
    "\n",
    "X_train4, X_test4, y_train4, y_test4 = train_test_split(X4, y4, test_size=0.33, random_state=42)\n",
    "\n",
    "clf = make_pipeline(StandardScaler(), SVC(gamma='auto'))\n",
    "clf.fit(X_train4, y_train4)\n",
    "\n",
    "get_t = (time.time() - start_time)\n",
    "print(\"Running Time: {}\".format(datetime.timedelta(seconds=get_t)))\n",
    "\n"
   ]
  },
  {
   "cell_type": "code",
   "execution_count": 140,
   "id": "worst-admission",
   "metadata": {},
   "outputs": [
    {
     "data": {
      "text/plain": [
       "0.501509103300555"
      ]
     },
     "execution_count": 140,
     "metadata": {},
     "output_type": "execute_result"
    }
   ],
   "source": [
    "clf.score(X_test4, y_test4)"
   ]
  },
  {
   "cell_type": "code",
   "execution_count": null,
   "id": "filled-thompson",
   "metadata": {},
   "outputs": [],
   "source": []
  },
  {
   "cell_type": "code",
   "execution_count": 142,
   "id": "classified-narrative",
   "metadata": {},
   "outputs": [
    {
     "name": "stdout",
     "output_type": "stream",
     "text": [
      "Running Time: 0:02:55.396739\n"
     ]
    }
   ],
   "source": [
    "X2 = d[['SOi','Noi','RSPMi','SPMi']]\n",
    "y2 = d['AQI_Range_val']\n",
    "\n",
    "start_time = time.time()\n",
    "\n",
    "X_train2, X_test2, y_train2, y_test2 = train_test_split(X2, y2, test_size=0.33, random_state=42)\n",
    "\n",
    "clf_1 = make_pipeline(StandardScaler(), SVC(gamma='auto'))\n",
    "clf_1.fit(X_train2, y_train2)\n",
    "\n",
    "get_t = (time.time() - start_time)\n",
    "print(\"Running Time: {}\".format(datetime.timedelta(seconds=get_t)))"
   ]
  },
  {
   "cell_type": "code",
   "execution_count": 143,
   "id": "northern-boutique",
   "metadata": {},
   "outputs": [
    {
     "data": {
      "text/plain": [
       "0.9793315437361781"
      ]
     },
     "execution_count": 143,
     "metadata": {},
     "output_type": "execute_result"
    }
   ],
   "source": [
    "clf_1.score(X_test2, y_test2)"
   ]
  },
  {
   "cell_type": "markdown",
   "id": "surrounded-trader",
   "metadata": {},
   "source": [
    "## 7) Catboost Classifier"
   ]
  },
  {
   "cell_type": "code",
   "execution_count": 84,
   "id": "convenient-minimum",
   "metadata": {},
   "outputs": [],
   "source": [
    "from catboost import CatBoostClassifier, Pool, cv\n",
    "from sklearn.metrics import accuracy_score"
   ]
  },
  {
   "cell_type": "code",
   "execution_count": 85,
   "id": "electrical-trunk",
   "metadata": {},
   "outputs": [
    {
     "name": "stdout",
     "output_type": "stream",
     "text": [
      "Running Time: 0:00:59.232519\n",
      "Accuracy for validation: 0.9935\n"
     ]
    }
   ],
   "source": [
    "start_time = time.time()\n",
    "\n",
    "X2 = d[['SOi','Noi','RSPMi','SPMi']]\n",
    "y2 = d['AQI_Range_val']\n",
    "\n",
    "X_train2, X_test2, y_train2, y_test2 = train_test_split(X2, y2, test_size=0.33, random_state=42)\n",
    "\n",
    "\n",
    "params = {'iterations': 500,\n",
    "          'learning_rate': 0.1,\n",
    "          'eval_metric': 'Accuracy',\n",
    "          'random_seed': 42,\n",
    "          'logging_level': 'Silent',\n",
    "          'use_best_model': True}\n",
    "\n",
    "categorical_feature_indices = np.where(X_train2.dtypes != np.float)[0]\n",
    "\n",
    "train_pool = Pool(X_train2, y_train2, cat_features = categorical_feature_indices)\n",
    "test_pool = Pool(X_test2, y_test2, cat_features = categorical_feature_indices)\n",
    "\n",
    "model = CatBoostClassifier(**params)\n",
    "model.fit(train_pool, eval_set=test_pool)\n",
    "\n",
    "get_t = (time.time() - start_time)\n",
    "print(\"Running Time: {}\".format(datetime.timedelta(seconds=get_t)))\n",
    "\n",
    "print('Accuracy for validation: {:.4}'.format(accuracy_score(y_test2, model.predict(X_test2))))"
   ]
  },
  {
   "cell_type": "code",
   "execution_count": null,
   "id": "delayed-caution",
   "metadata": {},
   "outputs": [],
   "source": []
  },
  {
   "cell_type": "code",
   "execution_count": 86,
   "id": "hearing-wales",
   "metadata": {},
   "outputs": [
    {
     "name": "stdout",
     "output_type": "stream",
     "text": [
      "Running Time: 0:01:08.783671\n",
      "Accuracy for validation: 0.9943\n"
     ]
    }
   ],
   "source": [
    "start_time = time.time()\n",
    "\n",
    "X4 = d[['so2','no2','rspm','spm']]\n",
    "y4 = d['AQI_Range_val']\n",
    "\n",
    "X_train4, X_test4, y_train4, y_test4 = train_test_split(X4, y4, test_size=0.2, random_state=42)\n",
    "\n",
    "params = {'iterations': 500,\n",
    "          'learning_rate': 0.1,\n",
    "          'eval_metric': 'Accuracy',\n",
    "          'random_seed': 42,\n",
    "          'logging_level': 'Silent',\n",
    "          'use_best_model': True}\n",
    "\n",
    "categorical_feature_indices = np.where(X_train4.dtypes != np.float)[0]\n",
    "\n",
    "train_pool = Pool(X_train4, y_train4, cat_features = categorical_feature_indices)\n",
    "test_pool = Pool(X_test4, y_test4, cat_features = categorical_feature_indices)\n",
    "\n",
    "model_1 = CatBoostClassifier(**params)\n",
    "model_1.fit(train_pool, eval_set=test_pool)\n",
    "\n",
    "get_t = (time.time() - start_time)\n",
    "print(\"Running Time: {}\".format(datetime.timedelta(seconds=get_t)))\n",
    "\n",
    "print('Accuracy for validation: {:.4}'.format(accuracy_score(y_test4, model_1.predict(X_test4))))"
   ]
  },
  {
   "cell_type": "markdown",
   "id": "ceramic-waterproof",
   "metadata": {},
   "source": [
    "## 8) Passiveaggressiveclassifier"
   ]
  },
  {
   "cell_type": "code",
   "execution_count": 87,
   "id": "checked-bradley",
   "metadata": {},
   "outputs": [
    {
     "name": "stdout",
     "output_type": "stream",
     "text": [
      "[[ 0.02651598  0.01573036 -0.01489775  0.01796393]\n",
      " [ 0.02239908  0.00580203 -0.01377175 -0.01295742]\n",
      " [-0.00142789 -0.00078267  0.01919417  0.00025276]\n",
      " [-0.005243   -0.00349987 -0.00583633  0.0062359 ]\n",
      " [-0.00594763 -0.00316875 -0.00058546  0.01164041]\n",
      " [ 0.0005352  -0.041489   -0.04193447 -0.0746059 ]]\n",
      "[-1.10017622  0.83003833 -2.21695653 -2.07852732 -3.48549157  5.56235967]\n",
      "Running Time: 0:00:02.649942\n",
      "Accuracy_score: 0.5304602417347039\n"
     ]
    }
   ],
   "source": [
    "start_time = time.time()\n",
    "\n",
    "X2 = d[['SOi','Noi','RSPMi','SPMi']]\n",
    "y2 = d['AQI_Range_val']\n",
    "\n",
    "X_train2, X_test2, y_train2, y_test2 = train_test_split(X2, y2, test_size=0.33, random_state=42)\n",
    "\n",
    "from sklearn.linear_model import PassiveAggressiveClassifier\n",
    "\n",
    "clf = PassiveAggressiveClassifier(max_iter=1000, random_state=42, tol=1e-3)\n",
    "clf.fit(X_train2, y_train2)\n",
    "\n",
    "print(clf.coef_)\n",
    "print(clf.intercept_)\n",
    "\n",
    "get_t = (time.time() - start_time)\n",
    "print(\"Running Time: {}\".format(datetime.timedelta(seconds=get_t)))\n",
    "\n",
    "print('Accuracy_score: {}'.format(accuracy_score(y_test2, clf.predict(X_test2))))"
   ]
  },
  {
   "cell_type": "code",
   "execution_count": 88,
   "id": "cooked-appliance",
   "metadata": {},
   "outputs": [
    {
     "name": "stdout",
     "output_type": "stream",
     "text": [
      "[[ 0.02214181  0.01870876 -0.00738989  0.01250523]\n",
      " [ 0.02176424  0.0091172  -0.0046759  -0.01440901]\n",
      " [ 0.00016782 -0.00225745  0.01605261  0.00168825]\n",
      " [-0.01200014 -0.00312424 -0.00601669  0.00591388]\n",
      " [-0.00900007  0.00075468  0.00069811  0.00585256]\n",
      " [-0.00273539 -0.04382134 -0.04195347 -0.07785055]]\n",
      "[-1.09851839  0.63023802 -2.19757668 -1.87448455 -3.26041895  5.62056021]\n",
      "Running Time: 0:00:02.535218\n",
      "Accuracy_score: 0.5176919760212526\n"
     ]
    }
   ],
   "source": [
    "start_time = time.time()\n",
    "\n",
    "X4 = d[['so2','no2','rspm','spm']]\n",
    "y4 = d['AQI_Range_val']\n",
    "\n",
    "X_train4, X_test4, y_train4, y_test4 = train_test_split(X4, y4, test_size=0.33, random_state=42)\n",
    "\n",
    "clf_1 = PassiveAggressiveClassifier(max_iter=1000, random_state=42, tol=1e-3)\n",
    "clf_1.fit(X_train4, y_train4)\n",
    "\n",
    "print(clf_1.coef_)\n",
    "print(clf_1.intercept_)\n",
    "\n",
    "get_t = (time.time() - start_time)\n",
    "print(\"Running Time: {}\".format(datetime.timedelta(seconds=get_t)))\n",
    "\n",
    "print('Accuracy_score: {}'.format(accuracy_score(y_test4, clf_1.predict(X_test4))))"
   ]
  },
  {
   "cell_type": "code",
   "execution_count": null,
   "id": "weekly-frederick",
   "metadata": {},
   "outputs": [],
   "source": []
  },
  {
   "cell_type": "markdown",
   "id": "imported-consensus",
   "metadata": {},
   "source": [
    "## FINAL TABLE FOR ACCURACY SCORE OF ALL THE MODELS"
   ]
  },
  {
   "cell_type": "code",
   "execution_count": 129,
   "id": "referenced-practice",
   "metadata": {},
   "outputs": [
    {
     "data": {
      "text/html": [
       "<div>\n",
       "<style scoped>\n",
       "    .dataframe tbody tr th:only-of-type {\n",
       "        vertical-align: middle;\n",
       "    }\n",
       "\n",
       "    .dataframe tbody tr th {\n",
       "        vertical-align: top;\n",
       "    }\n",
       "\n",
       "    .dataframe thead th {\n",
       "        text-align: right;\n",
       "    }\n",
       "</style>\n",
       "<table border=\"1\" class=\"dataframe\">\n",
       "  <thead>\n",
       "    <tr style=\"text-align: right;\">\n",
       "      <th></th>\n",
       "      <th>accuracy</th>\n",
       "    </tr>\n",
       "  </thead>\n",
       "  <tbody>\n",
       "    <tr>\n",
       "      <th>logistic_regression_1</th>\n",
       "      <td>NaN</td>\n",
       "    </tr>\n",
       "    <tr>\n",
       "      <th>logistic_regression_2</th>\n",
       "      <td>NaN</td>\n",
       "    </tr>\n",
       "    <tr>\n",
       "      <th>decision_tree_1</th>\n",
       "      <td>NaN</td>\n",
       "    </tr>\n",
       "    <tr>\n",
       "      <th>decision_tree_2</th>\n",
       "      <td>NaN</td>\n",
       "    </tr>\n",
       "    <tr>\n",
       "      <th>random_forest_1</th>\n",
       "      <td>NaN</td>\n",
       "    </tr>\n",
       "    <tr>\n",
       "      <th>random_forest_2</th>\n",
       "      <td>NaN</td>\n",
       "    </tr>\n",
       "    <tr>\n",
       "      <th>svr_1</th>\n",
       "      <td>NaN</td>\n",
       "    </tr>\n",
       "    <tr>\n",
       "      <th>svr_2</th>\n",
       "      <td>NaN</td>\n",
       "    </tr>\n",
       "    <tr>\n",
       "      <th>KNN_1</th>\n",
       "      <td>NaN</td>\n",
       "    </tr>\n",
       "    <tr>\n",
       "      <th>KNN_2</th>\n",
       "      <td>NaN</td>\n",
       "    </tr>\n",
       "    <tr>\n",
       "      <th>naive_bayes_1</th>\n",
       "      <td>NaN</td>\n",
       "    </tr>\n",
       "    <tr>\n",
       "      <th>naive_bayes_2</th>\n",
       "      <td>NaN</td>\n",
       "    </tr>\n",
       "    <tr>\n",
       "      <th>catboost_1</th>\n",
       "      <td>NaN</td>\n",
       "    </tr>\n",
       "    <tr>\n",
       "      <th>catboost_2</th>\n",
       "      <td>NaN</td>\n",
       "    </tr>\n",
       "    <tr>\n",
       "      <th>Passiveaggressiveclassifier_1</th>\n",
       "      <td>NaN</td>\n",
       "    </tr>\n",
       "    <tr>\n",
       "      <th>Passiveaggressiveclassifier_2</th>\n",
       "      <td>NaN</td>\n",
       "    </tr>\n",
       "  </tbody>\n",
       "</table>\n",
       "</div>"
      ],
      "text/plain": [
       "                              accuracy\n",
       "logistic_regression_1              NaN\n",
       "logistic_regression_2              NaN\n",
       "decision_tree_1                    NaN\n",
       "decision_tree_2                    NaN\n",
       "random_forest_1                    NaN\n",
       "random_forest_2                    NaN\n",
       "svr_1                              NaN\n",
       "svr_2                              NaN\n",
       "KNN_1                              NaN\n",
       "KNN_2                              NaN\n",
       "naive_bayes_1                      NaN\n",
       "naive_bayes_2                      NaN\n",
       "catboost_1                         NaN\n",
       "catboost_2                         NaN\n",
       "Passiveaggressiveclassifier_1      NaN\n",
       "Passiveaggressiveclassifier_2      NaN"
      ]
     },
     "execution_count": 129,
     "metadata": {},
     "output_type": "execute_result"
    }
   ],
   "source": [
    "ind = ['logistic_regression_1', 'logistic_regression_2', 'decision_tree_1', 'decision_tree_2', 'random_forest_1', 'random_forest_2',\n",
    "        'svr_1', 'svr_2', 'KNN_1', 'KNN_2', 'naive_bayes_1', 'naive_bayes_2', 'catboost_1', 'catboost_2', 'Passiveaggressiveclassifier_1',\n",
    "        'Passiveaggressiveclassifier_2']\n",
    "col = ['accuracy']\n",
    "\n",
    "final_table = pd.DataFrame(index = ind, columns = col)"
   ]
  },
  {
   "cell_type": "code",
   "execution_count": 144,
   "id": "aquatic-projector",
   "metadata": {},
   "outputs": [],
   "source": [
    "final_table['accuracy']['logistic_regression_1'] = logmodel2.score(X_test3,y_test3)\n",
    "final_table['accuracy']['logistic_regression_2'] = logmodel2.score(X_test2,y_test2)\n",
    "final_table['accuracy']['decision_tree_1'] = model04.score(X_test4,y_test4) \n",
    "final_table['accuracy']['decision_tree_2'] = model03.score(X_test2,y_test2) \n",
    "final_table['accuracy']['random_forest_1'] = model02.score(X_test4,y_test4)\n",
    "final_table['accuracy']['random_forest_2'] = model01.score(X_test2,y_test2)\n",
    "final_table['accuracy']['svr_1'] = clf.score(X_test4, y_test4)\n",
    "final_table['accuracy']['svr_2'] = clf_1.score(X_test2, y_test2)\n",
    "final_table['accuracy']['KNN_1'] = knn_1.score(X_test4, y_test4)\n",
    "final_table['accuracy']['KNN_2'] = knn_2.score(X_test2, y_test2)\n",
    "final_table['accuracy']['naive_bayes_1'] = mnb.score(X_test4, y_test4)\n",
    "final_table['accuracy']['naive_bayes_2'] = mnb.score(X_test2, y_test2)\n",
    "final_table['accuracy']['catboost_1'] = 0.9943\n",
    "final_table['accuracy']['catboost_2'] = 0.9935\n",
    "final_table['accuracy']['Passiveaggressiveclassifier_1'] = accuracy_score(y_test4, clf_1.predict(X_test4))\n",
    "final_table['accuracy']['Passiveaggressiveclassifier_2'] = accuracy_score(y_test2, clf.predict(X_test2))"
   ]
  },
  {
   "cell_type": "code",
   "execution_count": 145,
   "id": "outside-worthy",
   "metadata": {},
   "outputs": [
    {
     "data": {
      "text/html": [
       "<div>\n",
       "<style scoped>\n",
       "    .dataframe tbody tr th:only-of-type {\n",
       "        vertical-align: middle;\n",
       "    }\n",
       "\n",
       "    .dataframe tbody tr th {\n",
       "        vertical-align: top;\n",
       "    }\n",
       "\n",
       "    .dataframe thead th {\n",
       "        text-align: right;\n",
       "    }\n",
       "</style>\n",
       "<table border=\"1\" class=\"dataframe\">\n",
       "  <thead>\n",
       "    <tr style=\"text-align: right;\">\n",
       "      <th></th>\n",
       "      <th>accuracy</th>\n",
       "    </tr>\n",
       "  </thead>\n",
       "  <tbody>\n",
       "    <tr>\n",
       "      <th>logistic_regression_1</th>\n",
       "      <td>0.454428</td>\n",
       "    </tr>\n",
       "    <tr>\n",
       "      <th>logistic_regression_2</th>\n",
       "      <td>0.462641</td>\n",
       "    </tr>\n",
       "    <tr>\n",
       "      <th>decision_tree_1</th>\n",
       "      <td>0.715079</td>\n",
       "    </tr>\n",
       "    <tr>\n",
       "      <th>decision_tree_2</th>\n",
       "      <td>0.581679</td>\n",
       "    </tr>\n",
       "    <tr>\n",
       "      <th>random_forest_1</th>\n",
       "      <td>0.996509</td>\n",
       "    </tr>\n",
       "    <tr>\n",
       "      <th>random_forest_2</th>\n",
       "      <td>0.997037</td>\n",
       "    </tr>\n",
       "    <tr>\n",
       "      <th>svr_1</th>\n",
       "      <td>0.501509</td>\n",
       "    </tr>\n",
       "    <tr>\n",
       "      <th>svr_2</th>\n",
       "      <td>0.979332</td>\n",
       "    </tr>\n",
       "    <tr>\n",
       "      <th>KNN_1</th>\n",
       "      <td>0.992246</td>\n",
       "    </tr>\n",
       "    <tr>\n",
       "      <th>KNN_2</th>\n",
       "      <td>0.989395</td>\n",
       "    </tr>\n",
       "    <tr>\n",
       "      <th>naive_bayes_1</th>\n",
       "      <td>0.347414</td>\n",
       "    </tr>\n",
       "    <tr>\n",
       "      <th>naive_bayes_2</th>\n",
       "      <td>0.289553</td>\n",
       "    </tr>\n",
       "    <tr>\n",
       "      <th>catboost_1</th>\n",
       "      <td>0.9943</td>\n",
       "    </tr>\n",
       "    <tr>\n",
       "      <th>catboost_2</th>\n",
       "      <td>0.9935</td>\n",
       "    </tr>\n",
       "    <tr>\n",
       "      <th>Passiveaggressiveclassifier_1</th>\n",
       "      <td>0.772682</td>\n",
       "    </tr>\n",
       "    <tr>\n",
       "      <th>Passiveaggressiveclassifier_2</th>\n",
       "      <td>0.53046</td>\n",
       "    </tr>\n",
       "  </tbody>\n",
       "</table>\n",
       "</div>"
      ],
      "text/plain": [
       "                               accuracy\n",
       "logistic_regression_1          0.454428\n",
       "logistic_regression_2          0.462641\n",
       "decision_tree_1                0.715079\n",
       "decision_tree_2                0.581679\n",
       "random_forest_1                0.996509\n",
       "random_forest_2                0.997037\n",
       "svr_1                          0.501509\n",
       "svr_2                          0.979332\n",
       "KNN_1                          0.992246\n",
       "KNN_2                          0.989395\n",
       "naive_bayes_1                  0.347414\n",
       "naive_bayes_2                  0.289553\n",
       "catboost_1                       0.9943\n",
       "catboost_2                       0.9935\n",
       "Passiveaggressiveclassifier_1  0.772682\n",
       "Passiveaggressiveclassifier_2   0.53046"
      ]
     },
     "execution_count": 145,
     "metadata": {},
     "output_type": "execute_result"
    }
   ],
   "source": [
    "final_table.head(20)"
   ]
  },
  {
   "cell_type": "code",
   "execution_count": null,
   "id": "turkish-drinking",
   "metadata": {},
   "outputs": [],
   "source": []
  }
 ],
 "metadata": {
  "kernelspec": {
   "display_name": "Python 3",
   "language": "python",
   "name": "python3"
  },
  "language_info": {
   "codemirror_mode": {
    "name": "ipython",
    "version": 3
   },
   "file_extension": ".py",
   "mimetype": "text/x-python",
   "name": "python",
   "nbconvert_exporter": "python",
   "pygments_lexer": "ipython3",
   "version": "3.6.12"
  }
 },
 "nbformat": 4,
 "nbformat_minor": 5
}
